{
 "cells": [
  {
   "cell_type": "code",
   "execution_count": 1,
   "id": "3052117f",
   "metadata": {},
   "outputs": [],
   "source": [
    "import pandas as pd\n",
    "import spacy\n",
    "from spacy.tokens import Doc\n",
    "from spacy.vocab import Vocab\n",
    "from spacy.training import Example\n",
    "import random\n",
    "import torch\n",
    "import numpy as np\n",
    "from spacy.util import minibatch, compounding\n",
    "from spacy import displacy\n",
    "from spacy import __version__ as spacy_version\n"
   ]
  },
  {
   "cell_type": "code",
   "execution_count": 2,
   "id": "3194149b",
   "metadata": {},
   "outputs": [],
   "source": [
    "# Load data from Excel sheet\n",
    "df = pd.read_excel('Copy of MasterList (5).xlsx')\n",
    "texts = df['Text'].tolist()\n",
    "labels = df['Name'].tolist()\n",
    "texts = [text for text in texts if text.strip()]\n",
    "labels = [label for label in labels if label.strip()]"
   ]
  },
  {
   "cell_type": "code",
   "execution_count": 3,
   "id": "2d95fcf9",
   "metadata": {},
   "outputs": [
    {
     "data": {
      "text/html": [
       "<div>\n",
       "<style scoped>\n",
       "    .dataframe tbody tr th:only-of-type {\n",
       "        vertical-align: middle;\n",
       "    }\n",
       "\n",
       "    .dataframe tbody tr th {\n",
       "        vertical-align: top;\n",
       "    }\n",
       "\n",
       "    .dataframe thead th {\n",
       "        text-align: right;\n",
       "    }\n",
       "</style>\n",
       "<table border=\"1\" class=\"dataframe\">\n",
       "  <thead>\n",
       "    <tr style=\"text-align: right;\">\n",
       "      <th></th>\n",
       "      <th>Text</th>\n",
       "      <th>Name</th>\n",
       "      <th>Interest</th>\n",
       "    </tr>\n",
       "  </thead>\n",
       "  <tbody>\n",
       "    <tr>\n",
       "      <th>0</th>\n",
       "      <td>Dr. Yue Cao is a highly respected radiologist ...</td>\n",
       "      <td>Yue Cao</td>\n",
       "      <td>tumor ;; tissue therapy;;</td>\n",
       "    </tr>\n",
       "    <tr>\n",
       "      <th>1</th>\n",
       "      <td>Dr. Bensheng Qiu is a renowned radiologist kno...</td>\n",
       "      <td>Bensheng Qiu</td>\n",
       "      <td>radiology;;cancers;;</td>\n",
       "    </tr>\n",
       "    <tr>\n",
       "      <th>2</th>\n",
       "      <td>Dr. Robert Fleck began his academic journey wi...</td>\n",
       "      <td>Robert Fleck J</td>\n",
       "      <td>cancer ;;diagnosis;;</td>\n",
       "    </tr>\n",
       "    <tr>\n",
       "      <th>3</th>\n",
       "      <td>Dr. Holden Wu is a renowned radiologist who ha...</td>\n",
       "      <td>Holden Wu</td>\n",
       "      <td>novel imaging modalities;;cardiac magnetic res...</td>\n",
       "    </tr>\n",
       "    <tr>\n",
       "      <th>4</th>\n",
       "      <td>Dr. William Hyslop is a renowned radiologist w...</td>\n",
       "      <td>William Hyslop</td>\n",
       "      <td>MRI;;PET;;CT;;radiology;;diagnosis;;</td>\n",
       "    </tr>\n",
       "    <tr>\n",
       "      <th>...</th>\n",
       "      <td>...</td>\n",
       "      <td>...</td>\n",
       "      <td>...</td>\n",
       "    </tr>\n",
       "    <tr>\n",
       "      <th>96</th>\n",
       "      <td>Dr. Claude Sirlin is a highly accomplished rad...</td>\n",
       "      <td>Claude Sirlin</td>\n",
       "      <td>MRI imaging;;liver cancer;; liver disease;;</td>\n",
       "    </tr>\n",
       "    <tr>\n",
       "      <th>97</th>\n",
       "      <td>Dr. Martin Prince is a renowned radiologist wh...</td>\n",
       "      <td>Martin Prince</td>\n",
       "      <td>gadolinium-enhanced MR Angiography;; Investig...</td>\n",
       "    </tr>\n",
       "    <tr>\n",
       "      <th>98</th>\n",
       "      <td>Dr. Scott Reeder is a renowned radiologist kno...</td>\n",
       "      <td>Scott Reeder</td>\n",
       "      <td>abdominal adiposity;; liver fat;; liver iron;;...</td>\n",
       "    </tr>\n",
       "    <tr>\n",
       "      <th>99</th>\n",
       "      <td>Dr. David Bluemke is a renowned radiologist kn...</td>\n",
       "      <td>David Bluemke</td>\n",
       "      <td>diagnosis;;cardiovascular diseases;; coronary...</td>\n",
       "    </tr>\n",
       "    <tr>\n",
       "      <th>100</th>\n",
       "      <td>Dr. David Nascene is a renowned radiologist kn...</td>\n",
       "      <td>David Nascene</td>\n",
       "      <td>MRI;;CT;;diagnosing;; cancer;; cardiovascular...</td>\n",
       "    </tr>\n",
       "  </tbody>\n",
       "</table>\n",
       "<p>101 rows × 3 columns</p>\n",
       "</div>"
      ],
      "text/plain": [
       "                                                  Text            Name  \\\n",
       "0    Dr. Yue Cao is a highly respected radiologist ...         Yue Cao   \n",
       "1    Dr. Bensheng Qiu is a renowned radiologist kno...    Bensheng Qiu   \n",
       "2    Dr. Robert Fleck began his academic journey wi...  Robert Fleck J   \n",
       "3    Dr. Holden Wu is a renowned radiologist who ha...       Holden Wu   \n",
       "4    Dr. William Hyslop is a renowned radiologist w...  William Hyslop   \n",
       "..                                                 ...             ...   \n",
       "96   Dr. Claude Sirlin is a highly accomplished rad...   Claude Sirlin   \n",
       "97   Dr. Martin Prince is a renowned radiologist wh...   Martin Prince   \n",
       "98   Dr. Scott Reeder is a renowned radiologist kno...    Scott Reeder   \n",
       "99   Dr. David Bluemke is a renowned radiologist kn...   David Bluemke   \n",
       "100  Dr. David Nascene is a renowned radiologist kn...   David Nascene   \n",
       "\n",
       "                                              Interest  \n",
       "0                            tumor ;; tissue therapy;;  \n",
       "1                                 radiology;;cancers;;  \n",
       "2                                 cancer ;;diagnosis;;  \n",
       "3    novel imaging modalities;;cardiac magnetic res...  \n",
       "4                MRI;;PET;;CT;;radiology;;diagnosis;;   \n",
       "..                                                 ...  \n",
       "96         MRI imaging;;liver cancer;; liver disease;;  \n",
       "97    gadolinium-enhanced MR Angiography;; Investig...  \n",
       "98   abdominal adiposity;; liver fat;; liver iron;;...  \n",
       "99    diagnosis;;cardiovascular diseases;; coronary...  \n",
       "100   MRI;;CT;;diagnosing;; cancer;; cardiovascular...  \n",
       "\n",
       "[101 rows x 3 columns]"
      ]
     },
     "execution_count": 3,
     "metadata": {},
     "output_type": "execute_result"
    }
   ],
   "source": [
    "df"
   ]
  },
  {
   "cell_type": "code",
   "execution_count": 4,
   "id": "1c5f13bd",
   "metadata": {},
   "outputs": [],
   "source": [
    "# Set up blank Spacy model\n",
    "nlp = spacy.blank('en')\n",
    "vocab = Vocab()\n",
    "nlp.vocab = vocab"
   ]
  },
  {
   "cell_type": "code",
   "execution_count": 5,
   "id": "f8f4ceab",
   "metadata": {},
   "outputs": [],
   "source": [
    "# Define your BiLSTM model architecture\n",
    "class BiLSTMModel(torch.nn.Module):\n",
    "    def __init__(self, input_dim, hidden_dim, output_dim):\n",
    "        super(BiLSTMModel, self).__init__()\n",
    "        self.hidden_dim = hidden_dim\n",
    "        self.lstm = torch.nn.LSTM(input_dim, hidden_dim, bidirectional=True)\n",
    "        self.fc = torch.nn.Linear(hidden_dim * 2, output_dim)\n",
    "        \n",
    "    def forward(self, input):\n",
    "        lstm_out, _ = self.lstm(input.view(len(input), 1, -1))\n",
    "        out = self.fc(torch.cat((lstm_out[-1,:, :self.hidden_dim], lstm_out[0,:, self.hidden_dim:]), dim=1))\n",
    "        return out\n"
   ]
  },
  {
   "cell_type": "code",
   "execution_count": 6,
   "id": "11124811",
   "metadata": {},
   "outputs": [
    {
     "name": "stderr",
     "output_type": "stream",
     "text": [
      "C:\\Users\\thiru\\anaconda3\\lib\\site-packages\\torch\\nn\\init.py:405: UserWarning: Initializing zero-element tensors is a no-op\n",
      "  warnings.warn(\"Initializing zero-element tensors is a no-op\")\n"
     ]
    }
   ],
   "source": [
    "\n",
    "# Set up your training hyperparameters\n",
    "epochs = 10\n",
    "learning_rate = 0.001\n",
    "batch_size = 8\n",
    "dropout = 0.2\n",
    "input_dim = 300\n",
    "hidden_dim = 128\n",
    "output_dim = nlp.vocab.vectors_length\n",
    "\n",
    "# Initialize your model\n",
    "model = BiLSTMModel(input_dim, hidden_dim, output_dim)\n",
    "optimizer = torch.optim.Adam(model.parameters(), lr=learning_rate)\n",
    "loss_fn = torch.nn.MSELoss()"
   ]
  },
  {
   "cell_type": "code",
   "execution_count": 7,
   "id": "982a2f82",
   "metadata": {},
   "outputs": [
    {
     "ename": "ValueError",
     "evalue": "[E031] Invalid token: empty string ('') at position 119.",
     "output_type": "error",
     "traceback": [
      "\u001b[1;31m---------------------------------------------------------------------------\u001b[0m",
      "\u001b[1;31mValueError\u001b[0m                                Traceback (most recent call last)",
      "\u001b[1;32m~\\AppData\\Local\\Temp\\ipykernel_11552\\1356176795.py\u001b[0m in \u001b[0;36m<module>\u001b[1;34m\u001b[0m\n\u001b[0;32m      6\u001b[0m     \u001b[1;32mfor\u001b[0m \u001b[0mbatch\u001b[0m \u001b[1;32min\u001b[0m \u001b[0mbatches\u001b[0m\u001b[1;33m:\u001b[0m\u001b[1;33m\u001b[0m\u001b[1;33m\u001b[0m\u001b[0m\n\u001b[0;32m      7\u001b[0m         \u001b[0mtexts\u001b[0m\u001b[1;33m,\u001b[0m \u001b[0mlabels\u001b[0m \u001b[1;33m=\u001b[0m \u001b[0mzip\u001b[0m\u001b[1;33m(\u001b[0m\u001b[1;33m*\u001b[0m\u001b[0mbatch\u001b[0m\u001b[1;33m)\u001b[0m\u001b[1;33m\u001b[0m\u001b[1;33m\u001b[0m\u001b[0m\n\u001b[1;32m----> 8\u001b[1;33m         \u001b[0mdocs\u001b[0m \u001b[1;33m=\u001b[0m \u001b[1;33m[\u001b[0m\u001b[0mDoc\u001b[0m\u001b[1;33m(\u001b[0m\u001b[0mnlp\u001b[0m\u001b[1;33m.\u001b[0m\u001b[0mvocab\u001b[0m\u001b[1;33m,\u001b[0m \u001b[0mwords\u001b[0m\u001b[1;33m=\u001b[0m\u001b[0mtext\u001b[0m\u001b[1;33m.\u001b[0m\u001b[0msplit\u001b[0m\u001b[1;33m(\u001b[0m\u001b[1;34m' '\u001b[0m\u001b[1;33m)\u001b[0m\u001b[1;33m)\u001b[0m \u001b[1;32mfor\u001b[0m \u001b[0mtext\u001b[0m \u001b[1;32min\u001b[0m \u001b[0mtexts\u001b[0m\u001b[1;33m]\u001b[0m\u001b[1;33m\u001b[0m\u001b[1;33m\u001b[0m\u001b[0m\n\u001b[0m\u001b[0;32m      9\u001b[0m         \u001b[0mX\u001b[0m \u001b[1;33m=\u001b[0m \u001b[0mtorch\u001b[0m\u001b[1;33m.\u001b[0m\u001b[0mFloatTensor\u001b[0m\u001b[1;33m(\u001b[0m\u001b[1;33m[\u001b[0m\u001b[0mdoc\u001b[0m\u001b[1;33m.\u001b[0m\u001b[0mvector\u001b[0m \u001b[1;32mfor\u001b[0m \u001b[0mdoc\u001b[0m \u001b[1;32min\u001b[0m \u001b[0mdocs\u001b[0m\u001b[1;33m]\u001b[0m\u001b[1;33m)\u001b[0m\u001b[1;33m\u001b[0m\u001b[1;33m\u001b[0m\u001b[0m\n\u001b[0;32m     10\u001b[0m         \u001b[0my\u001b[0m \u001b[1;33m=\u001b[0m \u001b[0mtorch\u001b[0m\u001b[1;33m.\u001b[0m\u001b[0mFloatTensor\u001b[0m\u001b[1;33m(\u001b[0m\u001b[1;33m[\u001b[0m\u001b[0mnp\u001b[0m\u001b[1;33m.\u001b[0m\u001b[0masarray\u001b[0m\u001b[1;33m(\u001b[0m\u001b[0mlabel\u001b[0m\u001b[1;33m)\u001b[0m \u001b[1;32mfor\u001b[0m \u001b[0mlabel\u001b[0m \u001b[1;32min\u001b[0m \u001b[0mlabels\u001b[0m\u001b[1;33m]\u001b[0m\u001b[1;33m)\u001b[0m\u001b[1;33m\u001b[0m\u001b[1;33m\u001b[0m\u001b[0m\n",
      "\u001b[1;32m~\\AppData\\Local\\Temp\\ipykernel_11552\\1356176795.py\u001b[0m in \u001b[0;36m<listcomp>\u001b[1;34m(.0)\u001b[0m\n\u001b[0;32m      6\u001b[0m     \u001b[1;32mfor\u001b[0m \u001b[0mbatch\u001b[0m \u001b[1;32min\u001b[0m \u001b[0mbatches\u001b[0m\u001b[1;33m:\u001b[0m\u001b[1;33m\u001b[0m\u001b[1;33m\u001b[0m\u001b[0m\n\u001b[0;32m      7\u001b[0m         \u001b[0mtexts\u001b[0m\u001b[1;33m,\u001b[0m \u001b[0mlabels\u001b[0m \u001b[1;33m=\u001b[0m \u001b[0mzip\u001b[0m\u001b[1;33m(\u001b[0m\u001b[1;33m*\u001b[0m\u001b[0mbatch\u001b[0m\u001b[1;33m)\u001b[0m\u001b[1;33m\u001b[0m\u001b[1;33m\u001b[0m\u001b[0m\n\u001b[1;32m----> 8\u001b[1;33m         \u001b[0mdocs\u001b[0m \u001b[1;33m=\u001b[0m \u001b[1;33m[\u001b[0m\u001b[0mDoc\u001b[0m\u001b[1;33m(\u001b[0m\u001b[0mnlp\u001b[0m\u001b[1;33m.\u001b[0m\u001b[0mvocab\u001b[0m\u001b[1;33m,\u001b[0m \u001b[0mwords\u001b[0m\u001b[1;33m=\u001b[0m\u001b[0mtext\u001b[0m\u001b[1;33m.\u001b[0m\u001b[0msplit\u001b[0m\u001b[1;33m(\u001b[0m\u001b[1;34m' '\u001b[0m\u001b[1;33m)\u001b[0m\u001b[1;33m)\u001b[0m \u001b[1;32mfor\u001b[0m \u001b[0mtext\u001b[0m \u001b[1;32min\u001b[0m \u001b[0mtexts\u001b[0m\u001b[1;33m]\u001b[0m\u001b[1;33m\u001b[0m\u001b[1;33m\u001b[0m\u001b[0m\n\u001b[0m\u001b[0;32m      9\u001b[0m         \u001b[0mX\u001b[0m \u001b[1;33m=\u001b[0m \u001b[0mtorch\u001b[0m\u001b[1;33m.\u001b[0m\u001b[0mFloatTensor\u001b[0m\u001b[1;33m(\u001b[0m\u001b[1;33m[\u001b[0m\u001b[0mdoc\u001b[0m\u001b[1;33m.\u001b[0m\u001b[0mvector\u001b[0m \u001b[1;32mfor\u001b[0m \u001b[0mdoc\u001b[0m \u001b[1;32min\u001b[0m \u001b[0mdocs\u001b[0m\u001b[1;33m]\u001b[0m\u001b[1;33m)\u001b[0m\u001b[1;33m\u001b[0m\u001b[1;33m\u001b[0m\u001b[0m\n\u001b[0;32m     10\u001b[0m         \u001b[0my\u001b[0m \u001b[1;33m=\u001b[0m \u001b[0mtorch\u001b[0m\u001b[1;33m.\u001b[0m\u001b[0mFloatTensor\u001b[0m\u001b[1;33m(\u001b[0m\u001b[1;33m[\u001b[0m\u001b[0mnp\u001b[0m\u001b[1;33m.\u001b[0m\u001b[0masarray\u001b[0m\u001b[1;33m(\u001b[0m\u001b[0mlabel\u001b[0m\u001b[1;33m)\u001b[0m \u001b[1;32mfor\u001b[0m \u001b[0mlabel\u001b[0m \u001b[1;32min\u001b[0m \u001b[0mlabels\u001b[0m\u001b[1;33m]\u001b[0m\u001b[1;33m)\u001b[0m\u001b[1;33m\u001b[0m\u001b[1;33m\u001b[0m\u001b[0m\n",
      "\u001b[1;32m~\\anaconda3\\lib\\site-packages\\spacy\\tokens\\doc.pyx\u001b[0m in \u001b[0;36mspacy.tokens.doc.Doc.__init__\u001b[1;34m()\u001b[0m\n",
      "\u001b[1;32m~\\anaconda3\\lib\\site-packages\\spacy\\tokens\\doc.pyx\u001b[0m in \u001b[0;36mspacy.tokens.doc.Doc.push_back\u001b[1;34m()\u001b[0m\n",
      "\u001b[1;31mValueError\u001b[0m: [E031] Invalid token: empty string ('') at position 119."
     ]
    }
   ],
   "source": [
    "# Train your model\n",
    "for epoch in range(epochs):\n",
    "    random.seed(epoch)\n",
    "    losses = {}\n",
    "    batches = minibatch(zip(texts, labels), size=compounding(batch_size, len(texts), 1.001))\n",
    "    for batch in batches:\n",
    "        texts, labels = zip(*batch)\n",
    "        docs = [Doc(nlp.vocab, words=text.split(' ')) for text in texts]\n",
    "        X = torch.FloatTensor([doc.vector for doc in docs])\n",
    "        y = torch.FloatTensor([np.asarray(label) for label in labels])\n",
    "        model.zero_grad()\n",
    "        preds = model(X)\n",
    "        loss = loss_fn(preds, y)\n",
    "        loss.backward()\n",
    "        optimizer.step()\n",
    "        losses[epoch] = losses.get(epoch, 0) + loss.item()\n",
    "    print(\"Epoch: \", epoch, \" Loss: \", losses[epoch])\n"
   ]
  },
  {
   "cell_type": "code",
   "execution_count": null,
   "id": "e2dfc1ea",
   "metadata": {},
   "outputs": [],
   "source": [
    "# Test your model\n",
    "text = \"John lives in New York City.\"\n",
    "words = text.split(' ')\n",
    "doc = Doc(nlp.vocab, words=words)\n",
    "X = torch.FloatTensor([doc.vector])\n",
    "preds = model(X)\n",
    "print(preds)\n"
   ]
  },
  {
   "cell_type": "code",
   "execution_count": null,
   "id": "40577016",
   "metadata": {},
   "outputs": [],
   "source": [
    "# Save your model\n",
    "nlp.to_disk(\"my_model\")"
   ]
  }
 ],
 "metadata": {
  "kernelspec": {
   "display_name": "Python 3 (ipykernel)",
   "language": "python",
   "name": "python3"
  },
  "language_info": {
   "codemirror_mode": {
    "name": "ipython",
    "version": 3
   },
   "file_extension": ".py",
   "mimetype": "text/x-python",
   "name": "python",
   "nbconvert_exporter": "python",
   "pygments_lexer": "ipython3",
   "version": "3.9.13"
  }
 },
 "nbformat": 4,
 "nbformat_minor": 5
}
