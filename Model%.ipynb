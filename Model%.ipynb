{
 "cells": [
  {
   "cell_type": "code",
   "execution_count": 1,
   "id": "9db7f0ef",
   "metadata": {},
   "outputs": [],
   "source": [
    "import pandas as pd\n",
    "import numpy as np\n",
    "import tensorflow as tf\n",
    "from tensorflow.keras.preprocessing.text import Tokenizer\n",
    "from tensorflow.keras.preprocessing.sequence import pad_sequences\n",
    "from tensorflow.keras.layers import Input, Embedding, LSTM, TimeDistributed, Dense, Bidirectional\n",
    "from tensorflow.keras.models import Model\n",
    "from sklearn.model_selection import train_test_split"
   ]
  },
  {
   "cell_type": "code",
   "execution_count": 2,
   "id": "1627f076",
   "metadata": {},
   "outputs": [],
   "source": [
    "def load_data(file_path):\n",
    "    data = pd.read_excel(file_path)\n",
    "    return data"
   ]
  },
  {
   "cell_type": "code",
   "execution_count": 3,
   "id": "c00f9900",
   "metadata": {},
   "outputs": [],
   "source": [
    "def preprocess_data(data, max_len=5000):\n",
    "    data['X'] = data['auth_name'].apply(lambda x: x.lower())\n",
    "    data['y'] = data['fn'].apply(lambda x: x.lower())\n",
    "    input_tokenizer = Tokenizer(char_level=True)\n",
    "    input_tokenizer.fit_on_texts(data['X'].values)\n",
    "    print(input_tokenizer.index_word)\n",
    "    input_sequences = input_tokenizer.texts_to_sequences(data['X'].values)\n",
    "#     print(input_sequences)\n",
    "    input_sequences = pad_sequences(input_sequences, maxlen=max_len, padding='post')\n",
    "    output_tokenizer = Tokenizer(char_level=True)\n",
    "    output_tokenizer.fit_on_texts(data['y'].values)\n",
    "    output_sequences = input_tokenizer.texts_to_sequences(data['y'].values)\n",
    "    print(output_sequences)\n",
    "    output_sequences = pad_sequences(output_sequences, maxlen=max_len, padding='post')\n",
    "    output_sequences = tf.keras.utils.to_categorical(output_sequences, num_classes=len(input_tokenizer.word_index)+1)\n",
    "    return input_sequences, output_sequences, input_tokenizer, input_tokenizer"
   ]
  },
  {
   "cell_type": "code",
   "execution_count": 4,
   "id": "0a3f507a",
   "metadata": {},
   "outputs": [],
   "source": [
    "def build_model(input_vocab_size, output_vocab_size, max_len=5000, embedding_dim=64, lstm_units=128):\n",
    "    inputs = Input(shape=(max_len,))\n",
    "    x = Embedding(input_dim=input_vocab_size, output_dim=embedding_dim, input_length=max_len)(inputs)\n",
    "    x = Bidirectional(LSTM(lstm_units, return_sequences=True))(x)\n",
    "    outputs = TimeDistributed(Dense(output_vocab_size, activation='softmax'))(x)\n",
    "    model = Model(inputs, outputs)\n",
    "    model.compile(optimizer='adam', loss='categorical_crossentropy', metrics=['accuracy'])\n",
    "    return model"
   ]
  },
  {
   "cell_type": "code",
   "execution_count": 20,
   "id": "189505d1",
   "metadata": {},
   "outputs": [],
   "source": [
    "def train_model(model, X_train, y_train, X_val, y_val, batch_size=8, epochs=10):\n",
    "    history = model.fit(X_train, y_train, batch_size=batch_size, epochs=epochs, validation_data=(X_val, y_val))\n",
    "    return history"
   ]
  },
  {
   "cell_type": "code",
   "execution_count": 21,
   "id": "6655e1d4",
   "metadata": {},
   "outputs": [],
   "source": [
    "def predict(model, input_text, input_tokenizer, output_tokenizer, max_len=5000):\n",
    "    input_sequence = input_tokenizer.texts_to_sequences([input_text])\n",
    "    input_sequence = pad_sequences(input_sequence, maxlen=max_len, padding='post')\n",
    "    output_sequence = model.predict(input_sequence)\n",
    "    output_sequence_indices = np.argmax(output_sequence, axis=-1)\n",
    "    print(output_sequence_indices)\n",
    "    predicted_text = output_tokenizer.sequences_to_texts(np.argmax(output_sequence, axis=-1))\n",
    "    return predicted_text[0]"
   ]
  },
  {
   "cell_type": "code",
   "execution_count": 22,
   "id": "2b8a3ea3",
   "metadata": {},
   "outputs": [],
   "source": [
    "file_path = \"data.xlsx\"\n",
    "data = load_data(file_path)"
   ]
  },
  {
   "cell_type": "code",
   "execution_count": 23,
   "id": "55401ffe",
   "metadata": {},
   "outputs": [
    {
     "name": "stdout",
     "output_type": "stream",
     "text": [
      "{1: ' ', 2: 'e', 3: 'i', 4: 'a', 5: 'n', 6: 'o', 7: 'r', 8: 's', 9: 't', 10: 'd', 11: 'c', 12: 'l', 13: 'h', 14: 'g', 15: 'm', 16: 'u', 17: 'f', 18: 'p', 19: 'y', 20: 'v', 21: '.', 22: ',', 23: 'b', 24: 'w', 25: '\\n', 26: 'k', 27: 'x', 28: ':', 29: 'z', 30: '(', 31: ')', 32: 'j', 33: \"'\", 34: '-', 35: 'q', 36: '\"', 37: '1', 38: '5', 39: '9', 40: '7', 41: '2', 42: '0', 43: '6', 44: '8', 45: '/', 46: '4', 47: 'é', 48: '&', 49: 'ä', 50: 'ô', 51: 'ş', 52: 'ü', 53: 'ó', 54: 'á'}\n",
      "[[19, 16, 2, 1, 11, 4, 6], [23, 2, 5, 8, 13, 2, 5, 14, 1, 35, 3, 16], [7, 6, 23, 2, 7, 9, 1, 17, 12, 2, 11, 26, 1, 32], [13, 6, 12, 10, 2, 5, 1, 24, 16], [24, 3, 12, 12, 3, 4, 15, 1, 13, 19, 8, 12, 6, 18], [17, 12, 2, 15, 15, 3, 5, 14, 1, 17, 6, 7, 8, 23, 2, 7, 14], [32, 4, 15, 2, 8, 1, 11, 4, 7, 7], [4, 5, 10, 7, 2, 32, 1, 12, 19, 8, 13, 11, 13, 3, 26], [23, 6, 23, 23, 19, 1, 26, 4, 12, 23], [32, 6, 13, 5, 1, 26, 16, 7, 13, 4, 5, 2, 24, 3, 11, 29], [4, 5, 10, 2, 7, 4, 5, 3, 26, 1, 9, 6, 15, 4, 8, 3, 4, 5], [5, 1, 11, 2, 15, 1, 23, 4, 12, 11, 3], [13, 4, 12, 2, 1, 2, 7, 8, 6, 19], [8, 16, 5, 14, 13, 2, 6, 5, 1, 26, 3, 15], [2, 15, 4, 5, 16, 2, 12, 1, 26, 4, 5, 4, 12], [4, 32, 4, 19, 1, 8, 3, 5, 14, 13], [27, 3, 4, 6, 15, 3, 5, 14, 1, 23, 3], [2, 16, 5, 34, 26, 2, 2, 1, 3, 2, 6, 5, 14], [13, 2, 5, 7, 19, 1, 7, 16, 8, 3, 5, 2, 26], [26, 4, 15, 23, 3, 29, 1, 5, 4, 2, 12], [32, 2, 17, 17, 1, 17, 3, 10, 12, 2, 7], [19, 4, 5, 32, 16, 5, 1, 17, 16], [18, 3, 6, 9, 7, 1, 24, 4, 12, 11, 29, 4, 26], [23, 4, 11, 13, 3, 7, 1, 9, 4, 6, 16, 12, 3], [6, 14, 16, 29, 1, 4, 26, 3, 5], [8, 4, 20, 20, 4, 8, 1, 4, 5, 10, 7, 6, 5, 3, 26, 6, 16], [15, 3, 11, 13, 4, 2, 12, 1, 20, 1, 26, 5, 6, 18, 18], [18, 4, 16, 12, 1, 5, 3, 26, 6, 12, 4, 3, 10, 3, 8], [5, 4, 9, 4, 7, 4, 32, 4, 5, 1, 7, 4, 14, 13, 16, 5, 4, 5, 10], [19, 6, 8, 13, 3, 5, 6, 7, 3, 1, 26, 4, 9, 6], [15, 3, 12, 3, 11, 4, 1, 15, 2, 10, 20, 2, 10], [4, 12, 3, 19, 4, 1, 35, 4, 19, 19, 16, 15], [3, 20, 4, 5, 1, 18, 2, 10, 7, 6, 8, 4], [2, 7, 9, 4, 5, 1, 18, 4, 15, 16, 26, 12, 4, 7], [10, 15, 3, 9, 7, 3, 1, 4, 7, 9, 2, 15, 6, 20], [10, 16, 8, 13, 19, 4, 5, 9, 1, 8, 4, 13, 4, 5, 3], [5, 4, 9, 13, 4, 5, 1, 15, 11, 10, 4, 5, 5, 6, 12, 10], [10, 3, 2, 14, 6, 1, 32, 4, 7, 4, 15, 3, 12, 12, 6], [13, 4, 5, 29, 13, 4, 5, 14, 1, 12, 3], [4, 26, 3, 7, 4, 1, 26, 4, 24, 4, 8, 13, 3, 15, 4], [15, 16, 8, 9, 16, 7, 4, 19, 1, 26, 4, 7, 11, 4, 4, 12, 9, 3, 5, 11, 4, 23, 4], [8, 16, 10, 13, 4, 1, 4, 5, 16, 18, 3, 5, 10, 3], [32, 1, 18, 4, 16, 12, 1, 17, 3, 5, 5], [8, 4, 15, 16, 2, 12, 1, 4, 11, 13, 3, 12, 2, 17, 16], [18, 7, 3, 19, 4, 1, 23, 13, 6, 8, 2, 12], [32, 6, 13, 5, 1, 7, 1, 2, 3, 8, 2, 5, 23, 7, 2, 19], [9, 3, 15, 6, 9, 13, 19, 1, 15, 4, 16, 8], [4, 12, 2, 27, 1, 17, 7, 19, 10, 7, 19, 11, 13, 6, 24, 3, 11, 29], [13, 2, 7, 8, 13, 1, 11, 13, 4, 5, 10, 4, 7, 4, 5, 4], [5, 4, 6, 26, 3, 1, 9, 4, 26, 4, 13, 4, 8, 13, 3], [20, 4, 8, 11, 6, 1, 13, 2, 7, 2, 10, 3, 4], [13, 3, 7, 6, 19, 16, 26, 3, 1, 4, 23, 2], [15, 4, 8, 4, 9, 6, 8, 13, 3, 1, 13, 6, 7, 3], [4, 12, 2, 8, 8, 4, 5, 10, 7, 6, 1, 17, 16, 7, 12, 4, 5], [2, 7, 8, 4, 5, 1, 4, 12, 9, 16, 5], [10, 2, 23, 6, 7, 4, 13, 1, 23, 16, 7, 9, 2, 3, 5], [4, 19, 9, 2, 26, 3, 5, 1, 6, 9, 6], [15, 3, 14, 16, 2, 12, 1, 7, 4, 15, 4, 12, 13, 6], [20, 3, 11, 9, 6, 7, 3, 4, 1, 11, 13, 2, 7, 5, 19, 4, 26], [8, 6, 6, 4, 13, 1, 26, 3, 15], [26, 4, 9, 32, 4, 1, 18, 3, 5, 26, 2, 7], [32, 3, 5, 19, 16, 4, 5, 1, 29, 13, 6, 16], [26, 2, 9, 4, 5, 1, 14, 13, 4, 14, 13, 4, 10, 4], [11, 13, 7, 3, 8, 1, 17, 12, 4, 8, 26], [4, 5, 16, 8, 13, 1, 8, 7, 3, 10, 13, 4, 7, 4, 5], [32, 3, 34, 23, 3, 5, 1, 12, 3, 16], [24, 2, 3, 23, 6, 1, 11, 4, 3], [8, 4, 8, 4, 5, 1, 18, 4, 7, 9, 6, 20, 3], [32, 2, 7, 2, 15, 19, 1, 11, 6, 12, 12, 3, 5, 8], [2, 12, 3, 29, 4, 23, 2, 9, 13, 1, 13, 2, 11, 13, 9], [15, 4, 15, 10, 6, 13, 1, 4, 12, 6, 23, 4, 3, 10, 19], [10, 3, 2, 14, 6, 1, 13, 2, 7, 5, 4, 5, 10, 6], [32, 6, 13, 5, 1, 14, 6, 7, 2], [15, 4, 7, 26, 1, 7, 6, 8, 2, 5], [11, 13, 3, 4, 34, 19, 3, 5, 14, 1, 12, 3, 16], [32, 16, 12, 3, 16, 8, 1, 11, 13, 4, 18, 3, 7, 6], [14, 7, 2, 14, 6, 7, 19, 1, 26, 4, 7, 11, 29, 15, 4, 7], [7, 6, 23, 2, 7, 9, 1, 15, 16, 12, 26, 2, 7, 5], [15, 3, 11, 13, 4, 2, 12, 1, 3, 20], [23, 2, 5, 6, 3, 9, 1, 10, 2, 8, 32, 4, 7, 10, 3, 5, 8], [15, 1, 23, 2, 9, 13, 1, 15, 11, 11, 4, 7, 20, 3, 12, 12, 2], [18, 4, 8, 11, 4, 12, 1, 8, 18, 3, 5, 11, 2, 15, 4, 3, 12, 12, 2], [13, 2, 3, 26, 2, 1, 10, 4, 12, 10, 7, 16, 18, 34, 12, 3, 5, 26], [3, 13, 4, 23, 1, 26, 4, 15, 2, 12], [32, 2, 17, 17, 7, 2, 19, 1, 24, 2, 3, 5, 7, 2, 23], [8, 13, 7, 2, 19, 4, 8, 1, 20, 4, 8, 4, 5, 4, 24, 4, 12, 4], [29, 13, 2, 5, 14, 1, 13, 4, 5], [7, 2, 8, 13, 4, 5, 3, 1, 18, 2, 7, 2, 7, 4], [10, 4, 20, 3, 10, 1, 8, 4, 12, 6, 5, 2, 7], [16, 1, 32, 6, 8, 2, 18, 13, 1, 8, 11, 13, 6, 2, 18, 17], [8, 4, 7, 4, 1, 12, 2, 24, 3, 8], [32, 3, 4, 10, 3, 1, 27, 16], [15, 3, 8, 16, 5, 1, 13, 24, 4, 5, 14], [11, 2, 12, 3, 4, 1, 11, 6, 7, 6, 5, 4, 34, 20, 3, 12, 12, 4, 12, 6, 23, 6, 8], [32, 4, 15, 2, 8, 1, 23, 4, 23, 23], [15, 4, 16, 7, 3, 11, 3, 6, 1, 11, 4, 8, 9, 3, 12, 12, 6], [11, 12, 4, 16, 10, 2, 1, 8, 3, 7, 12, 3, 5], [15, 4, 7, 9, 3, 5, 1, 18, 7, 3, 5, 11, 2], [8, 11, 6, 9, 9, 1, 7, 2, 2, 10, 2, 7], [10, 4, 20, 3, 10, 1, 23, 12, 16, 2, 15, 26, 2], [10, 4, 20, 3, 10, 1, 5, 4, 8, 11, 2, 5, 2]]\n"
     ]
    }
   ],
   "source": [
    "input_sequences, output_sequences, input_tokenizer, output_tokenizer = preprocess_data(data)"
   ]
  },
  {
   "cell_type": "code",
   "execution_count": 24,
   "id": "89d7a7b5",
   "metadata": {},
   "outputs": [],
   "source": [
    "X_train, X_val, y_train, y_val = train_test_split(input_sequences, output_sequences, test_size=0.2, random_state=42)"
   ]
  },
  {
   "cell_type": "code",
   "execution_count": 25,
   "id": "71061713",
   "metadata": {},
   "outputs": [
    {
     "name": "stdout",
     "output_type": "stream",
     "text": [
      "{' ': 1, 'e': 2, 'i': 3, 'a': 4, 'n': 5, 'o': 6, 'r': 7, 's': 8, 't': 9, 'd': 10, 'c': 11, 'l': 12, 'h': 13, 'g': 14, 'm': 15, 'u': 16, 'f': 17, 'p': 18, 'y': 19, 'v': 20, '.': 21, ',': 22, 'b': 23, 'w': 24, '\\n': 25, 'k': 26, 'x': 27, ':': 28, 'z': 29, '(': 30, ')': 31, 'j': 32, \"'\": 33, '-': 34, 'q': 35, '\"': 36, '1': 37, '5': 38, '9': 39, '7': 40, '2': 41, '0': 42, '6': 43, '8': 44, '/': 45, '4': 46, 'é': 47, '&': 48, 'ä': 49, 'ô': 50, 'ş': 51, 'ü': 52, 'ó': 53, 'á': 54}\n",
      "{' ': 1, 'e': 2, 'i': 3, 'a': 4, 'n': 5, 'o': 6, 'r': 7, 's': 8, 't': 9, 'd': 10, 'c': 11, 'l': 12, 'h': 13, 'g': 14, 'm': 15, 'u': 16, 'f': 17, 'p': 18, 'y': 19, 'v': 20, '.': 21, ',': 22, 'b': 23, 'w': 24, '\\n': 25, 'k': 26, 'x': 27, ':': 28, 'z': 29, '(': 30, ')': 31, 'j': 32, \"'\": 33, '-': 34, 'q': 35, '\"': 36, '1': 37, '5': 38, '9': 39, '7': 40, '2': 41, '0': 42, '6': 43, '8': 44, '/': 45, '4': 46, 'é': 47, '&': 48, 'ä': 49, 'ô': 50, 'ş': 51, 'ü': 52, 'ó': 53, 'á': 54}\n"
     ]
    }
   ],
   "source": [
    "input_vocab_size = len(input_tokenizer.word_index) + 1\n",
    "output_vocab_size = len(output_tokenizer.word_index) + 1\n",
    "print(input_tokenizer.word_index)\n",
    "print(output_tokenizer.word_index)\n",
    "model = build_model(input_vocab_size, output_vocab_size)"
   ]
  },
  {
   "cell_type": "code",
   "execution_count": null,
   "id": "d1d3ba83",
   "metadata": {},
   "outputs": [
    {
     "name": "stdout",
     "output_type": "stream",
     "text": [
      "Epoch 1/10\n",
      "10/10 [==============================] - 31s 3s/step - loss: 3.3372 - accuracy: 0.8933 - val_loss: 0.1178 - val_accuracy: 0.9973\n",
      "Epoch 2/10\n",
      "10/10 [==============================] - 37s 4s/step - loss: 0.0319 - accuracy: 0.9973 - val_loss: 0.0227 - val_accuracy: 0.9973\n",
      "Epoch 3/10\n",
      "10/10 [==============================] - 39s 4s/step - loss: 0.0238 - accuracy: 0.9973 - val_loss: 0.0260 - val_accuracy: 0.9973\n",
      "Epoch 4/10\n",
      "10/10 [==============================] - 38s 4s/step - loss: 0.0253 - accuracy: 0.9973 - val_loss: 0.0260 - val_accuracy: 0.9973\n",
      "Epoch 5/10\n",
      "10/10 [==============================] - 48s 5s/step - loss: 0.0246 - accuracy: 0.9973 - val_loss: 0.0246 - val_accuracy: 0.9973\n",
      "Epoch 6/10\n",
      "10/10 [==============================] - 45s 4s/step - loss: 0.0230 - accuracy: 0.9973 - val_loss: 0.0228 - val_accuracy: 0.9973\n",
      "Epoch 7/10\n",
      "10/10 [==============================] - 37s 4s/step - loss: 0.0212 - accuracy: 0.9973 - val_loss: 0.0209 - val_accuracy: 0.9973\n",
      "Epoch 8/10\n",
      "10/10 [==============================] - 40s 4s/step - loss: 0.0195 - accuracy: 0.9973 - val_loss: 0.0194 - val_accuracy: 0.9973\n",
      "Epoch 9/10\n",
      " 7/10 [====================>.........] - ETA: 11s - loss: 0.0182 - accuracy: 0.9974"
     ]
    }
   ],
   "source": [
    "history = train_model(model, X_train, y_train, X_val, y_val)"
   ]
  },
  {
   "cell_type": "code",
   "execution_count": null,
   "id": "828d54ed",
   "metadata": {},
   "outputs": [],
   "source": [
    "input_text = \"Dr. Bobby Kalb is a renowned radiologist who has made significant contributions to the field of medical imaging. With an illustrious career spanning over three decades, Dr. Kalb has earned a reputation as a leading expert in the field, known for his exceptional skills, extensive knowledge, and innovative research. Education History: Dr. Kalb's passion for medicine was ignited at an early age, leading him to pursue an illustrious educational journey. He graduated magna cum laude from a prestigious medical school, earning his Doctor of Medicine (M.D.) degree. He then completed his residency in diagnostic radiology at a renowned academic medical center, where he honed his skills in various imaging modalities and gained expertise in interpreting complex medical images. Professional History: Dr. Kalb's professional career has been marked by his dedication to advancing the field of radiology. He has held numerous leadership positions in academic and clinical settings, including serving as the Chief of Radiology at several prominent hospitals. He has also been a sought-after consultant for radiology departments across the country, providing expert guidance on complex cases and contributing to the development of cutting-edge imaging protocols. Medical Research and Special Interests: Throughout his career, Dr. Kalb has been actively involved in medical research, with a particular focus on advancing the field of abdominal imaging. His pioneering work has resulted in numerous publications in prestigious medical journals, and he has been invited to present his research findings at national and international conferences. Dr. Kalb's special interests lie in utilizing advanced imaging techniques, such as magnetic resonance imaging (MRI), computed tomography (CT), and ultrasound, to diagnose and manage complex abdominal conditions, including liver diseases, pancreatic disorders, and gastrointestinal malignancies. Books: Dr. Kalb has also authored several authoritative books on radiology, which have become widely recognized as essential references for practitioners in the field. His books cover a wide range of topics, including abdominal imaging, radiologic anatomy, and advanced imaging techniques. His work has been lauded for its comprehensive and practical approach, providing valuable insights and guidance to radiologists at all stages of their careers. Awards Procured in Medical Space: Dr. Kalb's contributions to the field of radiology have been widely recognized, and he has received numerous awards for his excellence in research, teaching, and clinical practice. His accolades include the prestigious \"\"Radiologist of the Year\"\" award from a leading radiology society and the \"\"Outstanding Educator\"\" award from a renowned academic institution. He has also been recognized for his philanthropic efforts, including his contributions to improving radiology education in underserved areas. Memberships: Dr. Kalb is an active member of several esteemed medical societies, including the American College of Radiology, the Radiological Society of North America, and the Society of Abdominal Radiology. He has also served on the board of directors for several radiology organizations, where he has played an instrumental role in shaping the future of the field. In conclusion, Dr. Bobby Kalb's illustrious career as a radiologist has been marked by his unwavering commitment to advancing the field through his exceptional skills, innovative research, and dedication to teaching. His contributions to abdominal imaging have been widely recognized, and he continues to be a leading authority in the field, making a lasting impact on the practice of radiology.\"\n",
    "predicted_expert_name = predict(model, input_text, input_tokenizer, output_tokenizer)\n",
    "print(\"Predicted expert name:\", predicted_expert_name)"
   ]
  },
  {
   "cell_type": "code",
   "execution_count": null,
   "id": "40454d63",
   "metadata": {},
   "outputs": [],
   "source": []
  },
  {
   "cell_type": "code",
   "execution_count": null,
   "id": "0ee4f5cd",
   "metadata": {},
   "outputs": [],
   "source": []
  }
 ],
 "metadata": {
  "kernelspec": {
   "display_name": "Python 3 (ipykernel)",
   "language": "python",
   "name": "python3"
  },
  "language_info": {
   "codemirror_mode": {
    "name": "ipython",
    "version": 3
   },
   "file_extension": ".py",
   "mimetype": "text/x-python",
   "name": "python",
   "nbconvert_exporter": "python",
   "pygments_lexer": "ipython3",
   "version": "3.9.13"
  }
 },
 "nbformat": 4,
 "nbformat_minor": 5
}
