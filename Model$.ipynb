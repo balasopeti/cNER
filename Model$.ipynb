{
 "cells": [
  {
   "cell_type": "code",
   "execution_count": 21,
   "id": "49d66d56",
   "metadata": {},
   "outputs": [],
   "source": [
    "import pandas as pd\n",
    "import numpy as np\n",
    "from tensorflow.keras.models import Sequential\n",
    "from tensorflow.keras.layers import Dense, Embedding, LSTM, Dropout, Bidirectional\n",
    "from tensorflow.keras.utils import to_categorical\n",
    "from tensorflow.keras.callbacks import ModelCheckpoint\n",
    "from tensorflow.keras.preprocessing.text import Tokenizer\n",
    "from tensorflow.keras.preprocessing.sequence import pad_sequences"
   ]
  },
  {
   "cell_type": "code",
   "execution_count": 22,
   "id": "79f06079",
   "metadata": {},
   "outputs": [],
   "source": [
    "# Load the Excel file\n",
    "data = pd.read_excel('data.xlsx')"
   ]
  },
  {
   "cell_type": "code",
   "execution_count": 23,
   "id": "34af1055",
   "metadata": {},
   "outputs": [
    {
     "data": {
      "text/html": [
       "<div>\n",
       "<style scoped>\n",
       "    .dataframe tbody tr th:only-of-type {\n",
       "        vertical-align: middle;\n",
       "    }\n",
       "\n",
       "    .dataframe tbody tr th {\n",
       "        vertical-align: top;\n",
       "    }\n",
       "\n",
       "    .dataframe thead th {\n",
       "        text-align: right;\n",
       "    }\n",
       "</style>\n",
       "<table border=\"1\" class=\"dataframe\">\n",
       "  <thead>\n",
       "    <tr style=\"text-align: right;\">\n",
       "      <th></th>\n",
       "      <th>auth_name</th>\n",
       "      <th>fn</th>\n",
       "      <th>interest</th>\n",
       "    </tr>\n",
       "  </thead>\n",
       "  <tbody>\n",
       "    <tr>\n",
       "      <th>0</th>\n",
       "      <td>Dr. Yue Cao is a highly respected radiologist ...</td>\n",
       "      <td>Yue Cao</td>\n",
       "      <td>Quantitative imaging for tumor and normal tiss...</td>\n",
       "    </tr>\n",
       "    <tr>\n",
       "      <th>1</th>\n",
       "      <td>Biography of Dr. Bensheng Qiu, Radiologist\\n\\n...</td>\n",
       "      <td>Bensheng Qiu</td>\n",
       "      <td>advancing the field of radiology,developing in...</td>\n",
       "    </tr>\n",
       "    <tr>\n",
       "      <th>2</th>\n",
       "      <td>Biography of Dr. Robert Fleck, Radiologist\\n\\n...</td>\n",
       "      <td>Robert Fleck J</td>\n",
       "      <td>imaging in early cancer detection, and his wor...</td>\n",
       "    </tr>\n",
       "    <tr>\n",
       "      <th>3</th>\n",
       "      <td>Dr. Holden Wu is a renowned radiologist who ha...</td>\n",
       "      <td>Holden Wu</td>\n",
       "      <td>novel imaging modalities, such as cardiac magn...</td>\n",
       "    </tr>\n",
       "    <tr>\n",
       "      <th>4</th>\n",
       "      <td>Biography of Dr. William Hyslop: Radiologist E...</td>\n",
       "      <td>William Hyslop</td>\n",
       "      <td>advanced imaging techniques, such as functiona...</td>\n",
       "    </tr>\n",
       "    <tr>\n",
       "      <th>...</th>\n",
       "      <td>...</td>\n",
       "      <td>...</td>\n",
       "      <td>...</td>\n",
       "    </tr>\n",
       "    <tr>\n",
       "      <th>96</th>\n",
       "      <td>Dr. Claude Sirlin is a highly accomplished rad...</td>\n",
       "      <td>Claude Sirlin</td>\n",
       "      <td>MRI imaging of liver cancer and liver disease;;</td>\n",
       "    </tr>\n",
       "    <tr>\n",
       "      <th>97</th>\n",
       "      <td>Dr. Martin Prince is a renowned radiologist wh...</td>\n",
       "      <td>Martin Prince</td>\n",
       "      <td>Developed high-dose, gadolinium-enhanced MR An...</td>\n",
       "    </tr>\n",
       "    <tr>\n",
       "      <th>98</th>\n",
       "      <td>Dr. Scott Reeder is a renowned radiologist kno...</td>\n",
       "      <td>Scott Reeder</td>\n",
       "      <td>Development of new MRI methods for quantificat...</td>\n",
       "    </tr>\n",
       "    <tr>\n",
       "      <th>99</th>\n",
       "      <td>Dr. David Bluemke is a renowned radiologist kn...</td>\n",
       "      <td>David Bluemke</td>\n",
       "      <td>diagnosis and management of cardiovascular di...</td>\n",
       "    </tr>\n",
       "    <tr>\n",
       "      <th>100</th>\n",
       "      <td>Dr. David Nascene is a renowned radiologist kn...</td>\n",
       "      <td>David Nascene</td>\n",
       "      <td>advanced imaging techniques, such as MRI and ...</td>\n",
       "    </tr>\n",
       "  </tbody>\n",
       "</table>\n",
       "<p>101 rows × 3 columns</p>\n",
       "</div>"
      ],
      "text/plain": [
       "                                             auth_name              fn  \\\n",
       "0    Dr. Yue Cao is a highly respected radiologist ...         Yue Cao   \n",
       "1    Biography of Dr. Bensheng Qiu, Radiologist\\n\\n...    Bensheng Qiu   \n",
       "2    Biography of Dr. Robert Fleck, Radiologist\\n\\n...  Robert Fleck J   \n",
       "3    Dr. Holden Wu is a renowned radiologist who ha...       Holden Wu   \n",
       "4    Biography of Dr. William Hyslop: Radiologist E...  William Hyslop   \n",
       "..                                                 ...             ...   \n",
       "96   Dr. Claude Sirlin is a highly accomplished rad...   Claude Sirlin   \n",
       "97   Dr. Martin Prince is a renowned radiologist wh...   Martin Prince   \n",
       "98   Dr. Scott Reeder is a renowned radiologist kno...    Scott Reeder   \n",
       "99   Dr. David Bluemke is a renowned radiologist kn...   David Bluemke   \n",
       "100  Dr. David Nascene is a renowned radiologist kn...   David Nascene   \n",
       "\n",
       "                                              interest  \n",
       "0    Quantitative imaging for tumor and normal tiss...  \n",
       "1    advancing the field of radiology,developing in...  \n",
       "2    imaging in early cancer detection, and his wor...  \n",
       "3    novel imaging modalities, such as cardiac magn...  \n",
       "4    advanced imaging techniques, such as functiona...  \n",
       "..                                                 ...  \n",
       "96     MRI imaging of liver cancer and liver disease;;  \n",
       "97   Developed high-dose, gadolinium-enhanced MR An...  \n",
       "98   Development of new MRI methods for quantificat...  \n",
       "99    diagnosis and management of cardiovascular di...  \n",
       "100   advanced imaging techniques, such as MRI and ...  \n",
       "\n",
       "[101 rows x 3 columns]"
      ]
     },
     "execution_count": 23,
     "metadata": {},
     "output_type": "execute_result"
    }
   ],
   "source": [
    "data"
   ]
  },
  {
   "cell_type": "code",
   "execution_count": 24,
   "id": "901e2ade",
   "metadata": {},
   "outputs": [],
   "source": [
    "# Convert the second column to a categorical variable\n",
    "data['Label'] = pd.Categorical(data['fn'])\n",
    "data['Label'] = data['Label'].cat.codes"
   ]
  },
  {
   "cell_type": "code",
   "execution_count": 25,
   "id": "c521feae",
   "metadata": {},
   "outputs": [
    {
     "data": {
      "text/plain": [
       "0      99\n",
       "1      11\n",
       "2      79\n",
       "3      38\n",
       "4      95\n",
       "       ..\n",
       "96     16\n",
       "97     60\n",
       "98     85\n",
       "99     17\n",
       "100    18\n",
       "Name: Label, Length: 101, dtype: int8"
      ]
     },
     "execution_count": 25,
     "metadata": {},
     "output_type": "execute_result"
    }
   ],
   "source": [
    "data['Label']"
   ]
  },
  {
   "cell_type": "code",
   "execution_count": 26,
   "id": "13e4b55d",
   "metadata": {},
   "outputs": [],
   "source": [
    "# Split the data into training and testing sets\n",
    "train_size = int(len(data) * 0.8)\n",
    "train_data = data[:train_size]\n",
    "test_data = data[train_size:]"
   ]
  },
  {
   "cell_type": "code",
   "execution_count": 27,
   "id": "32a957d0",
   "metadata": {},
   "outputs": [],
   "source": [
    "# Create a tokenizer to convert words to integers\n",
    "tokenizer = Tokenizer(num_words=5000)\n",
    "tokenizer.fit_on_texts(train_data['auth_name'])"
   ]
  },
  {
   "cell_type": "code",
   "execution_count": 28,
   "id": "452cdebd",
   "metadata": {},
   "outputs": [],
   "source": [
    "# Convert the text data to sequences of integers\n",
    "X_train = tokenizer.texts_to_sequences(train_data['auth_name'])\n",
    "X_test = tokenizer.texts_to_sequences(test_data['auth_name'])"
   ]
  },
  {
   "cell_type": "code",
   "execution_count": 29,
   "id": "d27aa668",
   "metadata": {},
   "outputs": [],
   "source": [
    "# Pad the sequences to make them the same length\n",
    "max_length = 5000\n",
    "X_train = pad_sequences(X_train, maxlen=max_length, padding='post', truncating='post')\n",
    "X_test = pad_sequences(X_test, maxlen=max_length, padding='post', truncating='post')"
   ]
  },
  {
   "cell_type": "code",
   "execution_count": 30,
   "id": "b3f4af76",
   "metadata": {},
   "outputs": [],
   "source": [
    "# Convert the labels to one-hot encoding\n",
    "y_train = to_categorical(train_data['Label'])\n",
    "y_test = to_categorical(test_data['Label'])"
   ]
  },
  {
   "cell_type": "code",
   "execution_count": 31,
   "id": "3699a384",
   "metadata": {},
   "outputs": [],
   "source": [
    "# Define the model architecture\n",
    "model = Sequential()\n",
    "model.add(Embedding(5000, 64, input_length=max_length))\n",
    "model.add(Bidirectional(LSTM(64)))\n",
    "model.add(Dense(32, activation='relu'))\n",
    "model.add(Dropout(0.5))\n",
    "model.add(Dense(y_train.shape[1], activation='softmax'))"
   ]
  },
  {
   "cell_type": "code",
   "execution_count": 32,
   "id": "0846dcbe",
   "metadata": {},
   "outputs": [],
   "source": [
    "# Compile the model\n",
    "model.compile(loss='categorical_crossentropy', optimizer='adam', metrics=['accuracy'])"
   ]
  },
  {
   "cell_type": "code",
   "execution_count": 33,
   "id": "a390bc21",
   "metadata": {},
   "outputs": [],
   "source": [
    "# Set up a callback to save the best model during training\n",
    "filepath=\"best_model.hdf5\"\n",
    "checkpoint = ModelCheckpoint(filepath, monitor='val_accuracy', verbose=1, save_best_only=True, mode='max')"
   ]
  },
  {
   "cell_type": "code",
   "execution_count": 41,
   "id": "991b050e",
   "metadata": {},
   "outputs": [
    {
     "data": {
      "text/plain": [
       "21"
      ]
     },
     "execution_count": 41,
     "metadata": {},
     "output_type": "execute_result"
    }
   ],
   "source": []
  },
  {
   "cell_type": "code",
   "execution_count": null,
   "id": "c6cad419",
   "metadata": {},
   "outputs": [],
   "source": []
  },
  {
   "cell_type": "code",
   "execution_count": 35,
   "id": "f9c38c00",
   "metadata": {},
   "outputs": [
    {
     "name": "stdout",
     "output_type": "stream",
     "text": [
      "Epoch 1/10\n",
      "3/3 [==============================] - ETA: 0s - loss: 4.6039 - accuracy: 0.0250"
     ]
    },
    {
     "ename": "ValueError",
     "evalue": "in user code:\n\n    File \"C:\\Users\\SlideSciences\\AppData\\Roaming\\Python\\Python39\\site-packages\\keras\\engine\\training.py\", line 1820, in test_function  *\n        return step_function(self, iterator)\n    File \"C:\\Users\\SlideSciences\\AppData\\Roaming\\Python\\Python39\\site-packages\\keras\\engine\\training.py\", line 1804, in step_function  **\n        outputs = model.distribute_strategy.run(run_step, args=(data,))\n    File \"C:\\Users\\SlideSciences\\AppData\\Roaming\\Python\\Python39\\site-packages\\keras\\engine\\training.py\", line 1792, in run_step  **\n        outputs = model.test_step(data)\n    File \"C:\\Users\\SlideSciences\\AppData\\Roaming\\Python\\Python39\\site-packages\\keras\\engine\\training.py\", line 1758, in test_step\n        self.compute_loss(x, y, y_pred, sample_weight)\n    File \"C:\\Users\\SlideSciences\\AppData\\Roaming\\Python\\Python39\\site-packages\\keras\\engine\\training.py\", line 1082, in compute_loss\n        return self.compiled_loss(\n    File \"C:\\Users\\SlideSciences\\AppData\\Roaming\\Python\\Python39\\site-packages\\keras\\engine\\compile_utils.py\", line 265, in __call__\n        loss_value = loss_obj(y_t, y_p, sample_weight=sw)\n    File \"C:\\Users\\SlideSciences\\AppData\\Roaming\\Python\\Python39\\site-packages\\keras\\losses.py\", line 152, in __call__\n        losses = call_fn(y_true, y_pred)\n    File \"C:\\Users\\SlideSciences\\AppData\\Roaming\\Python\\Python39\\site-packages\\keras\\losses.py\", line 284, in call  **\n        return ag_fn(y_true, y_pred, **self._fn_kwargs)\n    File \"C:\\Users\\SlideSciences\\AppData\\Roaming\\Python\\Python39\\site-packages\\keras\\losses.py\", line 2004, in categorical_crossentropy\n        return backend.categorical_crossentropy(\n    File \"C:\\Users\\SlideSciences\\AppData\\Roaming\\Python\\Python39\\site-packages\\keras\\backend.py\", line 5532, in categorical_crossentropy\n        target.shape.assert_is_compatible_with(output.shape)\n\n    ValueError: Shapes (None, 101) and (None, 100) are incompatible\n",
     "output_type": "error",
     "traceback": [
      "\u001b[1;31m---------------------------------------------------------------------------\u001b[0m",
      "\u001b[1;31mValueError\u001b[0m                                Traceback (most recent call last)",
      "\u001b[1;32m~\\AppData\\Local\\Temp\\ipykernel_24488\\3607370401.py\u001b[0m in \u001b[0;36m<module>\u001b[1;34m\u001b[0m\n\u001b[0;32m      1\u001b[0m \u001b[1;31m# Train the model\u001b[0m\u001b[1;33m\u001b[0m\u001b[1;33m\u001b[0m\u001b[0m\n\u001b[1;32m----> 2\u001b[1;33m \u001b[0mhistory\u001b[0m \u001b[1;33m=\u001b[0m \u001b[0mmodel\u001b[0m\u001b[1;33m.\u001b[0m\u001b[0mfit\u001b[0m\u001b[1;33m(\u001b[0m\u001b[0mX_train\u001b[0m\u001b[1;33m,\u001b[0m \u001b[0my_train\u001b[0m\u001b[1;33m,\u001b[0m \u001b[0mepochs\u001b[0m\u001b[1;33m=\u001b[0m\u001b[1;36m10\u001b[0m\u001b[1;33m,\u001b[0m \u001b[0mbatch_size\u001b[0m\u001b[1;33m=\u001b[0m\u001b[1;36m32\u001b[0m\u001b[1;33m,\u001b[0m \u001b[0mvalidation_data\u001b[0m\u001b[1;33m=\u001b[0m\u001b[1;33m(\u001b[0m\u001b[0mX_test\u001b[0m\u001b[1;33m,\u001b[0m \u001b[0my_test\u001b[0m\u001b[1;33m)\u001b[0m\u001b[1;33m,\u001b[0m \u001b[0mcallbacks\u001b[0m\u001b[1;33m=\u001b[0m\u001b[1;33m[\u001b[0m\u001b[0mcheckpoint\u001b[0m\u001b[1;33m]\u001b[0m\u001b[1;33m)\u001b[0m\u001b[1;33m\u001b[0m\u001b[1;33m\u001b[0m\u001b[0m\n\u001b[0m",
      "\u001b[1;32m~\\AppData\\Roaming\\Python\\Python39\\site-packages\\keras\\utils\\traceback_utils.py\u001b[0m in \u001b[0;36merror_handler\u001b[1;34m(*args, **kwargs)\u001b[0m\n\u001b[0;32m     68\u001b[0m             \u001b[1;31m# To get the full stack trace, call:\u001b[0m\u001b[1;33m\u001b[0m\u001b[1;33m\u001b[0m\u001b[0m\n\u001b[0;32m     69\u001b[0m             \u001b[1;31m# `tf.debugging.disable_traceback_filtering()`\u001b[0m\u001b[1;33m\u001b[0m\u001b[1;33m\u001b[0m\u001b[0m\n\u001b[1;32m---> 70\u001b[1;33m             \u001b[1;32mraise\u001b[0m \u001b[0me\u001b[0m\u001b[1;33m.\u001b[0m\u001b[0mwith_traceback\u001b[0m\u001b[1;33m(\u001b[0m\u001b[0mfiltered_tb\u001b[0m\u001b[1;33m)\u001b[0m \u001b[1;32mfrom\u001b[0m \u001b[1;32mNone\u001b[0m\u001b[1;33m\u001b[0m\u001b[1;33m\u001b[0m\u001b[0m\n\u001b[0m\u001b[0;32m     71\u001b[0m         \u001b[1;32mfinally\u001b[0m\u001b[1;33m:\u001b[0m\u001b[1;33m\u001b[0m\u001b[1;33m\u001b[0m\u001b[0m\n\u001b[0;32m     72\u001b[0m             \u001b[1;32mdel\u001b[0m \u001b[0mfiltered_tb\u001b[0m\u001b[1;33m\u001b[0m\u001b[1;33m\u001b[0m\u001b[0m\n",
      "\u001b[1;32m~\\AppData\\Roaming\\Python\\Python39\\site-packages\\keras\\engine\\training.py\u001b[0m in \u001b[0;36mtf__test_function\u001b[1;34m(iterator)\u001b[0m\n\u001b[0;32m     13\u001b[0m                 \u001b[1;32mtry\u001b[0m\u001b[1;33m:\u001b[0m\u001b[1;33m\u001b[0m\u001b[1;33m\u001b[0m\u001b[0m\n\u001b[0;32m     14\u001b[0m                     \u001b[0mdo_return\u001b[0m \u001b[1;33m=\u001b[0m \u001b[1;32mTrue\u001b[0m\u001b[1;33m\u001b[0m\u001b[1;33m\u001b[0m\u001b[0m\n\u001b[1;32m---> 15\u001b[1;33m                     \u001b[0mretval_\u001b[0m \u001b[1;33m=\u001b[0m \u001b[0mag__\u001b[0m\u001b[1;33m.\u001b[0m\u001b[0mconverted_call\u001b[0m\u001b[1;33m(\u001b[0m\u001b[0mag__\u001b[0m\u001b[1;33m.\u001b[0m\u001b[0mld\u001b[0m\u001b[1;33m(\u001b[0m\u001b[0mstep_function\u001b[0m\u001b[1;33m)\u001b[0m\u001b[1;33m,\u001b[0m \u001b[1;33m(\u001b[0m\u001b[0mag__\u001b[0m\u001b[1;33m.\u001b[0m\u001b[0mld\u001b[0m\u001b[1;33m(\u001b[0m\u001b[0mself\u001b[0m\u001b[1;33m)\u001b[0m\u001b[1;33m,\u001b[0m \u001b[0mag__\u001b[0m\u001b[1;33m.\u001b[0m\u001b[0mld\u001b[0m\u001b[1;33m(\u001b[0m\u001b[0miterator\u001b[0m\u001b[1;33m)\u001b[0m\u001b[1;33m)\u001b[0m\u001b[1;33m,\u001b[0m \u001b[1;32mNone\u001b[0m\u001b[1;33m,\u001b[0m \u001b[0mfscope\u001b[0m\u001b[1;33m)\u001b[0m\u001b[1;33m\u001b[0m\u001b[1;33m\u001b[0m\u001b[0m\n\u001b[0m\u001b[0;32m     16\u001b[0m                 \u001b[1;32mexcept\u001b[0m\u001b[1;33m:\u001b[0m\u001b[1;33m\u001b[0m\u001b[1;33m\u001b[0m\u001b[0m\n\u001b[0;32m     17\u001b[0m                     \u001b[0mdo_return\u001b[0m \u001b[1;33m=\u001b[0m \u001b[1;32mFalse\u001b[0m\u001b[1;33m\u001b[0m\u001b[1;33m\u001b[0m\u001b[0m\n",
      "\u001b[1;31mValueError\u001b[0m: in user code:\n\n    File \"C:\\Users\\SlideSciences\\AppData\\Roaming\\Python\\Python39\\site-packages\\keras\\engine\\training.py\", line 1820, in test_function  *\n        return step_function(self, iterator)\n    File \"C:\\Users\\SlideSciences\\AppData\\Roaming\\Python\\Python39\\site-packages\\keras\\engine\\training.py\", line 1804, in step_function  **\n        outputs = model.distribute_strategy.run(run_step, args=(data,))\n    File \"C:\\Users\\SlideSciences\\AppData\\Roaming\\Python\\Python39\\site-packages\\keras\\engine\\training.py\", line 1792, in run_step  **\n        outputs = model.test_step(data)\n    File \"C:\\Users\\SlideSciences\\AppData\\Roaming\\Python\\Python39\\site-packages\\keras\\engine\\training.py\", line 1758, in test_step\n        self.compute_loss(x, y, y_pred, sample_weight)\n    File \"C:\\Users\\SlideSciences\\AppData\\Roaming\\Python\\Python39\\site-packages\\keras\\engine\\training.py\", line 1082, in compute_loss\n        return self.compiled_loss(\n    File \"C:\\Users\\SlideSciences\\AppData\\Roaming\\Python\\Python39\\site-packages\\keras\\engine\\compile_utils.py\", line 265, in __call__\n        loss_value = loss_obj(y_t, y_p, sample_weight=sw)\n    File \"C:\\Users\\SlideSciences\\AppData\\Roaming\\Python\\Python39\\site-packages\\keras\\losses.py\", line 152, in __call__\n        losses = call_fn(y_true, y_pred)\n    File \"C:\\Users\\SlideSciences\\AppData\\Roaming\\Python\\Python39\\site-packages\\keras\\losses.py\", line 284, in call  **\n        return ag_fn(y_true, y_pred, **self._fn_kwargs)\n    File \"C:\\Users\\SlideSciences\\AppData\\Roaming\\Python\\Python39\\site-packages\\keras\\losses.py\", line 2004, in categorical_crossentropy\n        return backend.categorical_crossentropy(\n    File \"C:\\Users\\SlideSciences\\AppData\\Roaming\\Python\\Python39\\site-packages\\keras\\backend.py\", line 5532, in categorical_crossentropy\n        target.shape.assert_is_compatible_with(output.shape)\n\n    ValueError: Shapes (None, 101) and (None, 100) are incompatible\n"
     ]
    }
   ],
   "source": [
    "# Train the model\n",
    "history = model.fit(X_train, y_train, epochs=10, batch_size=32, validation_data=(X_test, y_test), callbacks=[checkpoint])"
   ]
  },
  {
   "cell_type": "code",
   "execution_count": null,
   "id": "5af387af",
   "metadata": {},
   "outputs": [],
   "source": [
    "# Load the best model\n",
    "model.load_weights(\"best_model.hdf5\")"
   ]
  },
  {
   "cell_type": "code",
   "execution_count": null,
   "id": "e3352c8a",
   "metadata": {},
   "outputs": [],
   "source": [
    "# Test the model on a new text\n",
    "new_text = \"John Smith is a software engineer at XYZ company.\"\n",
    "new_text = tokenizer.texts_to_sequences([new_text])\n",
    "new_text = pad_sequences(new_text, maxlen=max_length, padding='post', truncating='post')\n",
    "pred = model.predict(new_text)\n",
    "pred_label = np.argmax(pred, axis=1)\n",
    "print(pred_label)"
   ]
  }
 ],
 "metadata": {
  "kernelspec": {
   "display_name": "Python 3 (ipykernel)",
   "language": "python",
   "name": "python3"
  },
  "language_info": {
   "codemirror_mode": {
    "name": "ipython",
    "version": 3
   },
   "file_extension": ".py",
   "mimetype": "text/x-python",
   "name": "python",
   "nbconvert_exporter": "python",
   "pygments_lexer": "ipython3",
   "version": "3.9.13"
  }
 },
 "nbformat": 4,
 "nbformat_minor": 5
}
