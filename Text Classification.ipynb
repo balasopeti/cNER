{
 "cells": [
  {
   "cell_type": "code",
   "execution_count": 1,
   "id": "1c4151b3",
   "metadata": {},
   "outputs": [],
   "source": [
    "import spacy\n",
    "from sklearn.feature_extraction.text import TfidfVectorizer\n",
    "from sklearn.linear_model import LogisticRegression"
   ]
  },
  {
   "cell_type": "code",
   "execution_count": 2,
   "id": "6cab096b",
   "metadata": {},
   "outputs": [],
   "source": [
    "# Load the spaCy English model\n",
    "nlp = spacy.load('en_core_web_sm')\n",
    "\n",
    "# Example data\n",
    "biography = \"\"\"\n",
    "John Smith is a professor of Computer Science at XYZ University. He received his Ph.D. in Computer Science from ABC University in 2005. Prior to joining XYZ University, he worked as a research scientist at DEF Labs. His research interests include machine learning, natural language processing, and data mining. Professor Smith is a member of the Association for Computing Machinery (ACM) and has received several awards for his contributions to the field.\n",
    "\"\"\""
   ]
  },
  {
   "cell_type": "code",
   "execution_count": 3,
   "id": "15c9a7d5",
   "metadata": {},
   "outputs": [],
   "source": [
    "# Define the categories you want to extract\n",
    "categories = ['education', 'professional', 'interests', 'affiliation', 'awards']\n",
    "\n",
    "# Train a text classifier\n",
    "training_data = [\n",
    "    (\"John Smith received his Ph.D. in Computer Science from ABC University in 2005.\", \"education\"),\n",
    "    (\"Prior to joining XYZ University, he worked as a research scientist at DEF Labs.\", \"professional\"),\n",
    "    (\"His research interests include machine learning, natural language processing, and data mining.\", \"interests\"),\n",
    "    (\"Professor Smith is a member of the Association for Computing Machinery (ACM).\", \"affiliation\"),\n",
    "    (\"He has received several awards for his contributions to the field.\", \"awards\")\n",
    "]"
   ]
  },
  {
   "cell_type": "code",
   "execution_count": 4,
   "id": "5f9ddbe0",
   "metadata": {},
   "outputs": [
    {
     "name": "stdout",
     "output_type": "stream",
     "text": [
      "Category: affiliation\n",
      "Entities: [('John Smith', 'PERSON'), ('Computer Science', 'ORG'), ('XYZ University', 'ORG')]\n",
      "\n",
      "Category: education\n",
      "Entities: [('Ph.D. in Computer Science', 'WORK_OF_ART'), ('ABC University', 'ORG'), ('2005', 'DATE')]\n",
      "\n",
      "Category: professional\n",
      "Entities: [('XYZ University', 'ORG'), ('DEF Labs', 'ORG')]\n",
      "\n",
      "Category: interests\n",
      "Entities: []\n",
      "\n",
      "Category: affiliation\n",
      "Entities: [('Smith', 'PERSON'), ('the Association for Computing Machinery', 'ORG'), ('ACM', 'ORG')]\n",
      "\n"
     ]
    }
   ],
   "source": [
    "vectorizer = TfidfVectorizer()\n",
    "X_train = vectorizer.fit_transform([text for text, _ in training_data])\n",
    "y_train = [label for _, label in training_data]\n",
    "\n",
    "classifier = LogisticRegression()\n",
    "classifier.fit(X_train, y_train)\n",
    "\n",
    "# Process the biography and extract information\n",
    "doc = nlp(biography)\n",
    "sentences = [sent.text for sent in doc.sents]\n",
    "\n",
    "for sentence in sentences:\n",
    "    X_test = vectorizer.transform([sentence])\n",
    "    predicted_category = classifier.predict(X_test)[0]\n",
    "    if predicted_category in categories:\n",
    "        entities = [(ent.text, ent.label_) for ent in nlp(sentence).ents]\n",
    "        print(\"Category:\", predicted_category)\n",
    "        print(\"Entities:\", entities)\n",
    "        print()"
   ]
  },
  {
   "cell_type": "code",
   "execution_count": 5,
   "id": "ca0a1762",
   "metadata": {},
   "outputs": [],
   "source": [
    "from nltk.tokenize import sent_tokenize"
   ]
  },
  {
   "cell_type": "code",
   "execution_count": 6,
   "id": "9b4e6aae",
   "metadata": {},
   "outputs": [
    {
     "name": "stdout",
     "output_type": "stream",
     "text": [
      "Category: education\n",
      "Sentence: He received his Ph\n",
      "\n",
      "Category: interests\n",
      "Sentence: D\n",
      "\n",
      "Category: education\n",
      "Sentence: in Computer Science from ABC University in 2005\n",
      "\n",
      "Category: professional\n",
      "Sentence: Prior to joining XYZ University, he worked as a research scientist at DEF Labs\n",
      "\n",
      "Category: interests\n",
      "Sentence: His research interests include machine learning, natural language processing, and data mining\n",
      "\n",
      "Category: affiliation\n",
      "Sentence: John Smith is a professor of Computer Science at XYZ University\n",
      "\n",
      "Category: affiliation\n",
      "Sentence: Professor Smith is a member of the Association for Computing Machinery (ACM) and has received several awards for his contributions to the field\n",
      "\n"
     ]
    }
   ],
   "source": [
    "from sklearn.feature_extraction.text import TfidfVectorizer\n",
    "from sklearn.linear_model import LogisticRegression\n",
    "\n",
    "# Example data\n",
    "biography = \"\"\"\n",
    " He received his Ph.D. in Computer Science from ABC University in 2005. Prior to joining XYZ University, he worked as a research scientist at DEF Labs. His research interests include machine learning, natural language processing, and data mining. John Smith is a professor of Computer Science at XYZ University.  Professor Smith is a member of the Association for Computing Machinery (ACM) and has received several awards for his contributions to the field.\n",
    "\"\"\"\n",
    "\n",
    "# Define the categories you want to extract\n",
    "categories = ['education', 'professional', 'interests', 'affiliation', 'awards']\n",
    "\n",
    "# Train a text classifier\n",
    "training_data = [\n",
    "    (\"John Smith received his Ph.D. in Computer Science from ABC University in 2005.\", \"education\"),\n",
    "    (\"Prior to joining XYZ University, he worked as a research scientist at DEF Labs.\", \"professional\"),\n",
    "    (\"His research interests include machine learning, natural language processing, and data mining.\", \"interests\"),\n",
    "    (\"Professor Smith is a member of the Association for Computing Machinery (ACM).\", \"affiliation\"),\n",
    "    (\"He has received several awards for his contributions to the field.\", \"awards\")\n",
    "]\n",
    "\n",
    "vectorizer = TfidfVectorizer()\n",
    "X_train = vectorizer.fit_transform([text for text, _ in training_data])\n",
    "y_train = [label for _, label in training_data]\n",
    "\n",
    "classifier = LogisticRegression()\n",
    "classifier.fit(X_train, y_train)\n",
    "\n",
    "# Process the biography and classify each sentence\n",
    "sentences = [sentence.strip() for sentence in biography.split('.') if sentence.strip()]\n",
    "#sentences = sent_tokenize(biography)\n",
    "\n",
    "\n",
    "for sentence in sentences:\n",
    "    X_test = vectorizer.transform([sentence])\n",
    "    predicted_category = classifier.predict(X_test)[0]\n",
    "    if predicted_category in categories:\n",
    "        print(\"Category:\", predicted_category)\n",
    "        print(\"Sentence:\", sentence)\n",
    "        print()\n"
   ]
  },
  {
   "cell_type": "code",
   "execution_count": 7,
   "id": "4df7a183",
   "metadata": {},
   "outputs": [
    {
     "name": "stdout",
     "output_type": "stream",
     "text": [
      "Category: affiliation\n",
      "Sentence: John Smith is a professor of Computer Science at XYZ University\n",
      "\n",
      "Category: education\n",
      "Sentence: He received his Ph\n",
      "\n",
      "Category: interests\n",
      "Sentence: D\n",
      "\n",
      "Category: education\n",
      "Sentence: in Computer Science from ABC University in 2005\n",
      "\n",
      "Category: professional\n",
      "Sentence: Prior to joining XYZ University, he worked as a research scientist at DEF Labs\n",
      "\n",
      "Category: interests\n",
      "Sentence: His research interests include machine learning, natural language processing, and data mining\n",
      "\n",
      "Category: affiliation\n",
      "Sentence: Professor Smith is a member of the Association for Computing Machinery (ACM) and has received several awards for his contributions to the field\n",
      "\n"
     ]
    }
   ],
   "source": [
    "from sklearn.feature_extraction.text import TfidfVectorizer\n",
    "from sklearn.linear_model import LogisticRegression\n",
    "\n",
    "# Example data\n",
    "biography = \"\"\"\n",
    " John Smith is a professor of Computer Science at XYZ University. He received his Ph.D. in Computer Science from ABC University in 2005. Prior to joining XYZ University, he worked as a research scientist at DEF Labs. His research interests include machine learning, natural language processing, and data mining. Professor Smith is a member of the Association for Computing Machinery (ACM) and has received several awards for his contributions to the field.\n",
    "\"\"\"\n",
    "\n",
    "# Define the categories you want to extract\n",
    "categories = ['education', 'professional', 'interests', 'affiliation', 'awards']\n",
    "\n",
    "# Train a text classifier\n",
    "training_data = [\n",
    "    (\"John Smith received his Ph.D. in Computer Science from ABC University in 2005.\", \"education\"),\n",
    "    (\"Prior to joining XYZ University, he worked as a research scientist at DEF Labs.\", \"professional\"),\n",
    "    (\"His research interests include machine learning, natural language processing, and data mining.\", \"interests\"),\n",
    "    (\"Professor Smith is a member of the Association for Computing Machinery (ACM).\", \"affiliation\"),\n",
    "    (\"He has received several awards for his contributions to the field.\", \"awards\")\n",
    "]\n",
    "\n",
    "vectorizer = TfidfVectorizer()\n",
    "X_train = vectorizer.fit_transform([text for text, _ in training_data])\n",
    "y_train = [label for _, label in training_data]\n",
    "\n",
    "classifier = LogisticRegression()\n",
    "classifier.fit(X_train, y_train)\n",
    "\n",
    "# Process the biography and classify each sentence\n",
    "sentences = [sentence.strip() for sentence in biography.split('.') if sentence.strip()]\n",
    "\n",
    "for sentence in sentences:\n",
    "    X_test = vectorizer.transform([sentence])\n",
    "    predicted_category = classifier.predict(X_test)[0]\n",
    "    if predicted_category in categories:\n",
    "        print(\"Category:\", predicted_category)\n",
    "        print(\"Sentence:\", sentence)\n",
    "        print()\n"
   ]
  },
  {
   "cell_type": "code",
   "execution_count": null,
   "id": "6616a3f6",
   "metadata": {},
   "outputs": [],
   "source": []
  }
 ],
 "metadata": {
  "kernelspec": {
   "display_name": "Python 3 (ipykernel)",
   "language": "python",
   "name": "python3"
  },
  "language_info": {
   "codemirror_mode": {
    "name": "ipython",
    "version": 3
   },
   "file_extension": ".py",
   "mimetype": "text/x-python",
   "name": "python",
   "nbconvert_exporter": "python",
   "pygments_lexer": "ipython3",
   "version": "3.9.13"
  }
 },
 "nbformat": 4,
 "nbformat_minor": 5
}
