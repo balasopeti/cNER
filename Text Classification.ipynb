{
 "cells": [
  {
   "cell_type": "code",
   "execution_count": null,
   "id": "1c4151b3",
   "metadata": {},
   "outputs": [],
   "source": [
    "import spacy\n",
    "from sklearn.feature_extraction.text import TfidfVectorizer\n",
    "from sklearn.linear_model import LogisticRegression"
   ]
  },
  {
   "cell_type": "code",
   "execution_count": null,
   "id": "6cab096b",
   "metadata": {},
   "outputs": [],
   "source": [
    "# Load the spaCy English model\n",
    "nlp = spacy.load('en_core_web_sm')\n",
    "\n",
    "# Example data\n",
    "biography = \"\"\"\n",
    "John Smith is a professor of Computer Science at XYZ University. He received his Ph.D. in Computer Science from ABC University in 2005. Prior to joining XYZ University, he worked as a research scientist at DEF Labs. His research interests include machine learning, natural language processing, and data mining. Professor Smith is a member of the Association for Computing Machinery (ACM) and has received several awards for his contributions to the field.\n",
    "\"\"\""
   ]
  },
  {
   "cell_type": "code",
   "execution_count": null,
   "id": "15c9a7d5",
   "metadata": {},
   "outputs": [],
   "source": [
    "# Define the categories you want to extract\n",
    "categories = ['education', 'professional', 'interests', 'affiliation', 'awards']\n",
    "\n",
    "# Train a text classifier\n",
    "training_data = [\n",
    "    (\"John Smith received his Ph.D. in Computer Science from ABC University in 2005.\", \"education\"),\n",
    "    (\"Prior to joining XYZ University, he worked as a research scientist at DEF Labs.\", \"professional\"),\n",
    "    (\"His research interests include machine learning, natural language processing, and data mining.\", \"interests\"),\n",
    "    (\"Professor Smith is a member of the Association for Computing Machinery (ACM).\", \"affiliation\"),\n",
    "    (\"He has received several awards for his contributions to the field.\", \"awards\")\n",
    "]"
   ]
  },
  {
   "cell_type": "code",
   "execution_count": null,
   "id": "5f9ddbe0",
   "metadata": {},
   "outputs": [],
   "source": [
    "vectorizer = TfidfVectorizer()\n",
    "X_train = vectorizer.fit_transform([text for text, _ in training_data])\n",
    "y_train = [label for _, label in training_data]\n",
    "\n",
    "classifier = LogisticRegression()\n",
    "classifier.fit(X_train, y_train)\n",
    "\n",
    "# Process the biography and extract information\n",
    "doc = nlp(biography)\n",
    "sentences = [sent.text for sent in doc.sents]\n",
    "\n",
    "for sentence in sentences:\n",
    "    X_test = vectorizer.transform([sentence])\n",
    "    predicted_category = classifier.predict(X_test)[0]\n",
    "    if predicted_category in categories:\n",
    "        entities = [(ent.text, ent.label_) for ent in nlp(sentence).ents]\n",
    "        print(\"Category:\", predicted_category)\n",
    "        print(\"Entities:\", entities)\n",
    "        print()"
   ]
  },
  {
   "cell_type": "code",
   "execution_count": null,
   "id": "ca0a1762",
   "metadata": {},
   "outputs": [],
   "source": [
    "from nltk.tokenize import sent_tokenize"
   ]
  },
  {
   "cell_type": "code",
   "execution_count": null,
   "id": "9b4e6aae",
   "metadata": {},
   "outputs": [],
   "source": [
    "from sklearn.feature_extraction.text import TfidfVectorizer\n",
    "from sklearn.linear_model import LogisticRegression\n",
    "\n",
    "# Example data\n",
    "biography = \"\"\"\n",
    " He received his Ph.D. in Computer Science from ABC University in 2005. Prior to joining XYZ University, he worked as a research scientist at DEF Labs. His research interests include machine learning, natural language processing, and data mining. John Smith is a professor of Computer Science at XYZ University.  Professor Smith is a member of the Association for Computing Machinery (ACM) and has received several awards for his contributions to the field.\n",
    "\"\"\"\n",
    "\n",
    "# Define the categories you want to extract\n",
    "categories = ['education', 'professional', 'interests', 'affiliation', 'awards']\n",
    "\n",
    "# Train a text classifier\n",
    "training_data = [\n",
    "    (\"John Smith received his Ph.D. in Computer Science from ABC University in 2005.\", \"education\"),\n",
    "    (\"Prior to joining XYZ University, he worked as a research scientist at DEF Labs.\", \"professional\"),\n",
    "    (\"His research interests include machine learning, natural language processing, and data mining.\", \"interests\"),\n",
    "    (\"Professor Smith is a member of the Association for Computing Machinery (ACM).\", \"affiliation\"),\n",
    "    (\"He has received several awards for his contributions to the field.\", \"awards\")\n",
    "]\n",
    "\n",
    "vectorizer = TfidfVectorizer()\n",
    "X_train = vectorizer.fit_transform([text for text, _ in training_data])\n",
    "y_train = [label for _, label in training_data]\n",
    "\n",
    "classifier = LogisticRegression()\n",
    "classifier.fit(X_train, y_train)\n",
    "\n",
    "# Process the biography and classify each sentence\n",
    "sentences = [sentence.strip() for sentence in biography.split('.') if sentence.strip()]\n",
    "#sentences = sent_tokenize(biography)\n",
    "\n",
    "\n",
    "for sentence in sentences:\n",
    "    X_test = vectorizer.transform([sentence])\n",
    "    predicted_category = classifier.predict(X_test)[0]\n",
    "    if predicted_category in categories:\n",
    "        print(\"Category:\", predicted_category)\n",
    "        print(\"Sentence:\", sentence)\n",
    "        print()\n"
   ]
  },
  {
   "cell_type": "code",
   "execution_count": null,
   "id": "4df7a183",
   "metadata": {},
   "outputs": [],
   "source": [
    "from sklearn.feature_extraction.text import TfidfVectorizer\n",
    "from sklearn.linear_model import LogisticRegression\n",
    "\n",
    "# Example data\n",
    "biography = \"\"\"\n",
    " John Smith is a professor of Computer Science at XYZ University. He received his Ph.D. in Computer Science from ABC University in 2005. Prior to joining XYZ University, he worked as a research scientist at DEF Labs. His research interests include machine learning, natural language processing, and data mining. Professor Smith is a member of the Association for Computing Machinery (ACM) and has received several awards for his contributions to the field.\n",
    "\"\"\"\n",
    "\n",
    "# Define the categories you want to extract\n",
    "categories = ['education', 'professional', 'interests', 'affiliation', 'awards']\n",
    "\n",
    "# Train a text classifier\n",
    "training_data = [\n",
    "    (\"John Smith received his Ph.D. in Computer Science from ABC University in 2005.\", \"education\"),\n",
    "    (\"Prior to joining XYZ University, he worked as a research scientist at DEF Labs.\", \"professional\"),\n",
    "    (\"His research interests include machine learning, natural language processing, and data mining.\", \"interests\"),\n",
    "    (\"Professor Smith is a member of the Association for Computing Machinery (ACM).\", \"affiliation\"),\n",
    "    (\"He has received several awards for his contributions to the field.\", \"awards\")\n",
    "]\n",
    "\n",
    "vectorizer = TfidfVectorizer()\n",
    "X_train = vectorizer.fit_transform([text for text, _ in training_data])\n",
    "y_train = [label for _, label in training_data]\n",
    "\n",
    "classifier = LogisticRegression()\n",
    "classifier.fit(X_train, y_train)\n",
    "\n",
    "# Process the biography and classify each sentence\n",
    "sentences = [sentence.strip() for sentence in biography.split('.') if sentence.strip()]\n",
    "\n",
    "for sentence in sentences:\n",
    "    X_test = vectorizer.transform([sentence])\n",
    "    predicted_category = classifier.predict(X_test)[0]\n",
    "    if predicted_category in categories:\n",
    "        print(\"Category:\", predicted_category)\n",
    "        print(\"Sentence:\", sentence)\n",
    "        print()\n"
   ]
  },
  {
   "cell_type": "code",
   "execution_count": 1,
   "id": "e6da834d",
   "metadata": {},
   "outputs": [],
   "source": [
    "from nltk.tokenize import sent_tokenize , word_tokenize"
   ]
  },
  {
   "cell_type": "code",
   "execution_count": 2,
   "id": "6616a3f6",
   "metadata": {},
   "outputs": [],
   "source": [
    "text =\"\"\"Dr. Ferris Robert is a distinguished radiologist known for his significant contributions to the field of medical imaging and his commitment to advancing patient care. Born on April 12, 1975, in New York City, Dr. Robert developed a passion for medicine and a curiosity for the human body at an early age.Dr. Robert pursued his undergraduate studies at Columbia University, where he obtained a Bachelor of Science degree in Biology with honors. His exceptional academic performance and strong interest in medical research earned him a scholarship to attend Harvard Medical School. At Harvard, he earned his Doctor of Medicine degree, graduating at the top of his class. After completing his medical degree, Dr. Robert embarked on a rigorous residency program in radiology at Massachusetts General Hospital, one of the premier healthcare institutions in the United States. During his residency, he displayed exceptional diagnostic skills and a keen eye for detail, garnering praise from his colleagues and mentors. Following the completion of his residency, Dr. Robert accepted a position as a staff radiologist at Johns Hopkins Hospital in Baltimore, Maryland. There, he honed his expertise in various imaging modalities, including X-rays, CT scans, MRIs, and ultrasounds. His dedication to accuracy, patient care, and innovation soon led to his promotion as the Director of Radiology at the institution. Throughout his career, Dr. Ferris Robert has shown a deep commitment to medical research and the advancement of radiology. His special interests lie in the early detection and diagnosis of cancer using advanced imaging techniques, as well as the development of innovative methods to improve patient outcomes. Dr. Robert has published numerous articles in prestigious medical journals and has presented his research findings at national and international conferences. Dr. Robert is also an accomplished author, having written several influential books in the field of radiology. His publications include \"Advances in  Diagnostic Imaging: A Comprehensive Guide,\" which has become a widely used reference for radiologists worldwide. His ability to explain complex concepts in a clear and concise manner has made his books invaluable resources for medical students, residents, and practicing physicians. Dr. Ferris Robert's contributions to the medical field have been recognized with several awards and honors. He has received the Outstanding Radiologist of the Year Award from the American Board of Radiology for his exceptional clinical skills and dedication to patient care. Additionally, he has been awarded the Distinguished Researcher Award by the Radiological Society of North America for his significant contributions to medical imaging research. Dr. Robert is an active member of numerous professional organizations, including the American College of Radiology, the Radiological Society of North America, and the International Society of Radiology. He is a sought-after speaker and has served as a faculty member at various medical conferences and educational programs. Dr. Ferris Robert continues to inspire and educate aspiring radiologists through his clinical expertise, research contributions, and commitment to improving patient outcomes. His work has left an indelible mark on the field of radiology, making him a respected figure among his peers and a trusted advocate for high-quality healthcare. \"\"\""
   ]
  },
  {
   "cell_type": "code",
   "execution_count": 4,
   "id": "bc6bb03a",
   "metadata": {},
   "outputs": [],
   "source": [
    "#sentences = sent_tokenize(text)"
   ]
  },
  {
   "cell_type": "code",
   "execution_count": null,
   "id": "addf423c",
   "metadata": {},
   "outputs": [],
   "source": [
    "#print(sentences)"
   ]
  },
  {
   "cell_type": "code",
   "execution_count": 5,
   "id": "9b2006de",
   "metadata": {},
   "outputs": [],
   "source": [
    "import spacy"
   ]
  },
  {
   "cell_type": "code",
   "execution_count": 6,
   "id": "4c944391",
   "metadata": {},
   "outputs": [],
   "source": [
    "nlp = spacy.load(\"en_core_web_md\")"
   ]
  },
  {
   "cell_type": "code",
   "execution_count": 7,
   "id": "b85ee0d5",
   "metadata": {},
   "outputs": [],
   "source": [
    "text =\"\"\"Dr. Ferris Robert is a distinguished radiologist known for his significant contributions to the field of medical imaging and his commitment to advancing patient care. Born on April 12, 1975, in New York City, Dr. Robert developed a passion for medicine and a curiosity for the human body at an early age.Dr. Robert pursued his undergraduate studies at Columbia University, where he obtained a Bachelor of Science degree in Biology with honors. His exceptional academic performance and strong interest in medical research earned him a scholarship to attend Harvard Medical School. At Harvard, he earned his Doctor of Medicine degree, graduating at the top of his class. After completing his medical degree, Dr. Robert embarked on a rigorous residency program in radiology at Massachusetts General Hospital, one of the premier healthcare institutions in the United States. During his residency, he displayed exceptional diagnostic skills and a keen eye for detail, garnering praise from his colleagues and mentors. Following the completion of his residency, Dr. Robert accepted a position as a staff radiologist at Johns Hopkins Hospital in Baltimore, Maryland. There, he honed his expertise in various imaging modalities, including X-rays, CT scans, MRIs, and ultrasounds. His dedication to accuracy, patient care, and innovation soon led to his promotion as the Director of Radiology at the institution. Throughout his career, Dr. Ferris Robert has shown a deep commitment to medical research and the advancement of radiology. His special interests lie in the early detection and diagnosis of cancer using advanced imaging techniques, as well as the development of innovative methods to improve patient outcomes. Dr. Robert has published numerous articles in prestigious medical journals and has presented his research findings at national and international conferences. Dr. Robert is also an accomplished author, having written several influential books in the field of radiology. His publications include \"Advances in  Diagnostic Imaging: A Comprehensive Guide,\" which has become a widely used reference for radiologists worldwide. His ability to explain complex concepts in a clear and concise manner has made his books invaluable resources for medical students, residents, and practicing physicians. Dr. Ferris Robert's contributions to the medical field have been recognized with several awards and honors. He has received the Outstanding Radiologist of the Year Award from the American Board of Radiology for his exceptional clinical skills and dedication to patient care. Additionally, he has been awarded the Distinguished Researcher Award by the Radiological Society of North America for his significant contributions to medical imaging research. Dr. Robert is an active member of numerous professional organizations, including the American College of Radiology, the Radiological Society of North America, and the International Society of Radiology. He is a sought-after speaker and has served as a faculty member at various medical conferences and educational programs. Dr. Ferris Robert continues to inspire and educate aspiring radiologists through his clinical expertise, research contributions, and commitment to improving patient outcomes. His work has left an indelible mark on the field of radiology, making him a respected figure among his peers and a trusted advocate for high-quality healthcare. \"\"\""
   ]
  },
  {
   "cell_type": "code",
   "execution_count": 8,
   "id": "ef018a69",
   "metadata": {},
   "outputs": [],
   "source": [
    "doc = nlp(text)"
   ]
  },
  {
   "cell_type": "code",
   "execution_count": 9,
   "id": "244ecb96",
   "metadata": {},
   "outputs": [
    {
     "name": "stdout",
     "output_type": "stream",
     "text": [
      "Dr. Ferris Robert is a distinguished radiologist known for his significant contributions to the field of medical imaging and his commitment to advancing patient care.\n",
      "Born on April 12, 1975, in New York City, Dr. Robert developed a passion for medicine and a curiosity for the human body at an early age.\n",
      "Dr. Robert pursued his undergraduate studies at Columbia University, where he obtained a Bachelor of Science degree in Biology with honors.\n",
      "His exceptional academic performance and strong interest in medical research earned him a scholarship to attend Harvard Medical School.\n",
      "At Harvard, he earned his Doctor of Medicine degree, graduating at the top of his class.\n",
      "After completing his medical degree, Dr. Robert embarked on a rigorous residency program in radiology at Massachusetts General Hospital, one of the premier healthcare institutions in the United States.\n",
      "During his residency, he displayed exceptional diagnostic skills and a keen eye for detail, garnering praise from his colleagues and mentors.\n",
      "Following the completion of his residency, Dr. Robert accepted a position as a staff radiologist at Johns Hopkins Hospital in Baltimore, Maryland.\n",
      "There, he honed his expertise in various imaging modalities, including X-rays, CT scans, MRIs, and ultrasounds.\n",
      "His dedication to accuracy, patient care, and innovation soon led to his promotion as the Director of Radiology at the institution.\n",
      "Throughout his career, Dr. Ferris Robert has shown a deep commitment to medical research and the advancement of radiology.\n",
      "His special interests lie in the early detection and diagnosis of cancer using advanced imaging techniques, as well as the development of innovative methods to improve patient outcomes.\n",
      "Dr. Robert has published numerous articles in prestigious medical journals and has presented his research findings at national and international conferences.\n",
      "Dr. Robert is also an accomplished author, having written several influential books in the field of radiology.\n",
      "His publications include \"Advances in  Diagnostic Imaging: A Comprehensive Guide,\" which has become a widely used reference for radiologists worldwide.\n",
      "His ability to explain complex concepts in a clear and concise manner has made his books invaluable resources for medical students, residents, and practicing physicians.\n",
      "Dr. Ferris Robert's contributions to the medical field have been recognized with several awards and honors.\n",
      "He has received the Outstanding Radiologist of the Year Award from the American Board of Radiology for his exceptional clinical skills and dedication to patient care.\n",
      "Additionally, he has been awarded the Distinguished Researcher Award by the Radiological Society of North America for his significant contributions to medical imaging research.\n",
      "Dr. Robert is an active member of numerous professional organizations, including the American College of Radiology, the Radiological Society of North America, and the International Society of Radiology.\n",
      "He is a sought-after speaker and has served as a faculty member at various medical conferences and educational programs.\n",
      "Dr. Ferris Robert continues to inspire and educate aspiring radiologists through his clinical expertise, research contributions, and commitment to improving patient outcomes.\n",
      "His work has left an indelible mark on the field of radiology, making him a respected figure among his peers and a trusted advocate for high-quality healthcare.\n"
     ]
    }
   ],
   "source": [
    "for sent in doc.sents:\n",
    "    print(sent.text)\n",
    "    "
   ]
  },
  {
   "cell_type": "code",
   "execution_count": null,
   "id": "4cf0ad0e",
   "metadata": {},
   "outputs": [],
   "source": []
  }
 ],
 "metadata": {
  "kernelspec": {
   "display_name": "Python 3 (ipykernel)",
   "language": "python",
   "name": "python3"
  },
  "language_info": {
   "codemirror_mode": {
    "name": "ipython",
    "version": 3
   },
   "file_extension": ".py",
   "mimetype": "text/x-python",
   "name": "python",
   "nbconvert_exporter": "python",
   "pygments_lexer": "ipython3",
   "version": "3.9.13"
  }
 },
 "nbformat": 4,
 "nbformat_minor": 5
}
