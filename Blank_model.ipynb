{
 "cells": [
  {
   "cell_type": "code",
   "execution_count": 30,
   "id": "c4e1c366",
   "metadata": {},
   "outputs": [
    {
     "name": "stderr",
     "output_type": "stream",
     "text": [
      "ERROR: Could not find a version that satisfies the requirement tensorflow-mkl (from versions: none)\n",
      "ERROR: No matching distribution found for tensorflow-mkl\n"
     ]
    }
   ],
   "source": [
    "!pip install tensorflow-mkl"
   ]
  },
  {
   "cell_type": "code",
   "execution_count": 18,
   "id": "b84e5de0",
   "metadata": {},
   "outputs": [],
   "source": [
    "import pandas as pd\n",
    "from tensorflow.keras.preprocessing.text import Tokenizer\n",
    "from tensorflow.keras.preprocessing.sequence import pad_sequences\n",
    "from tensorflow.keras.utils import to_categorical\n",
    "from sklearn.model_selection import train_test_split\n",
    "import numpy as np\n",
    "import spacy\n",
    "from spacy.tokens import Doc\n",
    "from spacy.pipeline import EntityRecognizer\n",
    "from thinc.layers import PyTorchWrapper\n",
    "import torch\n",
    "from spacy.tokens import Span\n",
    "from spacy.language import Language\n",
    "from spacy.tokens import Token\n",
    "from spacy import displacy\n",
    "from tensorflow.keras.models import Sequential\n",
    "from tensorflow.keras.layers import Input, Embedding, Bidirectional, LSTM, TimeDistributed, Dense\n"
   ]
  },
  {
   "cell_type": "code",
   "execution_count": null,
   "id": "93467ed1",
   "metadata": {},
   "outputs": [],
   "source": [
    "!pip install tensorflow-mkl"
   ]
  },
  {
   "cell_type": "code",
   "execution_count": 22,
   "id": "e2d47eea",
   "metadata": {},
   "outputs": [
    {
     "name": "stdout",
     "output_type": "stream",
     "text": [
      "Collecting package-name\n",
      "  Downloading package_name-0.1.tar.gz (782 bytes)\n",
      "  Preparing metadata (setup.py): started\n",
      "  Preparing metadata (setup.py): finished with status 'done'\n",
      "Building wheels for collected packages: package-name\n",
      "  Building wheel for package-name (setup.py): started\n",
      "  Building wheel for package-name (setup.py): finished with status 'done'\n",
      "  Created wheel for package-name: filename=package_name-0.1-py3-none-any.whl size=1232 sha256=c416e66d45a6aa01507cb57dbdd6205a50c472c4e517847843958b34dc78ff1d\n",
      "  Stored in directory: c:\\users\\thiru\\appdata\\local\\pip\\cache\\wheels\\67\\e6\\c3\\cbfcab244d830378592564f5e46da23a8aad979c4a958b401a\n",
      "Successfully built package-name\n",
      "Installing collected packages: package-name\n",
      "Successfully installed package-name-0.1\n",
      "1.13.1+cpu\n"
     ]
    }
   ],
   "source": [
    "#!pip install -r requirements.txt\n",
    "!pip install package-name\n",
    "print(torch.__version__)"
   ]
  },
  {
   "cell_type": "code",
   "execution_count": null,
   "id": "d8522b46",
   "metadata": {},
   "outputs": [],
   "source": [
    "# Load the Excel sheet\n",
    "file_path = \"MasterList (3).xlsx\"\n",
    "data = pd.read_excel(file_path)"
   ]
  },
  {
   "cell_type": "code",
   "execution_count": 23,
   "id": "5f0c3be5",
   "metadata": {},
   "outputs": [
    {
     "data": {
      "text/html": [
       "<div>\n",
       "<style scoped>\n",
       "    .dataframe tbody tr th:only-of-type {\n",
       "        vertical-align: middle;\n",
       "    }\n",
       "\n",
       "    .dataframe tbody tr th {\n",
       "        vertical-align: top;\n",
       "    }\n",
       "\n",
       "    .dataframe thead th {\n",
       "        text-align: right;\n",
       "    }\n",
       "</style>\n",
       "<table border=\"1\" class=\"dataframe\">\n",
       "  <thead>\n",
       "    <tr style=\"text-align: right;\">\n",
       "      <th></th>\n",
       "      <th>Text</th>\n",
       "      <th>Name</th>\n",
       "      <th>Interest</th>\n",
       "    </tr>\n",
       "  </thead>\n",
       "  <tbody>\n",
       "    <tr>\n",
       "      <th>0</th>\n",
       "      <td>Dr. Yue Cao is a highly respected radiologist ...</td>\n",
       "      <td>Yue Cao</td>\n",
       "      <td>tumor ;; tissue therapy;;</td>\n",
       "    </tr>\n",
       "    <tr>\n",
       "      <th>1</th>\n",
       "      <td>Dr. Bensheng Qiu is a renowned radiologist kno...</td>\n",
       "      <td>Bensheng Qiu</td>\n",
       "      <td>radiology;;cancers;;</td>\n",
       "    </tr>\n",
       "    <tr>\n",
       "      <th>2</th>\n",
       "      <td>Dr. Robert Fleck began his academic journey wi...</td>\n",
       "      <td>Robert Fleck J</td>\n",
       "      <td>cancer ;;diagnosis;;</td>\n",
       "    </tr>\n",
       "    <tr>\n",
       "      <th>3</th>\n",
       "      <td>Dr. Holden Wu is a renowned radiologist who ha...</td>\n",
       "      <td>Holden Wu</td>\n",
       "      <td>novel imaging modalities;;cardiac magnetic res...</td>\n",
       "    </tr>\n",
       "    <tr>\n",
       "      <th>4</th>\n",
       "      <td>Dr. William Hyslop is a renowned radiologist w...</td>\n",
       "      <td>William Hyslop</td>\n",
       "      <td>MRI;;PET;;CT;;radiology;;diagnosis;;</td>\n",
       "    </tr>\n",
       "    <tr>\n",
       "      <th>...</th>\n",
       "      <td>...</td>\n",
       "      <td>...</td>\n",
       "      <td>...</td>\n",
       "    </tr>\n",
       "    <tr>\n",
       "      <th>96</th>\n",
       "      <td>Dr. Claude Sirlin is a highly accomplished rad...</td>\n",
       "      <td>Claude Sirlin</td>\n",
       "      <td>MRI imaging;;liver cancer;; liver disease;;</td>\n",
       "    </tr>\n",
       "    <tr>\n",
       "      <th>97</th>\n",
       "      <td>Dr. Martin Prince is a renowned radiologist wh...</td>\n",
       "      <td>Martin Prince</td>\n",
       "      <td>gadolinium-enhanced MR Angiography;; Investig...</td>\n",
       "    </tr>\n",
       "    <tr>\n",
       "      <th>98</th>\n",
       "      <td>Dr. Scott Reeder is a renowned radiologist kno...</td>\n",
       "      <td>Scott Reeder</td>\n",
       "      <td>abdominal adiposity;; liver fat;; liver iron;;...</td>\n",
       "    </tr>\n",
       "    <tr>\n",
       "      <th>99</th>\n",
       "      <td>Dr. David Bluemke is a renowned radiologist kn...</td>\n",
       "      <td>David Bluemke</td>\n",
       "      <td>diagnosis;;cardiovascular diseases;; coronary...</td>\n",
       "    </tr>\n",
       "    <tr>\n",
       "      <th>100</th>\n",
       "      <td>Dr. David Nascene is a renowned radiologist kn...</td>\n",
       "      <td>David Nascene</td>\n",
       "      <td>MRI;;CT;;diagnosing;; cancer;; cardiovascular...</td>\n",
       "    </tr>\n",
       "  </tbody>\n",
       "</table>\n",
       "<p>101 rows × 3 columns</p>\n",
       "</div>"
      ],
      "text/plain": [
       "                                                  Text            Name  \\\n",
       "0    Dr. Yue Cao is a highly respected radiologist ...         Yue Cao   \n",
       "1    Dr. Bensheng Qiu is a renowned radiologist kno...    Bensheng Qiu   \n",
       "2    Dr. Robert Fleck began his academic journey wi...  Robert Fleck J   \n",
       "3    Dr. Holden Wu is a renowned radiologist who ha...       Holden Wu   \n",
       "4    Dr. William Hyslop is a renowned radiologist w...  William Hyslop   \n",
       "..                                                 ...             ...   \n",
       "96   Dr. Claude Sirlin is a highly accomplished rad...   Claude Sirlin   \n",
       "97   Dr. Martin Prince is a renowned radiologist wh...   Martin Prince   \n",
       "98   Dr. Scott Reeder is a renowned radiologist kno...    Scott Reeder   \n",
       "99   Dr. David Bluemke is a renowned radiologist kn...   David Bluemke   \n",
       "100  Dr. David Nascene is a renowned radiologist kn...   David Nascene   \n",
       "\n",
       "                                              Interest  \n",
       "0                            tumor ;; tissue therapy;;  \n",
       "1                                 radiology;;cancers;;  \n",
       "2                                 cancer ;;diagnosis;;  \n",
       "3    novel imaging modalities;;cardiac magnetic res...  \n",
       "4                MRI;;PET;;CT;;radiology;;diagnosis;;   \n",
       "..                                                 ...  \n",
       "96         MRI imaging;;liver cancer;; liver disease;;  \n",
       "97    gadolinium-enhanced MR Angiography;; Investig...  \n",
       "98   abdominal adiposity;; liver fat;; liver iron;;...  \n",
       "99    diagnosis;;cardiovascular diseases;; coronary...  \n",
       "100   MRI;;CT;;diagnosing;; cancer;; cardiovascular...  \n",
       "\n",
       "[101 rows x 3 columns]"
      ]
     },
     "execution_count": 23,
     "metadata": {},
     "output_type": "execute_result"
    }
   ],
   "source": [
    "data"
   ]
  },
  {
   "cell_type": "code",
   "execution_count": 24,
   "id": "79ed6486",
   "metadata": {},
   "outputs": [],
   "source": [
    "# Separate the text and the names\n",
    "texts = data['Text'].tolist()\n",
    "names = data['Name'].tolist()"
   ]
  },
  {
   "cell_type": "code",
   "execution_count": 25,
   "id": "b3fab7d7",
   "metadata": {},
   "outputs": [],
   "source": [
    "# Tokenize the texts and the names\n",
    "text_tokenizer = Tokenizer(char_level=True)\n",
    "text_tokenizer.fit_on_texts(texts)\n",
    "text_sequences = text_tokenizer.texts_to_sequences(texts)\n",
    "\n",
    "#name_tokenizer = Tokenizer(char_level=True)\n",
    "#name_tokenizer.fit_on_texts(names)\n",
    "#name_sequences = name_tokenizer.texts_to_sequences(names)"
   ]
  },
  {
   "cell_type": "code",
   "execution_count": 26,
   "id": "a5ae54d1",
   "metadata": {
    "scrolled": true
   },
   "outputs": [],
   "source": [
    "# Pad the sequences\n",
    "max_length = max([len(seq) for seq in text_sequences])\n",
    "text_sequences_padded = pad_sequences(text_sequences, maxlen=max_length, padding='post')\n",
    "name_sequences_padded = pad_sequences(name_sequences, maxlen=max_length, padding='post')"
   ]
  },
  {
   "cell_type": "code",
   "execution_count": 27,
   "id": "2ea6af29",
   "metadata": {},
   "outputs": [],
   "source": [
    "# Convert the names to one-hot encoding\n",
    "name_sequences_onehot = [to_categorical(seq, num_classes=len(name_tokenizer.word_index) + 1) for seq in name_sequences_padded]"
   ]
  },
  {
   "cell_type": "code",
   "execution_count": 28,
   "id": "3badcce4",
   "metadata": {},
   "outputs": [],
   "source": [
    "# Split the data into training and validation sets\n",
    "train_texts, val_texts, train_names, val_names = train_test_split(text_sequences_padded, np.array(name_sequences_onehot), test_size=0.2)"
   ]
  },
  {
   "cell_type": "code",
   "execution_count": 39,
   "id": "d2ad9899",
   "metadata": {},
   "outputs": [
    {
     "name": "stdout",
     "output_type": "stream",
     "text": [
      "WARNING:tensorflow:Layer lstm_4 will not use cuDNN kernels since it doesn't meet the criteria. It will use a generic GPU kernel as fallback when running on GPU.\n",
      "WARNING:tensorflow:Layer lstm_4 will not use cuDNN kernels since it doesn't meet the criteria. It will use a generic GPU kernel as fallback when running on GPU.\n",
      "WARNING:tensorflow:Layer lstm_4 will not use cuDNN kernels since it doesn't meet the criteria. It will use a generic GPU kernel as fallback when running on GPU.\n",
      "WARNING:tensorflow:Layer lstm_5 will not use cuDNN kernels since it doesn't meet the criteria. It will use a generic GPU kernel as fallback when running on GPU.\n"
     ]
    }
   ],
   "source": [
    "input_dim = len(text_tokenizer.word_index) + 1\n",
    "output_dim = len(name_tokenizer.word_index) + 1\n",
    "\n",
    "model = Sequential([\n",
    "    Input(shape=(max_length,)),\n",
    "    Embedding(input_dim=input_dim, output_dim=32, input_length=max_length),\n",
    "    Bidirectional(LSTM(units=32, return_sequences=True, dropout=0.2, recurrent_dropout=0.2)),\n",
    "    LSTM(units=32, return_sequences=True, dropout=0.5, recurrent_dropout=0.5),\n",
    "    TimeDistributed(Dense(output_dim, activation=\"softmax\"))\n",
    "])\n",
    "\n",
    "model.compile(loss='categorical_crossentropy', optimizer='adam', metrics=['accuracy'])"
   ]
  },
  {
   "cell_type": "code",
   "execution_count": 16,
   "id": "024f67d2",
   "metadata": {},
   "outputs": [
    {
     "name": "stdout",
     "output_type": "stream",
     "text": [
      "Epoch 1/5\n",
      "5/5 [==============================] - 342s 66s/step - loss: 3.3267 - accuracy: 0.7183 - val_loss: 3.2550 - val_accuracy: 0.9971\n",
      "Epoch 2/5\n",
      "5/5 [==============================] - 370s 77s/step - loss: 3.1629 - accuracy: 0.9967 - val_loss: 2.9594 - val_accuracy: 0.9971\n",
      "Epoch 3/5\n",
      "5/5 [==============================] - 353s 72s/step - loss: 2.6831 - accuracy: 0.9967 - val_loss: 2.0587 - val_accuracy: 0.9971\n",
      "Epoch 4/5\n",
      "5/5 [==============================] - 339s 68s/step - loss: 1.6615 - accuracy: 0.9967 - val_loss: 1.0187 - val_accuracy: 0.9971\n",
      "Epoch 5/5\n",
      "5/5 [==============================] - 325s 67s/step - loss: 0.8717 - accuracy: 0.9967 - val_loss: 0.5618 - val_accuracy: 0.9971\n"
     ]
    }
   ],
   "source": [
    "history = model.fit(train_texts, train_names, epochs=5, batch_size=16, validation_data=(val_texts, val_names))"
   ]
  },
  {
   "cell_type": "code",
   "execution_count": 38,
   "id": "d68eb3b1",
   "metadata": {},
   "outputs": [
    {
     "ename": "AttributeError",
     "evalue": "'Bidirectional' object has no attribute 'to'",
     "output_type": "error",
     "traceback": [
      "\u001b[1;31m---------------------------------------------------------------------------\u001b[0m",
      "\u001b[1;31mAttributeError\u001b[0m                            Traceback (most recent call last)",
      "\u001b[1;32m~\\AppData\\Local\\Temp\\ipykernel_28592\\1677632818.py\u001b[0m in \u001b[0;36m<module>\u001b[1;34m\u001b[0m\n\u001b[0;32m      4\u001b[0m         \u001b[0mtorch_model_layers\u001b[0m\u001b[1;33m.\u001b[0m\u001b[0mappend\u001b[0m\u001b[1;33m(\u001b[0m\u001b[0mlayer\u001b[0m\u001b[1;33m)\u001b[0m\u001b[1;33m\u001b[0m\u001b[1;33m\u001b[0m\u001b[0m\n\u001b[0;32m      5\u001b[0m     \u001b[1;32melse\u001b[0m\u001b[1;33m:\u001b[0m\u001b[1;33m\u001b[0m\u001b[1;33m\u001b[0m\u001b[0m\n\u001b[1;32m----> 6\u001b[1;33m         \u001b[0mtorch_model_layers\u001b[0m\u001b[1;33m.\u001b[0m\u001b[0mappend\u001b[0m\u001b[1;33m(\u001b[0m\u001b[0mPyTorchWrapper\u001b[0m\u001b[1;33m(\u001b[0m\u001b[0mlayer\u001b[0m\u001b[1;33m)\u001b[0m\u001b[1;33m)\u001b[0m\u001b[1;33m\u001b[0m\u001b[1;33m\u001b[0m\u001b[0m\n\u001b[0m\u001b[0;32m      7\u001b[0m \u001b[1;33m\u001b[0m\u001b[0m\n\u001b[0;32m      8\u001b[0m \u001b[0mtorch_model\u001b[0m \u001b[1;33m=\u001b[0m \u001b[0mtorch\u001b[0m\u001b[1;33m.\u001b[0m\u001b[0mnn\u001b[0m\u001b[1;33m.\u001b[0m\u001b[0mSequential\u001b[0m\u001b[1;33m(\u001b[0m\u001b[1;33m*\u001b[0m\u001b[0mtorch_model_layers\u001b[0m\u001b[1;33m)\u001b[0m\u001b[1;33m\u001b[0m\u001b[1;33m\u001b[0m\u001b[0m\n",
      "\u001b[1;32m~\\anaconda3\\lib\\site-packages\\thinc\\layers\\pytorchwrapper.py\u001b[0m in \u001b[0;36mPyTorchWrapper\u001b[1;34m(pytorch_model, convert_inputs, convert_outputs)\u001b[0m\n\u001b[0;32m     66\u001b[0m         \u001b[0mforward\u001b[0m\u001b[1;33m,\u001b[0m\u001b[1;33m\u001b[0m\u001b[1;33m\u001b[0m\u001b[0m\n\u001b[0;32m     67\u001b[0m         \u001b[0mattrs\u001b[0m\u001b[1;33m=\u001b[0m\u001b[1;33m{\u001b[0m\u001b[1;34m\"convert_inputs\"\u001b[0m\u001b[1;33m:\u001b[0m \u001b[0mconvert_inputs\u001b[0m\u001b[1;33m,\u001b[0m \u001b[1;34m\"convert_outputs\"\u001b[0m\u001b[1;33m:\u001b[0m \u001b[0mconvert_outputs\u001b[0m\u001b[1;33m}\u001b[0m\u001b[1;33m,\u001b[0m\u001b[1;33m\u001b[0m\u001b[1;33m\u001b[0m\u001b[0m\n\u001b[1;32m---> 68\u001b[1;33m         \u001b[0mshims\u001b[0m\u001b[1;33m=\u001b[0m\u001b[1;33m[\u001b[0m\u001b[0mPyTorchShim\u001b[0m\u001b[1;33m(\u001b[0m\u001b[0mpytorch_model\u001b[0m\u001b[1;33m)\u001b[0m\u001b[1;33m]\u001b[0m\u001b[1;33m,\u001b[0m\u001b[1;33m\u001b[0m\u001b[1;33m\u001b[0m\u001b[0m\n\u001b[0m\u001b[0;32m     69\u001b[0m         \u001b[0mdims\u001b[0m\u001b[1;33m=\u001b[0m\u001b[1;33m{\u001b[0m\u001b[1;34m\"nI\"\u001b[0m\u001b[1;33m:\u001b[0m \u001b[1;32mNone\u001b[0m\u001b[1;33m,\u001b[0m \u001b[1;34m\"nO\"\u001b[0m\u001b[1;33m:\u001b[0m \u001b[1;32mNone\u001b[0m\u001b[1;33m}\u001b[0m\u001b[1;33m,\u001b[0m\u001b[1;33m\u001b[0m\u001b[1;33m\u001b[0m\u001b[0m\n\u001b[0;32m     70\u001b[0m     )\n",
      "\u001b[1;32m~\\anaconda3\\lib\\site-packages\\thinc\\shims\\pytorch.py\u001b[0m in \u001b[0;36m__init__\u001b[1;34m(self, model, config, optimizer, mixed_precision, grad_scaler, device, serialize_model, deserialize_model)\u001b[0m\n\u001b[0;32m     57\u001b[0m             \u001b[0mdevice\u001b[0m \u001b[1;33m=\u001b[0m \u001b[0mget_torch_default_device\u001b[0m\u001b[1;33m(\u001b[0m\u001b[1;33m)\u001b[0m\u001b[1;33m\u001b[0m\u001b[1;33m\u001b[0m\u001b[0m\n\u001b[0;32m     58\u001b[0m         \u001b[1;32mif\u001b[0m \u001b[0mmodel\u001b[0m \u001b[1;32mis\u001b[0m \u001b[1;32mnot\u001b[0m \u001b[1;32mNone\u001b[0m\u001b[1;33m:\u001b[0m\u001b[1;33m\u001b[0m\u001b[1;33m\u001b[0m\u001b[0m\n\u001b[1;32m---> 59\u001b[1;33m             \u001b[0mmodel\u001b[0m\u001b[1;33m.\u001b[0m\u001b[0mto\u001b[0m\u001b[1;33m(\u001b[0m\u001b[0mdevice\u001b[0m\u001b[1;33m)\u001b[0m\u001b[1;33m\u001b[0m\u001b[1;33m\u001b[0m\u001b[0m\n\u001b[0m\u001b[0;32m     60\u001b[0m \u001b[1;33m\u001b[0m\u001b[0m\n\u001b[0;32m     61\u001b[0m         \u001b[1;32mif\u001b[0m \u001b[0mgrad_scaler\u001b[0m \u001b[1;32mis\u001b[0m \u001b[1;32mNone\u001b[0m\u001b[1;33m:\u001b[0m\u001b[1;33m\u001b[0m\u001b[1;33m\u001b[0m\u001b[0m\n",
      "\u001b[1;31mAttributeError\u001b[0m: 'Bidirectional' object has no attribute 'to'"
     ]
    }
   ],
   "source": [
    "torch_model_layers = []\n",
    "for layer in model.layers:\n",
    "    if isinstance(layer, Embedding):\n",
    "        torch_model_layers.append(layer)\n",
    "    else:\n",
    "        torch_model_layers.append(PyTorchWrapper(layer))\n",
    "        \n",
    "torch_model = torch.nn.Sequential(*torch_model_layers)\n",
    "\n",
    "#for layer in model.layers:\n",
    "#    if isinstance(layer, Bidirectional):\n",
    "#        torch_model_layers.append(layer.forward_layer)\n",
    "#        torch_model_layers.append(layer.backward_layer)\n",
    "#    else:\n",
    "#        torch_model_layers.append(PyTorchWrapper(layer))\n",
    "        \n",
    "#torch_model = torch.nn.Sequential(*torch_model_layers)"
   ]
  },
  {
   "cell_type": "code",
   "execution_count": 40,
   "id": "5fddafb5",
   "metadata": {
    "scrolled": true
   },
   "outputs": [],
   "source": [
    "# Convert Keras model to PyTorch model\n",
    "#torch_model = torch.nn.Sequential(*[PyTorchWrapper(layer) for layer in model.layers])\n",
    "\n",
    "# Create a custom spaCy component\n",
    "class KerasEntityRecognizer(EntityRecognizer):\n",
    "    def predict(self, docs):\n",
    "        X = [doc.tensor for doc in docs]\n",
    "        X_padded = pad_sequences(X, maxlen=max_length, padding='post')\n",
    "        y_pred = self.model(torch.tensor(X_padded, dtype=torch.float32))\n",
    "        return y_pred.detach().numpy()\n"
   ]
  },
  {
   "cell_type": "code",
   "execution_count": 41,
   "id": "017d548a",
   "metadata": {},
   "outputs": [],
   "source": [
    "@Language.component(\"keras_entity_recognizer\")\n",
    "def keras_entity_recognizer(doc):\n",
    "    # Convert the document text into input for the model\n",
    "    text_sequence = text_tokenizer.texts_to_sequences([doc.text])\n",
    "    text_sequence_padded = pad_sequences(text_sequence, maxlen=max_length, padding='post')\n",
    "\n",
    "    # Get the model predictions\n",
    "    predictions = model.predict(text_sequence_padded)[0]\n",
    "\n",
    "    # Extract the name from the predictions\n",
    "    name_indices = np.argmax(predictions, axis=-1)\n",
    "    name_tokens = [name_tokenizer.index_word[idx] if idx > 0 else '' for idx in name_indices]\n",
    "\n",
    "    # Assign the name tokens to the doc\n",
    "    for i, token in enumerate(doc):\n",
    "        if name_tokens[i]:\n",
    "            token._.name = name_tokens[i]\n",
    "        else:\n",
    "            token._.name = \"\"\n",
    "\n",
    "    # Add entities to the doc\n",
    "    for token in doc:\n",
    "        if token._.name:\n",
    "            doc.ents += (Span(doc, token.i, token.i + 1, label='PERSON'),)\n",
    "\n",
    "    return doc"
   ]
  },
  {
   "cell_type": "code",
   "execution_count": 42,
   "id": "92ac6b98",
   "metadata": {},
   "outputs": [
    {
     "name": "stdout",
     "output_type": "stream",
     "text": [
      "1/1 [==============================] - 12s 12s/step\n"
     ]
    },
    {
     "ename": "ValueError",
     "evalue": "[E1010] Unable to set entity information for token 2 which is included in more than one span in entities, blocked, missing or outside.",
     "output_type": "error",
     "traceback": [
      "\u001b[1;31m---------------------------------------------------------------------------\u001b[0m",
      "\u001b[1;31mValueError\u001b[0m                                Traceback (most recent call last)",
      "\u001b[1;32m~\\AppData\\Local\\Temp\\ipykernel_28592\\1050943502.py\u001b[0m in \u001b[0;36m<module>\u001b[1;34m\u001b[0m\n\u001b[0;32m      8\u001b[0m \u001b[1;31m# Process a text using the spaCy pipeline\u001b[0m\u001b[1;33m\u001b[0m\u001b[1;33m\u001b[0m\u001b[0m\n\u001b[0;32m      9\u001b[0m \u001b[0mtext\u001b[0m \u001b[1;33m=\u001b[0m \u001b[1;34m\" Dr. Sharath Chandra Mouli is a medical doctor who specializes in the field of Gastroenterology. He is associated with the Krishna Institute of Medical Sciences (KIMS) Hospital in Secunderabad, Telangana, India.Dr. Mouli completed his MBBS degree from the Rajiv Gandhi University of Health Sciences in Bangalore, India, and then went on to pursue a Doctorate of Medicine (DM) in Gastroenterology from the Nizam's Institute of Medical Sciences in Hyderabad, India. He has several years of experience in the field of Gastroenterology and has worked at various prestigious institutions across India.Dr. Mouli's areas of expertise include the diagnosis and treatment of various gastrointestinal disorders such as inflammatory bowel disease, liver diseases, pancreatic disorders, and motility disorders. He is also trained in performing advanced endoscopic procedures such as endoscopic ultrasound (EUS), endoscopic retrograde cholangiopancreatography (ERCP), and endoscopic mucosal resection (EMR).Apart from his clinical work, Dr. Mouli is also involved in research activities in the field of Gastroenterology and has published several articles in peer-reviewed medical journals.\"\u001b[0m\u001b[1;33m\u001b[0m\u001b[1;33m\u001b[0m\u001b[0m\n\u001b[1;32m---> 10\u001b[1;33m \u001b[0mdoc\u001b[0m \u001b[1;33m=\u001b[0m \u001b[0mnlp\u001b[0m\u001b[1;33m(\u001b[0m\u001b[0mtext\u001b[0m\u001b[1;33m)\u001b[0m\u001b[1;33m\u001b[0m\u001b[1;33m\u001b[0m\u001b[0m\n\u001b[0m\u001b[0;32m     11\u001b[0m \u001b[1;33m\u001b[0m\u001b[0m\n\u001b[0;32m     12\u001b[0m \u001b[1;31m# Print the extracted entities\u001b[0m\u001b[1;33m\u001b[0m\u001b[1;33m\u001b[0m\u001b[0m\n",
      "\u001b[1;32m~\\anaconda3\\lib\\site-packages\\spacy\\language.py\u001b[0m in \u001b[0;36m__call__\u001b[1;34m(self, text, disable, component_cfg)\u001b[0m\n\u001b[0;32m   1014\u001b[0m                 \u001b[1;32mraise\u001b[0m \u001b[0mValueError\u001b[0m\u001b[1;33m(\u001b[0m\u001b[0mErrors\u001b[0m\u001b[1;33m.\u001b[0m\u001b[0mE109\u001b[0m\u001b[1;33m.\u001b[0m\u001b[0mformat\u001b[0m\u001b[1;33m(\u001b[0m\u001b[0mname\u001b[0m\u001b[1;33m=\u001b[0m\u001b[0mname\u001b[0m\u001b[1;33m)\u001b[0m\u001b[1;33m)\u001b[0m \u001b[1;32mfrom\u001b[0m \u001b[0me\u001b[0m\u001b[1;33m\u001b[0m\u001b[1;33m\u001b[0m\u001b[0m\n\u001b[0;32m   1015\u001b[0m             \u001b[1;32mexcept\u001b[0m \u001b[0mException\u001b[0m \u001b[1;32mas\u001b[0m \u001b[0me\u001b[0m\u001b[1;33m:\u001b[0m\u001b[1;33m\u001b[0m\u001b[1;33m\u001b[0m\u001b[0m\n\u001b[1;32m-> 1016\u001b[1;33m                 \u001b[0merror_handler\u001b[0m\u001b[1;33m(\u001b[0m\u001b[0mname\u001b[0m\u001b[1;33m,\u001b[0m \u001b[0mproc\u001b[0m\u001b[1;33m,\u001b[0m \u001b[1;33m[\u001b[0m\u001b[0mdoc\u001b[0m\u001b[1;33m]\u001b[0m\u001b[1;33m,\u001b[0m \u001b[0me\u001b[0m\u001b[1;33m)\u001b[0m\u001b[1;33m\u001b[0m\u001b[1;33m\u001b[0m\u001b[0m\n\u001b[0m\u001b[0;32m   1017\u001b[0m             \u001b[1;32mif\u001b[0m \u001b[1;32mnot\u001b[0m \u001b[0misinstance\u001b[0m\u001b[1;33m(\u001b[0m\u001b[0mdoc\u001b[0m\u001b[1;33m,\u001b[0m \u001b[0mDoc\u001b[0m\u001b[1;33m)\u001b[0m\u001b[1;33m:\u001b[0m\u001b[1;33m\u001b[0m\u001b[1;33m\u001b[0m\u001b[0m\n\u001b[0;32m   1018\u001b[0m                 \u001b[1;32mraise\u001b[0m \u001b[0mValueError\u001b[0m\u001b[1;33m(\u001b[0m\u001b[0mErrors\u001b[0m\u001b[1;33m.\u001b[0m\u001b[0mE005\u001b[0m\u001b[1;33m.\u001b[0m\u001b[0mformat\u001b[0m\u001b[1;33m(\u001b[0m\u001b[0mname\u001b[0m\u001b[1;33m=\u001b[0m\u001b[0mname\u001b[0m\u001b[1;33m,\u001b[0m \u001b[0mreturned_type\u001b[0m\u001b[1;33m=\u001b[0m\u001b[0mtype\u001b[0m\u001b[1;33m(\u001b[0m\u001b[0mdoc\u001b[0m\u001b[1;33m)\u001b[0m\u001b[1;33m)\u001b[0m\u001b[1;33m)\u001b[0m\u001b[1;33m\u001b[0m\u001b[1;33m\u001b[0m\u001b[0m\n",
      "\u001b[1;32m~\\anaconda3\\lib\\site-packages\\spacy\\util.py\u001b[0m in \u001b[0;36mraise_error\u001b[1;34m(proc_name, proc, docs, e)\u001b[0m\n\u001b[0;32m   1687\u001b[0m \u001b[1;33m\u001b[0m\u001b[0m\n\u001b[0;32m   1688\u001b[0m \u001b[1;32mdef\u001b[0m \u001b[0mraise_error\u001b[0m\u001b[1;33m(\u001b[0m\u001b[0mproc_name\u001b[0m\u001b[1;33m,\u001b[0m \u001b[0mproc\u001b[0m\u001b[1;33m,\u001b[0m \u001b[0mdocs\u001b[0m\u001b[1;33m,\u001b[0m \u001b[0me\u001b[0m\u001b[1;33m)\u001b[0m\u001b[1;33m:\u001b[0m\u001b[1;33m\u001b[0m\u001b[1;33m\u001b[0m\u001b[0m\n\u001b[1;32m-> 1689\u001b[1;33m     \u001b[1;32mraise\u001b[0m \u001b[0me\u001b[0m\u001b[1;33m\u001b[0m\u001b[1;33m\u001b[0m\u001b[0m\n\u001b[0m\u001b[0;32m   1690\u001b[0m \u001b[1;33m\u001b[0m\u001b[0m\n\u001b[0;32m   1691\u001b[0m \u001b[1;33m\u001b[0m\u001b[0m\n",
      "\u001b[1;32m~\\anaconda3\\lib\\site-packages\\spacy\\language.py\u001b[0m in \u001b[0;36m__call__\u001b[1;34m(self, text, disable, component_cfg)\u001b[0m\n\u001b[0;32m   1009\u001b[0m                 \u001b[0merror_handler\u001b[0m \u001b[1;33m=\u001b[0m \u001b[0mproc\u001b[0m\u001b[1;33m.\u001b[0m\u001b[0mget_error_handler\u001b[0m\u001b[1;33m(\u001b[0m\u001b[1;33m)\u001b[0m\u001b[1;33m\u001b[0m\u001b[1;33m\u001b[0m\u001b[0m\n\u001b[0;32m   1010\u001b[0m             \u001b[1;32mtry\u001b[0m\u001b[1;33m:\u001b[0m\u001b[1;33m\u001b[0m\u001b[1;33m\u001b[0m\u001b[0m\n\u001b[1;32m-> 1011\u001b[1;33m                 \u001b[0mdoc\u001b[0m \u001b[1;33m=\u001b[0m \u001b[0mproc\u001b[0m\u001b[1;33m(\u001b[0m\u001b[0mdoc\u001b[0m\u001b[1;33m,\u001b[0m \u001b[1;33m**\u001b[0m\u001b[0mcomponent_cfg\u001b[0m\u001b[1;33m.\u001b[0m\u001b[0mget\u001b[0m\u001b[1;33m(\u001b[0m\u001b[0mname\u001b[0m\u001b[1;33m,\u001b[0m \u001b[1;33m{\u001b[0m\u001b[1;33m}\u001b[0m\u001b[1;33m)\u001b[0m\u001b[1;33m)\u001b[0m  \u001b[1;31m# type: ignore[call-arg]\u001b[0m\u001b[1;33m\u001b[0m\u001b[1;33m\u001b[0m\u001b[0m\n\u001b[0m\u001b[0;32m   1012\u001b[0m             \u001b[1;32mexcept\u001b[0m \u001b[0mKeyError\u001b[0m \u001b[1;32mas\u001b[0m \u001b[0me\u001b[0m\u001b[1;33m:\u001b[0m\u001b[1;33m\u001b[0m\u001b[1;33m\u001b[0m\u001b[0m\n\u001b[0;32m   1013\u001b[0m                 \u001b[1;31m# This typically happens if a component is not initialized\u001b[0m\u001b[1;33m\u001b[0m\u001b[1;33m\u001b[0m\u001b[0m\n",
      "\u001b[1;32m~\\AppData\\Local\\Temp\\ipykernel_28592\\2516158497.py\u001b[0m in \u001b[0;36mkeras_entity_recognizer\u001b[1;34m(doc)\u001b[0m\n\u001b[0;32m     22\u001b[0m     \u001b[1;32mfor\u001b[0m \u001b[0mtoken\u001b[0m \u001b[1;32min\u001b[0m \u001b[0mdoc\u001b[0m\u001b[1;33m:\u001b[0m\u001b[1;33m\u001b[0m\u001b[1;33m\u001b[0m\u001b[0m\n\u001b[0;32m     23\u001b[0m         \u001b[1;32mif\u001b[0m \u001b[0mtoken\u001b[0m\u001b[1;33m.\u001b[0m\u001b[0m_\u001b[0m\u001b[1;33m.\u001b[0m\u001b[0mname\u001b[0m\u001b[1;33m:\u001b[0m\u001b[1;33m\u001b[0m\u001b[1;33m\u001b[0m\u001b[0m\n\u001b[1;32m---> 24\u001b[1;33m             \u001b[0mdoc\u001b[0m\u001b[1;33m.\u001b[0m\u001b[0ments\u001b[0m \u001b[1;33m+=\u001b[0m \u001b[1;33m(\u001b[0m\u001b[0mSpan\u001b[0m\u001b[1;33m(\u001b[0m\u001b[0mdoc\u001b[0m\u001b[1;33m,\u001b[0m \u001b[0mtoken\u001b[0m\u001b[1;33m.\u001b[0m\u001b[0mi\u001b[0m\u001b[1;33m,\u001b[0m \u001b[0mtoken\u001b[0m\u001b[1;33m.\u001b[0m\u001b[0mi\u001b[0m \u001b[1;33m+\u001b[0m \u001b[1;36m1\u001b[0m\u001b[1;33m,\u001b[0m \u001b[0mlabel\u001b[0m\u001b[1;33m=\u001b[0m\u001b[1;34m'PERSON'\u001b[0m\u001b[1;33m)\u001b[0m\u001b[1;33m,\u001b[0m\u001b[1;33m)\u001b[0m\u001b[1;33m\u001b[0m\u001b[1;33m\u001b[0m\u001b[0m\n\u001b[0m\u001b[0;32m     25\u001b[0m \u001b[1;33m\u001b[0m\u001b[0m\n\u001b[0;32m     26\u001b[0m     \u001b[1;32mreturn\u001b[0m \u001b[0mdoc\u001b[0m\u001b[1;33m\u001b[0m\u001b[1;33m\u001b[0m\u001b[0m\n",
      "\u001b[1;32m~\\anaconda3\\lib\\site-packages\\spacy\\tokens\\doc.pyx\u001b[0m in \u001b[0;36mspacy.tokens.doc.Doc.ents.__set__\u001b[1;34m()\u001b[0m\n",
      "\u001b[1;32m~\\anaconda3\\lib\\site-packages\\spacy\\tokens\\doc.pyx\u001b[0m in \u001b[0;36mspacy.tokens.doc.Doc.set_ents\u001b[1;34m()\u001b[0m\n",
      "\u001b[1;31mValueError\u001b[0m: [E1010] Unable to set entity information for token 2 which is included in more than one span in entities, blocked, missing or outside."
     ]
    }
   ],
   "source": [
    "# Register the custom attribute\n",
    "Token.set_extension('name', default='')\n",
    "\n",
    "# Load a spaCy model and add the custom component\n",
    "nlp = spacy.load(\"en_core_web_sm\")\n",
    "nlp.add_pipe(\"keras_entity_recognizer\")\n",
    "\n",
    "# Process a text using the spaCy pipeline\n",
    "text = \" Dr. Sharath Chandra Mouli is a medical doctor who specializes in the field of Gastroenterology. He is associated with the Krishna Institute of Medical Sciences (KIMS) Hospital in Secunderabad, Telangana, India.Dr. Mouli completed his MBBS degree from the Rajiv Gandhi University of Health Sciences in Bangalore, India, and then went on to pursue a Doctorate of Medicine (DM) in Gastroenterology from the Nizam's Institute of Medical Sciences in Hyderabad, India. He has several years of experience in the field of Gastroenterology and has worked at various prestigious institutions across India.Dr. Mouli's areas of expertise include the diagnosis and treatment of various gastrointestinal disorders such as inflammatory bowel disease, liver diseases, pancreatic disorders, and motility disorders. He is also trained in performing advanced endoscopic procedures such as endoscopic ultrasound (EUS), endoscopic retrograde cholangiopancreatography (ERCP), and endoscopic mucosal resection (EMR).Apart from his clinical work, Dr. Mouli is also involved in research activities in the field of Gastroenterology and has published several articles in peer-reviewed medical journals.\"\n",
    "doc = nlp(text)\n",
    "\n",
    "# Print the extracted entities\n",
    "print(\"Entities found:\", [(ent.text, ent.label_) for ent in doc.ents])"
   ]
  },
  {
   "cell_type": "code",
   "execution_count": null,
   "id": "d98de791",
   "metadata": {},
   "outputs": [],
   "source": [
    "# Visualize the named entities using displaCy\n",
    "#displacy.render(doc, style='ent', options={'ents': ['PERSON']})\n",
    "displacy.render(doc, style='ent')"
   ]
  },
  {
   "cell_type": "code",
   "execution_count": null,
   "id": "2521e993",
   "metadata": {},
   "outputs": [],
   "source": []
  }
 ],
 "metadata": {
  "kernelspec": {
   "display_name": "Python 3 (ipykernel)",
   "language": "python",
   "name": "python3"
  },
  "language_info": {
   "codemirror_mode": {
    "name": "ipython",
    "version": 3
   },
   "file_extension": ".py",
   "mimetype": "text/x-python",
   "name": "python",
   "nbconvert_exporter": "python",
   "pygments_lexer": "ipython3",
   "version": "3.9.13"
  }
 },
 "nbformat": 4,
 "nbformat_minor": 5
}
