{
 "cells": [
  {
   "cell_type": "code",
   "execution_count": 1,
   "id": "0a693373",
   "metadata": {},
   "outputs": [],
   "source": [
    "import spacy"
   ]
  },
  {
   "cell_type": "code",
   "execution_count": null,
   "id": "08baf555",
   "metadata": {},
   "outputs": [],
   "source": [
    "# !python -m spacy download en_core_web_sm\n",
    "!python -m spacy download en_core_web_lg"
   ]
  },
  {
   "cell_type": "code",
   "execution_count": null,
   "id": "852ce47c",
   "metadata": {},
   "outputs": [],
   "source": [
    "nlp = spacy.load(\"en_core_web_lg\")"
   ]
  },
  {
   "cell_type": "code",
   "execution_count": null,
   "id": "bced573b",
   "metadata": {},
   "outputs": [],
   "source": [
    "\n",
    "doc = nlp(\"Donad Trump was President of USA\")"
   ]
  },
  {
   "cell_type": "code",
   "execution_count": null,
   "id": "4d8413f4",
   "metadata": {},
   "outputs": [],
   "source": [
    "type(doc)\n",
    "     "
   ]
  },
  {
   "cell_type": "code",
   "execution_count": null,
   "id": "8b2f8db8",
   "metadata": {},
   "outputs": [],
   "source": [
    "doc.ents"
   ]
  },
  {
   "cell_type": "code",
   "execution_count": null,
   "id": "5aca19dd",
   "metadata": {},
   "outputs": [],
   "source": [
    "doc.ents[0], type(doc.ents[0])"
   ]
  },
  {
   "cell_type": "code",
   "execution_count": null,
   "id": "727eb14e",
   "metadata": {},
   "outputs": [],
   "source": [
    "from spacy import displacy\n",
    "displacy.render(doc, style=\"ent\", jupyter=True)"
   ]
  },
  {
   "cell_type": "code",
   "execution_count": null,
   "id": "1e233f21",
   "metadata": {},
   "outputs": [],
   "source": [
    "import json\n",
    "# https://www.kaggle.com/datasets/finalepoch/medical-ner \n",
    "with open('Corona2.json', 'r') as f:\n",
    "    data = json.load(f)\n",
    "     "
   ]
  },
  {
   "cell_type": "code",
   "execution_count": null,
   "id": "58d0c92a",
   "metadata": {},
   "outputs": [],
   "source": [
    "data['examples'][0]"
   ]
  },
  {
   "cell_type": "code",
   "execution_count": null,
   "id": "99e125b3",
   "metadata": {},
   "outputs": [],
   "source": [
    "data['examples'][0].keys()"
   ]
  },
  {
   "cell_type": "code",
   "execution_count": null,
   "id": "d251ab8a",
   "metadata": {},
   "outputs": [],
   "source": [
    "data['examples'][0]['content']\n"
   ]
  },
  {
   "cell_type": "code",
   "execution_count": null,
   "id": "c32f6956",
   "metadata": {},
   "outputs": [],
   "source": [
    "data['examples'][0]['annotations'][0]"
   ]
  },
  {
   "cell_type": "code",
   "execution_count": null,
   "id": "71c6db96",
   "metadata": {},
   "outputs": [],
   "source": [
    "training_data = []\n",
    "for example in data['examples']:\n",
    "    temp_dict = {}\n",
    "    temp_dict['text'] = example['content']\n",
    "    temp_dict['entities'] = []\n",
    "    for annotation in example['annotations']:\n",
    "        start = annotation['start']\n",
    "        end = annotation['end']\n",
    "        label = annotation['tag_name'].upper()\n",
    "        temp_dict['entities'].append((start, end, label))\n",
    "        training_data.append(temp_dict)\n",
    "  \n",
    "print(training_data[0])"
   ]
  },
  {
   "cell_type": "code",
   "execution_count": null,
   "id": "86aec2e4",
   "metadata": {},
   "outputs": [],
   "source": [
    "training_data[0]['text']"
   ]
  },
  {
   "cell_type": "code",
   "execution_count": null,
   "id": "770f6f2c",
   "metadata": {},
   "outputs": [],
   "source": [
    "training_data[0]['entities']"
   ]
  },
  {
   "cell_type": "code",
   "execution_count": null,
   "id": "1592dbc9",
   "metadata": {},
   "outputs": [],
   "source": [
    "training_data[0]['text'][360:371]"
   ]
  },
  {
   "cell_type": "code",
   "execution_count": null,
   "id": "6751d850",
   "metadata": {},
   "outputs": [],
   "source": [
    "\n",
    "from spacy.tokens import DocBin\n",
    "from tqdm import tqdm\n",
    "\n",
    "nlp = spacy.blank(\"en\") # load a new spacy model\n",
    "doc_bin = DocBin()"
   ]
  },
  {
   "cell_type": "code",
   "execution_count": null,
   "id": "6e60b129",
   "metadata": {},
   "outputs": [],
   "source": [
    "from spacy.util import filter_spans\n",
    "\n",
    "for training_example  in tqdm(training_data): \n",
    "    text = training_example['text']\n",
    "    labels = training_example['entities']\n",
    "    doc = nlp.make_doc(text) \n",
    "    ents = []\n",
    "    for start, end, label in labels:\n",
    "        span = doc.char_span(start, end, label=label, alignment_mode=\"contract\")\n",
    "        if span is None:\n",
    "            print(\"Skipping entity\")\n",
    "        else:\n",
    "            ents.append(span)\n",
    "    filtered_ents = filter_spans(ents)\n",
    "    doc.ents = filtered_ents \n",
    "    doc_bin.add(doc)\n",
    "\n",
    "doc_bin.to_disk(\"train.spacy\") "
   ]
  },
  {
   "cell_type": "code",
   "execution_count": null,
   "id": "a759a494",
   "metadata": {},
   "outputs": [],
   "source": [
    "!python -m spacy init fill-config base_config.cfg config.cfg"
   ]
  },
  {
   "cell_type": "code",
   "execution_count": null,
   "id": "a3654c0d",
   "metadata": {},
   "outputs": [],
   "source": [
    "!python -m spacy train config.cfg --output ./ --paths.train ./train.spacy --paths.dev ./train.spacy "
   ]
  },
  {
   "cell_type": "code",
   "execution_count": null,
   "id": "a8d1f6ac",
   "metadata": {},
   "outputs": [],
   "source": [
    "nlp_ner = spacy.load(\"model-best\")"
   ]
  },
  {
   "cell_type": "code",
   "execution_count": null,
   "id": "2a4547b8",
   "metadata": {},
   "outputs": [],
   "source": [
    "doc = nlp_ner(\"While bismuth compounds (Pepto-Bismol) decreased the number of bowel movements in those with travelers' diarrhea, they do not decrease the length of illness.[91] Anti-motility agents like loperamide are also effective at reducing the number of stools but not the duration of disease.[8] These agents should be used only if bloody diarrhea is not present.\")\n",
    "\n",
    "colors = {\"PATHOGEN\": \"#F67DE3\", \"MEDICINE\": \"#7DF6D9\", \"MEDICALCONDITION\":\"#a6e22d\"}\n",
    "options = {\"colors\": colors} \n",
    "\n",
    "spacy.displacy.render(doc, style=\"ent\", options= options, jupyter=True)"
   ]
  }
 ],
 "metadata": {
  "kernelspec": {
   "display_name": "Python 3 (ipykernel)",
   "language": "python",
   "name": "python3"
  },
  "language_info": {
   "codemirror_mode": {
    "name": "ipython",
    "version": 3
   },
   "file_extension": ".py",
   "mimetype": "text/x-python",
   "name": "python",
   "nbconvert_exporter": "python",
   "pygments_lexer": "ipython3",
   "version": "3.9.13"
  }
 },
 "nbformat": 4,
 "nbformat_minor": 5
}
