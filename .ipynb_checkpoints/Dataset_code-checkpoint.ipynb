{
 "cells": [
  {
   "cell_type": "code",
   "execution_count": 1,
   "id": "bc3e83c9",
   "metadata": {},
   "outputs": [],
   "source": [
    "#Import all required libraries\n",
    "import spacy\n",
    "import random\n",
    "import time\n",
    "import numpy as np\n",
    "import sys\n",
    "from spacy import displacy\n",
    "from itertools import chain\n",
    "import matplotlib.pyplot as plt \n",
    "from matplotlib.ticker import MaxNLocator\n",
    "import pandas as pd\n",
    "import json\n",
    "import os\n",
    "#os.chdir(r'C:\\Users\\deepa\\Downloads')\n",
    "\n",
    "with open('annotations22.json', 'r') as f:\n",
    "    data = json.load(f)"
   ]
  },
  {
   "cell_type": "code",
   "execution_count": 2,
   "id": "b356deaa",
   "metadata": {},
   "outputs": [
    {
     "data": {
      "text/plain": [
       "{'classes': ['COLLEGE', 'PLACE', 'PERSON', 'DEGREE', 'INTEREST'],\n",
       " 'annotations': [[\"Lee was born in Taiwan and received her bachelor's degree from Barnard College, where she majored in chemistry. \\r\",\n",
       "   {'entities': [[0, 3, 'PERSON'], [16, 22, 'PLACE'], [63, 70, 'COLLEGE']]}],\n",
       "  ['She earned her medical degree at the University of Medicine and Dentistry of New Jersey, and completed her residency in Radiation Oncology at the Columbia Presbyterian Medical Center. Lee has two sons and her husband is an academic ENT surgeon. \\r',\n",
       "   {'entities': [[37, 87, 'COLLEGE'],\n",
       "     [120, 138, 'INTEREST'],\n",
       "     [146, 154, 'PLACE'],\n",
       "     [184, 187, 'PERSON']]}],\n",
       "  [' Lee specializes in using intensity-modulated radiation therapy (IMRT) to treat thyroid and head and neck cancers. \\r',\n",
       "   {'entities': [[1, 4, 'PERSON'],\n",
       "     [46, 63, 'INTEREST'],\n",
       "     [80, 87, 'INTEREST'],\n",
       "     [92, 113, 'INTEREST']]}],\n",
       "  [' She served as the principal investigator for the Radiation Therapy Oncology Group (RTOG) in a national trial to refine the use of IMRT for treating nasopharyngeal cancer.\\r',\n",
       "   {'entities': [[50, 76, 'INTEREST'], [149, 170, 'INTEREST']]}],\n",
       "  [\" She is also a member of the RTOG's Head and Neck Cancer Working Group. \\r\",\n",
       "   {'entities': [[36, 56, 'INTEREST']]}],\n",
       "  [' Lee was a co-author of the Cancer Immunotherapy Guidelines for Head and Neck Cancer put forward by the Society for Immunotherapy of Cancer.\\r',\n",
       "   {'entities': [[1, 4, 'PERSON'],\n",
       "     [28, 48, 'INTEREST'],\n",
       "     [64, 77, 'INTEREST']]}],\n",
       "  [' She sits on the editorial board of the Journal of Radiation Oncology. She is also the series editor of the Practical Guides in Radiation Oncology.\\r',\n",
       "   {'entities': [[51, 70, 'INTEREST'], [128, 146, 'INTEREST']]}],\n",
       "  [' In 2017 the American Society for Radiation Oncology designated her as a fellow.    ',\n",
       "   {'entities': [[13, 21, 'PLACE'], [34, 52, 'INTEREST']]}]]}"
      ]
     },
     "execution_count": 2,
     "metadata": {},
     "output_type": "execute_result"
    }
   ],
   "source": [
    "data"
   ]
  },
  {
   "cell_type": "code",
   "execution_count": 3,
   "id": "8a8c339a",
   "metadata": {},
   "outputs": [],
   "source": [
    "entity_name = \"COLLEGE\"\n",
    "\n",
    "train_data = data['annotations']\n",
    "train_data = [tuple(i) for i in train_data]"
   ]
  },
  {
   "cell_type": "code",
   "execution_count": 4,
   "id": "db8939b0",
   "metadata": {},
   "outputs": [],
   "source": [
    "for i in train_data:\n",
    "    if i[1]['entities'] == []:\n",
    "        i[1]['entities'] = (0, 0, entity_name)\n",
    "    else:\n",
    "        i[1]['entities'][0] = tuple(i[1]['entities'][0])"
   ]
  },
  {
   "cell_type": "code",
   "execution_count": 5,
   "id": "fa690a11",
   "metadata": {},
   "outputs": [
    {
     "data": {
      "text/plain": [
       "[(\"Lee was born in Taiwan and received her bachelor's degree from Barnard College, where she majored in chemistry. \\r\",\n",
       "  {'entities': [(0, 3, 'PERSON'), [16, 22, 'PLACE'], [63, 70, 'COLLEGE']]}),\n",
       " ('She earned her medical degree at the University of Medicine and Dentistry of New Jersey, and completed her residency in Radiation Oncology at the Columbia Presbyterian Medical Center. Lee has two sons and her husband is an academic ENT surgeon. \\r',\n",
       "  {'entities': [(37, 87, 'COLLEGE'),\n",
       "    [120, 138, 'INTEREST'],\n",
       "    [146, 154, 'PLACE'],\n",
       "    [184, 187, 'PERSON']]}),\n",
       " (' Lee specializes in using intensity-modulated radiation therapy (IMRT) to treat thyroid and head and neck cancers. \\r',\n",
       "  {'entities': [(1, 4, 'PERSON'),\n",
       "    [46, 63, 'INTEREST'],\n",
       "    [80, 87, 'INTEREST'],\n",
       "    [92, 113, 'INTEREST']]}),\n",
       " (' She served as the principal investigator for the Radiation Therapy Oncology Group (RTOG) in a national trial to refine the use of IMRT for treating nasopharyngeal cancer.\\r',\n",
       "  {'entities': [(50, 76, 'INTEREST'), [149, 170, 'INTEREST']]}),\n",
       " (\" She is also a member of the RTOG's Head and Neck Cancer Working Group. \\r\",\n",
       "  {'entities': [(36, 56, 'INTEREST')]}),\n",
       " (' Lee was a co-author of the Cancer Immunotherapy Guidelines for Head and Neck Cancer put forward by the Society for Immunotherapy of Cancer.\\r',\n",
       "  {'entities': [(1, 4, 'PERSON'),\n",
       "    [28, 48, 'INTEREST'],\n",
       "    [64, 77, 'INTEREST']]}),\n",
       " (' She sits on the editorial board of the Journal of Radiation Oncology. She is also the series editor of the Practical Guides in Radiation Oncology.\\r',\n",
       "  {'entities': [(51, 70, 'INTEREST'), [128, 146, 'INTEREST']]}),\n",
       " (' In 2017 the American Society for Radiation Oncology designated her as a fellow.    ',\n",
       "  {'entities': [(13, 21, 'PLACE'), [34, 52, 'INTEREST']]})]"
      ]
     },
     "execution_count": 5,
     "metadata": {},
     "output_type": "execute_result"
    }
   ],
   "source": [
    "train_data"
   ]
  },
  {
   "cell_type": "code",
   "execution_count": 6,
   "id": "f00ea3b0",
   "metadata": {},
   "outputs": [
    {
     "name": "stderr",
     "output_type": "stream",
     "text": [
      "100%|██████████████████████████████████████████████████████████████████████████████████| 8/8 [00:00<00:00, 2661.99it/s]\n"
     ]
    }
   ],
   "source": [
    "import pandas as pd\n",
    "from tqdm import tqdm\n",
    "import spacy\n",
    "from spacy.tokens import DocBin\n",
    "nlp = spacy.blank(\"en\") # load a new spacy model\n",
    "db = DocBin() # create a DocBin object\n",
    "\n",
    "for text, annot in tqdm(train_data): # data in previous format\n",
    "    doc = nlp.make_doc(text) # create doc object from text\n",
    "    ents = []\n",
    "    for start, end, label in annot[\"entities\"]: # add character indexes\n",
    "        span = doc.char_span(start, end, label=label, alignment_mode=\"contract\")\n",
    "        if span is None:\n",
    "            print(\"Skipping entity\")\n",
    "        else:\n",
    "            ents.append(span)\n",
    "    doc.ents = ents # label the text with the ents\n",
    "    db.add(doc)\n",
    "\n",
    "db.to_disk(\"./train.spacy\") # save the docbin object"
   ]
  },
  {
   "cell_type": "code",
   "execution_count": 7,
   "id": "dbd3420f",
   "metadata": {},
   "outputs": [
    {
     "name": "stdout",
     "output_type": "stream",
     "text": [
      "[+] Auto-filled config with all values\n",
      "[+] Saved config\n",
      "config.cfg\n",
      "You can now add your data and train your pipeline:\n",
      "python -m spacy train config.cfg --paths.train ./train.spacy --paths.dev ./dev.spacy\n"
     ]
    }
   ],
   "source": [
    "!python -m spacy init fill-config base_config.cfg config.cfg"
   ]
  },
  {
   "cell_type": "code",
   "execution_count": 8,
   "id": "0356cce9",
   "metadata": {},
   "outputs": [
    {
     "name": "stdout",
     "output_type": "stream",
     "text": [
      "[i] Saving to output directory: ner_demo\\training\n",
      "[i] Using CPU\n",
      "\u001b[1m\n",
      "=========================== Initializing pipeline ===========================\u001b[0m\n",
      "[+] Initialized pipeline\n",
      "\u001b[1m\n",
      "============================= Training pipeline =============================\u001b[0m\n",
      "[i] Pipeline: ['transformer', 'ner']\n",
      "[i] Initial learn rate: 0.0\n",
      "E    #       LOSS TRANS...  LOSS NER  ENTS_F  ENTS_P  ENTS_R  SCORE \n",
      "---  ------  -------------  --------  ------  ------  ------  ------\n"
     ]
    },
    {
     "name": "stderr",
     "output_type": "stream",
     "text": [
      "[2023-06-07 10:20:04,302] [DEBUG] Config overrides from CLI: ['paths.train', 'paths.dev']\n",
      "[2023-06-07 10:20:04,923] [INFO] Set up nlp object from config\n",
      "[2023-06-07 10:20:04,929] [DEBUG] Loading corpus from path: valid.spacy\n",
      "[2023-06-07 10:20:04,930] [DEBUG] Loading corpus from path: train.spacy\n",
      "[2023-06-07 10:20:04,930] [INFO] Pipeline: ['transformer', 'ner']\n",
      "[2023-06-07 10:20:04,932] [INFO] Created vocabulary\n",
      "[2023-06-07 10:20:04,933] [INFO] Finished initializing nlp object\n",
      "Some weights of the model checkpoint at roberta-base were not used when initializing RobertaModel: ['lm_head.dense.bias', 'lm_head.bias', 'lm_head.layer_norm.weight', 'lm_head.dense.weight', 'lm_head.layer_norm.bias', 'lm_head.decoder.weight']\n",
      "- This IS expected if you are initializing RobertaModel from the checkpoint of a model trained on another task or with another architecture (e.g. initializing a BertForSequenceClassification model from a BertForPreTraining model).\n",
      "- This IS NOT expected if you are initializing RobertaModel from the checkpoint of a model that you expect to be exactly identical (initializing a BertForSequenceClassification model from a BertForSequenceClassification model).\n",
      "[2023-06-07 10:20:09,886] [DEBUG] [W033] Training a new parser or NER using a model with no lexeme normalization table. This may degrade the performance of the model to some degree. If this is intentional or the language you're using doesn't have a normalization table, please ignore this warning. If this is surprising, make sure you have the spacy-lookups-data package installed and load the table in your config. The languages with lexeme normalization tables are currently: cs, da, de, el, en, grc, id, lb, mk, pt, ru, sr, ta, th\n",
      "\n",
      "Load the table in your config with:\n",
      "\n",
      "[initialize.lookups]\n",
      "@misc = \"spacy.LookupsDataLoader.v1\"\n",
      "lang = ${nlp.lang}\n",
      "tables = [\"lexeme_norm\"]\n",
      "\n",
      "[2023-06-07 10:20:09,903] [INFO] Initialized pipeline components: ['transformer', 'ner']\n",
      "[2023-06-07 10:20:09,910] [DEBUG] Loading corpus from path: valid.spacy\n",
      "[2023-06-07 10:20:09,911] [DEBUG] Loading corpus from path: train.spacy\n",
      "OMP: Error #15: Initializing libiomp5md.dll, but found libiomp5md.dll already initialized.\n",
      "OMP: Hint This means that multiple copies of the OpenMP runtime have been linked into the program. That is dangerous, since it can degrade performance or cause incorrect results. The best thing to do is to ensure that only a single OpenMP runtime is linked into the process, e.g. by avoiding static linking of the OpenMP runtime in any library. As an unsafe, unsupported, undocumented workaround you can set the environment variable KMP_DUPLICATE_LIB_OK=TRUE to allow the program to continue to execute, but that may cause crashes or silently produce incorrect results. For more information, please see http://www.intel.com/software/products/support/.\n"
     ]
    }
   ],
   "source": [
    "!python -m spacy train config.cfg --verbose --output ./ner_demo/training/ --paths.train train.spacy --paths.dev valid.spacy"
   ]
  },
  {
   "cell_type": "code",
   "execution_count": null,
   "id": "4769b2f6",
   "metadata": {},
   "outputs": [],
   "source": []
  }
 ],
 "metadata": {
  "kernelspec": {
   "display_name": "Python 3 (ipykernel)",
   "language": "python",
   "name": "python3"
  },
  "language_info": {
   "codemirror_mode": {
    "name": "ipython",
    "version": 3
   },
   "file_extension": ".py",
   "mimetype": "text/x-python",
   "name": "python",
   "nbconvert_exporter": "python",
   "pygments_lexer": "ipython3",
   "version": "3.9.13"
  }
 },
 "nbformat": 4,
 "nbformat_minor": 5
}
