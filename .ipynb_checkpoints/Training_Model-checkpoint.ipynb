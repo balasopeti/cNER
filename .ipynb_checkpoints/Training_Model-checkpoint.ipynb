{
 "cells": [
  {
   "cell_type": "code",
   "execution_count": 1,
   "id": "6a037bb8",
   "metadata": {},
   "outputs": [],
   "source": [
    "import os\n",
    "import pandas as pd\n",
    "import numpy as np\n",
    "import spacy\n",
    "from tensorflow.keras.preprocessing.text import Tokenizer\n",
    "from tensorflow.keras.preprocessing.sequence import pad_sequences\n",
    "from tensorflow.keras.utils import to_categorical\n",
    "from sklearn.model_selection import train_test_split\n",
    "from tensorflow.keras.models import Sequential\n",
    "from tensorflow.keras.layers import Input, Embedding, Bidirectional, LSTM, TimeDistributed, Dense\n",
    "\n"
   ]
  },
  {
   "cell_type": "code",
   "execution_count": 2,
   "id": "ada39238",
   "metadata": {},
   "outputs": [],
   "source": [
    "# Prompt the user to enter the file path\n",
    "file_path = \"MasterList (3).xlsx\"\n",
    "\n",
    "# Check if the file exists\n",
    "#if not os.path.exists(file_path):\n",
    "   # print(\"File not found!\")\n",
    "   # exit()\n",
    "\n",
    "# Load the data from the Excel sheet\n",
    "df = pd.read_excel(file_path)\n"
   ]
  },
  {
   "cell_type": "code",
   "execution_count": 3,
   "id": "966bf8d4",
   "metadata": {},
   "outputs": [],
   "source": [
    "# Extract the texts and the names\n",
    "texts = df['Text'].tolist()\n",
    "names = df['Name'].tolist()\n",
    "\n",
    "# Create a tokenizer for the texts and the names\n",
    "tokenizer = Tokenizer(char_level=True)\n",
    "tokenizer.fit_on_texts(texts + names)\n",
    "\n",
    "# Convert the texts and the names to sequences of integers\n",
    "text_sequences = tokenizer.texts_to_sequences(texts)\n",
    "name_sequences = tokenizer.texts_to_sequences(names)"
   ]
  },
  {
   "cell_type": "code",
   "execution_count": 4,
   "id": "c27f8ed3",
   "metadata": {},
   "outputs": [],
   "source": [
    "# Pad the sequences with zeros to the maximum sequence length\n",
    "max_length = max([len(seq) for seq in text_sequences + name_sequences])\n",
    "text_sequences_padded = pad_sequences(text_sequences, maxlen=max_length, padding='post')\n",
    "name_sequences_padded = pad_sequences(name_sequences, maxlen=max_length, padding='post')\n"
   ]
  },
  {
   "cell_type": "code",
   "execution_count": 5,
   "id": "409a9a42",
   "metadata": {},
   "outputs": [],
   "source": [
    "\n",
    "# Convert the name sequences to one-hot encoding\n",
    "name_sequences_onehot = to_categorical(name_sequences_padded, num_classes=len(tokenizer.word_index) + 1)\n"
   ]
  },
  {
   "cell_type": "code",
   "execution_count": 6,
   "id": "7ca8eef4",
   "metadata": {},
   "outputs": [],
   "source": [
    "# Split the data into training, validation, and test sets\n",
    "train_texts, test_texts, train_names, test_names = train_test_split(text_sequences_padded, name_sequences_onehot, test_size=0.2, random_state=42)\n",
    "train_texts, val_texts, train_names, val_names = train_test_split(train_texts, train_names, test_size=0.2, random_state=42)\n"
   ]
  },
  {
   "cell_type": "code",
   "execution_count": 7,
   "id": "8b378a69",
   "metadata": {},
   "outputs": [],
   "source": [
    "# Define a function to create the Keras model\n",
    "def create_model(input_dim, output_dim, max_length):\n",
    "    model = Sequential([\n",
    "        Input(shape=(max_length,)),\n",
    "        Embedding(input_dim=input_dim, output_dim=32, input_length=max_length),\n",
    "        Bidirectional(LSTM(units=32, return_sequences=True, dropout=0.2, recurrent_dropout=0.2)),\n",
    "        LSTM(units=32, return_sequences=True, dropout=0.5, recurrent_dropout=0.5),\n",
    "        TimeDistributed(Dense(output_dim, activation=\"softmax\"))\n",
    "    ])\n",
    "    model.compile(loss='categorical_crossentropy', optimizer='adam', metrics=['accuracy'])\n",
    "    return model\n"
   ]
  },
  {
   "cell_type": "code",
   "execution_count": 8,
   "id": "487b746c",
   "metadata": {},
   "outputs": [
    {
     "name": "stdout",
     "output_type": "stream",
     "text": [
      "WARNING:tensorflow:Layer lstm will not use cuDNN kernels since it doesn't meet the criteria. It will use a generic GPU kernel as fallback when running on GPU.\n",
      "WARNING:tensorflow:Layer lstm will not use cuDNN kernels since it doesn't meet the criteria. It will use a generic GPU kernel as fallback when running on GPU.\n",
      "WARNING:tensorflow:Layer lstm will not use cuDNN kernels since it doesn't meet the criteria. It will use a generic GPU kernel as fallback when running on GPU.\n",
      "WARNING:tensorflow:Layer lstm_1 will not use cuDNN kernels since it doesn't meet the criteria. It will use a generic GPU kernel as fallback when running on GPU.\n"
     ]
    }
   ],
   "source": [
    "\n",
    "# Set the input and output dimensions\n",
    "input_dim = len(tokenizer.word_index) + 1\n",
    "output_dim = len(tokenizer.word_index) + 1\n",
    "\n",
    "# Create the Keras model\n",
    "model = create_model(input_dim, output_dim, max_length)"
   ]
  },
  {
   "cell_type": "code",
   "execution_count": 9,
   "id": "bbfc3ac2",
   "metadata": {},
   "outputs": [
    {
     "name": "stdout",
     "output_type": "stream",
     "text": [
      "Epoch 1/5\n",
      "4/4 [==============================] - 323s 82s/step - loss: 3.9754 - accuracy: 0.6631 - val_loss: 3.9143 - val_accuracy: 0.9970\n",
      "Epoch 2/5\n",
      "4/4 [==============================] - 351s 91s/step - loss: 3.8485 - accuracy: 0.9968 - val_loss: 3.6954 - val_accuracy: 0.9970\n",
      "Epoch 3/5\n",
      "4/4 [==============================] - 321s 84s/step - loss: 3.5256 - accuracy: 0.9968 - val_loss: 3.1156 - val_accuracy: 0.9970\n",
      "Epoch 4/5\n",
      "4/4 [==============================] - 327s 84s/step - loss: 2.8726 - accuracy: 0.9968 - val_loss: 2.3533 - val_accuracy: 0.9970\n",
      "Epoch 5/5\n",
      "4/4 [==============================] - 366s 97s/step - loss: 2.2072 - accuracy: 0.9968 - val_loss: 1.8153 - val_accuracy: 0.9970\n"
     ]
    }
   ],
   "source": [
    "# Train the model on the training set and validate on the validation set\n",
    "history = model.fit(train_texts, train_names, epochs=5, batch_size=16, validation_data=(val_texts, val_names))"
   ]
  },
  {
   "cell_type": "code",
   "execution_count": 27,
   "id": "c3a579f4",
   "metadata": {},
   "outputs": [
    {
     "name": "stdout",
     "output_type": "stream",
     "text": [
      "1/1 [==============================] - 7s 7s/step - loss: 1.8147 - accuracy: 0.9968\n",
      "Test loss: 1.8146940469741821\n",
      "Test accuracy: 0.9967508912086487\n"
     ]
    }
   ],
   "source": [
    "# Evaluate the model on the test set\n",
    "loss, accuracy = model.evaluate(test_texts, test_names)\n",
    "print(\"Test loss:\", loss)\n",
    "print(\"Test accuracy:\", accuracy)\n"
   ]
  },
  {
   "cell_type": "code",
   "execution_count": 28,
   "id": "dd9a74ca",
   "metadata": {},
   "outputs": [],
   "source": [
    "def extract_named_entities(text, model, tokenizer):\n",
    "    # Tokenize the text\n",
    "    text_sequence = tokenizer.texts_to_sequences([text])\n",
    "    text_sequence_padded = pad_sequences(text_sequence, maxlen=max_length, padding='post')\n",
    "\n",
    "    # Make predictions using the model\n",
    "    predictions = model.predict(text_sequence_padded)[0]\n",
    "\n",
    "    # Extract the named entities from the predictions\n",
    "    name_indices = np.argmax(predictions, axis=-1)\n",
    "    name_tokens = [tokenizer.index_word[idx] if idx > 0 else '' for idx in name_indices]\n",
    "\n",
    "    # Create a list of spans representing the named entities\n",
    "    spans = []\n",
    "    start = None\n",
    "    for i, token in enumerate(name_tokens):\n",
    "        if token and not start:\n",
    "            start = i\n",
    "        elif not token and start:\n",
    "            end = i\n",
    "            spans.append((start, end))\n",
    "            start = None\n",
    "    if start:\n",
    "        end = len(name_tokens)\n",
    "        spans.append((start, end))\n",
    "\n",
    "    # Create a list of spaCy entities from the spans\n",
    "    entities = []\n",
    "    for start, end in spans:\n",
    "        if 'PERSON' in predictions[start:end]:\n",
    "            entities.append(spacy.tokens.Span(doc, start, end, label='PERSON'))\n",
    "\n",
    "    return entities\n"
   ]
  },
  {
   "cell_type": "code",
   "execution_count": 29,
   "id": "0a22a37b",
   "metadata": {},
   "outputs": [],
   "source": [
    "\n",
    "# Define a function to add the named entities to a spaCy doc\n",
    "def add_named_entities(doc, entities):\n",
    "    for ent in entities:\n",
    "        doc.ents += (ent,)\n",
    "    return doc\n",
    "\n"
   ]
  },
  {
   "cell_type": "code",
   "execution_count": 30,
   "id": "189b51b5",
   "metadata": {},
   "outputs": [
    {
     "name": "stdout",
     "output_type": "stream",
     "text": [
      "1/1 [==============================] - 7s 7s/step\n",
      "Named entities found:\n",
      "Sharath Chandra Mouli PERSON\n",
      "the Krishna Institute of Medical Sciences ORG\n",
      "Secunderabad GPE\n",
      "Telangana GPE\n",
      "India GPE\n",
      "Mouli PERSON\n",
      "the Rajiv Gandhi University of Health Sciences ORG\n",
      "Bangalore GPE\n",
      "India GPE\n",
      "Nizam's Institute of Medical Sciences ORG\n",
      "Hyderabad GPE\n",
      "India GPE\n",
      "several years DATE\n",
      "Gastroenterology ORG\n",
      "India GPE\n",
      "Mouli PERSON\n",
      "EUS ORG\n",
      "ERCP ORG\n",
      "Mouli PERSON\n",
      "Gastroenterology ORG\n"
     ]
    }
   ],
   "source": [
    "# Load a spaCy model\n",
    "nlp = spacy.load(\"en_core_web_sm\")\n",
    "# Get a reference to the named entity recognition component\n",
    "ner = nlp.get_pipe(\"ner\")\n",
    "# Process a text and extract the named entities\n",
    "text = \" Dr. Sharath Chandra Mouli is a medical doctor who specializes in the field of Gastroenterology. He is associated with the Krishna Institute of Medical Sciences (KIMS) Hospital in Secunderabad, Telangana, India.Dr. Mouli completed his MBBS degree from the Rajiv Gandhi University of Health Sciences in Bangalore, India, and then went on to pursue a Doctorate of Medicine (DM) in Gastroenterology from the Nizam's Institute of Medical Sciences in Hyderabad, India. He has several years of experience in the field of Gastroenterology and has worked at various prestigious institutions across India.Dr. Mouli's areas of expertise include the diagnosis and treatment of various gastrointestinal disorders such as inflammatory bowel disease, liver diseases, pancreatic disorders, and motility disorders. He is also trained in performing advanced endoscopic procedures such as endoscopic ultrasound (EUS), endoscopic retrograde cholangiopancreatography (ERCP), and endoscopic mucosal resection (EMR).Apart from his clinical work, Dr. Mouli is also involved in research activities in the field of Gastroenterology and has published several articles in peer-reviewed medical journals.\"\n",
    "doc = nlp(text)\n",
    "entities = extract_named_entities(text, model, tokenizer)\n",
    "person_entities = [ent for ent in entities if ent.label_ == 'PERSON']\n",
    "doc = add_named_entities(doc, person_entities)\n",
    "#doc = add_named_entities(doc, entities)\n",
    "\n",
    "# Print the named entities\n",
    "print(\"Named entities found:\")\n",
    "for ent in doc.ents:\n",
    "    print(ent.text, ent.label_)\n"
   ]
  },
  {
   "cell_type": "code",
   "execution_count": 19,
   "id": "96e2dc3d",
   "metadata": {},
   "outputs": [
    {
     "data": {
      "text/html": [
       "<span class=\"tex2jax_ignore\"><div class=\"entities\" style=\"line-height: 2.5; direction: ltr\"> Dr. \n",
       "<mark class=\"entity\" style=\"background: #aa9cfc; padding: 0.45em 0.6em; margin: 0 0.25em; line-height: 1; border-radius: 0.35em;\">\n",
       "    Sharath Chandra Mouli\n",
       "    <span style=\"font-size: 0.8em; font-weight: bold; line-height: 1; border-radius: 0.35em; vertical-align: middle; margin-left: 0.5rem\">PERSON</span>\n",
       "</mark>\n",
       " is a medical doctor who specializes in the field of Gastroenterology. He is associated with \n",
       "<mark class=\"entity\" style=\"background: #7aecec; padding: 0.45em 0.6em; margin: 0 0.25em; line-height: 1; border-radius: 0.35em;\">\n",
       "    the Krishna Institute of Medical Sciences\n",
       "    <span style=\"font-size: 0.8em; font-weight: bold; line-height: 1; border-radius: 0.35em; vertical-align: middle; margin-left: 0.5rem\">ORG</span>\n",
       "</mark>\n",
       " (KIMS) Hospital in \n",
       "<mark class=\"entity\" style=\"background: #feca74; padding: 0.45em 0.6em; margin: 0 0.25em; line-height: 1; border-radius: 0.35em;\">\n",
       "    Secunderabad\n",
       "    <span style=\"font-size: 0.8em; font-weight: bold; line-height: 1; border-radius: 0.35em; vertical-align: middle; margin-left: 0.5rem\">GPE</span>\n",
       "</mark>\n",
       ", \n",
       "<mark class=\"entity\" style=\"background: #feca74; padding: 0.45em 0.6em; margin: 0 0.25em; line-height: 1; border-radius: 0.35em;\">\n",
       "    Telangana\n",
       "    <span style=\"font-size: 0.8em; font-weight: bold; line-height: 1; border-radius: 0.35em; vertical-align: middle; margin-left: 0.5rem\">GPE</span>\n",
       "</mark>\n",
       ", \n",
       "<mark class=\"entity\" style=\"background: #feca74; padding: 0.45em 0.6em; margin: 0 0.25em; line-height: 1; border-radius: 0.35em;\">\n",
       "    India\n",
       "    <span style=\"font-size: 0.8em; font-weight: bold; line-height: 1; border-radius: 0.35em; vertical-align: middle; margin-left: 0.5rem\">GPE</span>\n",
       "</mark>\n",
       ".Dr. \n",
       "<mark class=\"entity\" style=\"background: #aa9cfc; padding: 0.45em 0.6em; margin: 0 0.25em; line-height: 1; border-radius: 0.35em;\">\n",
       "    Mouli\n",
       "    <span style=\"font-size: 0.8em; font-weight: bold; line-height: 1; border-radius: 0.35em; vertical-align: middle; margin-left: 0.5rem\">PERSON</span>\n",
       "</mark>\n",
       " completed his MBBS degree from \n",
       "<mark class=\"entity\" style=\"background: #7aecec; padding: 0.45em 0.6em; margin: 0 0.25em; line-height: 1; border-radius: 0.35em;\">\n",
       "    the Rajiv Gandhi University of Health Sciences\n",
       "    <span style=\"font-size: 0.8em; font-weight: bold; line-height: 1; border-radius: 0.35em; vertical-align: middle; margin-left: 0.5rem\">ORG</span>\n",
       "</mark>\n",
       " in \n",
       "<mark class=\"entity\" style=\"background: #feca74; padding: 0.45em 0.6em; margin: 0 0.25em; line-height: 1; border-radius: 0.35em;\">\n",
       "    Bangalore\n",
       "    <span style=\"font-size: 0.8em; font-weight: bold; line-height: 1; border-radius: 0.35em; vertical-align: middle; margin-left: 0.5rem\">GPE</span>\n",
       "</mark>\n",
       ", \n",
       "<mark class=\"entity\" style=\"background: #feca74; padding: 0.45em 0.6em; margin: 0 0.25em; line-height: 1; border-radius: 0.35em;\">\n",
       "    India\n",
       "    <span style=\"font-size: 0.8em; font-weight: bold; line-height: 1; border-radius: 0.35em; vertical-align: middle; margin-left: 0.5rem\">GPE</span>\n",
       "</mark>\n",
       ", and then went on to pursue a Doctorate of Medicine (DM) in Gastroenterology from the \n",
       "<mark class=\"entity\" style=\"background: #7aecec; padding: 0.45em 0.6em; margin: 0 0.25em; line-height: 1; border-radius: 0.35em;\">\n",
       "    Nizam's Institute of Medical Sciences\n",
       "    <span style=\"font-size: 0.8em; font-weight: bold; line-height: 1; border-radius: 0.35em; vertical-align: middle; margin-left: 0.5rem\">ORG</span>\n",
       "</mark>\n",
       " in \n",
       "<mark class=\"entity\" style=\"background: #feca74; padding: 0.45em 0.6em; margin: 0 0.25em; line-height: 1; border-radius: 0.35em;\">\n",
       "    Hyderabad\n",
       "    <span style=\"font-size: 0.8em; font-weight: bold; line-height: 1; border-radius: 0.35em; vertical-align: middle; margin-left: 0.5rem\">GPE</span>\n",
       "</mark>\n",
       ", \n",
       "<mark class=\"entity\" style=\"background: #feca74; padding: 0.45em 0.6em; margin: 0 0.25em; line-height: 1; border-radius: 0.35em;\">\n",
       "    India\n",
       "    <span style=\"font-size: 0.8em; font-weight: bold; line-height: 1; border-radius: 0.35em; vertical-align: middle; margin-left: 0.5rem\">GPE</span>\n",
       "</mark>\n",
       ". He has \n",
       "<mark class=\"entity\" style=\"background: #bfe1d9; padding: 0.45em 0.6em; margin: 0 0.25em; line-height: 1; border-radius: 0.35em;\">\n",
       "    several years\n",
       "    <span style=\"font-size: 0.8em; font-weight: bold; line-height: 1; border-radius: 0.35em; vertical-align: middle; margin-left: 0.5rem\">DATE</span>\n",
       "</mark>\n",
       " of experience in the field of \n",
       "<mark class=\"entity\" style=\"background: #7aecec; padding: 0.45em 0.6em; margin: 0 0.25em; line-height: 1; border-radius: 0.35em;\">\n",
       "    Gastroenterology\n",
       "    <span style=\"font-size: 0.8em; font-weight: bold; line-height: 1; border-radius: 0.35em; vertical-align: middle; margin-left: 0.5rem\">ORG</span>\n",
       "</mark>\n",
       " and has worked at various prestigious institutions across \n",
       "<mark class=\"entity\" style=\"background: #feca74; padding: 0.45em 0.6em; margin: 0 0.25em; line-height: 1; border-radius: 0.35em;\">\n",
       "    India\n",
       "    <span style=\"font-size: 0.8em; font-weight: bold; line-height: 1; border-radius: 0.35em; vertical-align: middle; margin-left: 0.5rem\">GPE</span>\n",
       "</mark>\n",
       ".Dr. \n",
       "<mark class=\"entity\" style=\"background: #aa9cfc; padding: 0.45em 0.6em; margin: 0 0.25em; line-height: 1; border-radius: 0.35em;\">\n",
       "    Mouli\n",
       "    <span style=\"font-size: 0.8em; font-weight: bold; line-height: 1; border-radius: 0.35em; vertical-align: middle; margin-left: 0.5rem\">PERSON</span>\n",
       "</mark>\n",
       "'s areas of expertise include the diagnosis and treatment of various gastrointestinal disorders such as inflammatory bowel disease, liver diseases, pancreatic disorders, and motility disorders. He is also trained in performing advanced endoscopic procedures such as endoscopic ultrasound (\n",
       "<mark class=\"entity\" style=\"background: #7aecec; padding: 0.45em 0.6em; margin: 0 0.25em; line-height: 1; border-radius: 0.35em;\">\n",
       "    EUS\n",
       "    <span style=\"font-size: 0.8em; font-weight: bold; line-height: 1; border-radius: 0.35em; vertical-align: middle; margin-left: 0.5rem\">ORG</span>\n",
       "</mark>\n",
       "), endoscopic retrograde cholangiopancreatography (\n",
       "<mark class=\"entity\" style=\"background: #7aecec; padding: 0.45em 0.6em; margin: 0 0.25em; line-height: 1; border-radius: 0.35em;\">\n",
       "    ERCP\n",
       "    <span style=\"font-size: 0.8em; font-weight: bold; line-height: 1; border-radius: 0.35em; vertical-align: middle; margin-left: 0.5rem\">ORG</span>\n",
       "</mark>\n",
       "), and endoscopic mucosal resection (EMR).Apart from his clinical work, Dr. \n",
       "<mark class=\"entity\" style=\"background: #aa9cfc; padding: 0.45em 0.6em; margin: 0 0.25em; line-height: 1; border-radius: 0.35em;\">\n",
       "    Mouli\n",
       "    <span style=\"font-size: 0.8em; font-weight: bold; line-height: 1; border-radius: 0.35em; vertical-align: middle; margin-left: 0.5rem\">PERSON</span>\n",
       "</mark>\n",
       " is also involved in research activities in the field of \n",
       "<mark class=\"entity\" style=\"background: #7aecec; padding: 0.45em 0.6em; margin: 0 0.25em; line-height: 1; border-radius: 0.35em;\">\n",
       "    Gastroenterology\n",
       "    <span style=\"font-size: 0.8em; font-weight: bold; line-height: 1; border-radius: 0.35em; vertical-align: middle; margin-left: 0.5rem\">ORG</span>\n",
       "</mark>\n",
       " and has published several articles in peer-reviewed medical journals.</div></span>"
      ],
      "text/plain": [
       "<IPython.core.display.HTML object>"
      ]
     },
     "metadata": {},
     "output_type": "display_data"
    }
   ],
   "source": [
    "\n",
    "# Visualize the named entities using displaCy\n",
    "spacy.displacy.render(doc, style='ent')\n"
   ]
  },
  {
   "cell_type": "code",
   "execution_count": null,
   "id": "433e634f",
   "metadata": {},
   "outputs": [],
   "source": [
    "\n",
    "# Define a function to extract the named entities from a text using the trained model\n",
    "def extract_named_entities(text, model, tokenizer):\n",
    "    # Tokenize the text\n",
    "    text_sequence = tokenizer.texts_to_sequences([text])\n",
    "    text_sequence_padded = pad_sequences(text_sequence, maxlen=max_length, padding='post')\n",
    "\n",
    "    # Make predictions using the model\n",
    "    predictions = model.predict(text_sequence_padded)[0]\n",
    "\n",
    "    # Extract the named entities from the predictions\n",
    "    name_indices = np.argmax(predictions, axis=-1)\n",
    "    name_tokens = [tokenizer.index_word[idx] if idx > 0 else '' for idx in name_indices]\n",
    "\n",
    "    # Create a list of spans representing the named entities\n",
    "    spans = []\n",
    "    start = None\n",
    "    for i, token in enumerate(name_tokens):\n",
    "        if token and not start:\n",
    "            start = i\n",
    "        elif not token and start:\n",
    "            end = i\n",
    "            label = 'PERSON'\n",
    "            spans.append((start, end, label))\n",
    "            start = None\n",
    "    if start:\n",
    "        end = len(name_tokens)\n",
    "        label = 'PERSON'\n",
    "        spans.append((start, end, label))\n",
    "\n",
    "    # Create a list of spaCy entities from the spans\n",
    "    entities = []\n",
    "    for start, end, label in spans:\n",
    "        entities.append(spacy.tokens.Span(doc, start, end, label=label))\n",
    "\n",
    "    return entities\n",
    "\n",
    "# Define a function to add the named entities to a spaCy doc\n",
    "def add_named_entities(doc, entities):\n",
    "    for ent in entities:\n",
    "        doc.ents += (ent,)\n",
    "    return doc\n",
    "\n"
   ]
  }
 ],
 "metadata": {
  "kernelspec": {
   "display_name": "Python 3 (ipykernel)",
   "language": "python",
   "name": "python3"
  },
  "language_info": {
   "codemirror_mode": {
    "name": "ipython",
    "version": 3
   },
   "file_extension": ".py",
   "mimetype": "text/x-python",
   "name": "python",
   "nbconvert_exporter": "python",
   "pygments_lexer": "ipython3",
   "version": "3.9.13"
  }
 },
 "nbformat": 4,
 "nbformat_minor": 5
}
