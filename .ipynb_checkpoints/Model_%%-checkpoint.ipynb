{
 "cells": [
  {
   "cell_type": "code",
   "execution_count": 1,
   "id": "76122f8c",
   "metadata": {},
   "outputs": [],
   "source": [
    "import pandas as pd\n",
    "import numpy as np\n",
    "import tensorflow as tf\n",
    "from tensorflow.keras.preprocessing.text import Tokenizer\n",
    "from tensorflow.keras.preprocessing.sequence import pad_sequences\n",
    "from tensorflow.keras.layers import Input, Embedding, LSTM, TimeDistributed, Dense, Bidirectional\n",
    "from tensorflow.keras.models import Model\n",
    "from sklearn.model_selection import train_test_split"
   ]
  },
  {
   "cell_type": "code",
   "execution_count": 2,
   "id": "10cea75b",
   "metadata": {},
   "outputs": [],
   "source": [
    "def load_data(file_path):\n",
    "    data = pd.read_excel(file_path)\n",
    "    return data"
   ]
  },
  {
   "cell_type": "code",
   "execution_count": 3,
   "id": "17785f7e",
   "metadata": {},
   "outputs": [],
   "source": [
    "def preprocess_data(data, max_len=5000):\n",
    "    data['X'] = data['Text'].apply(lambda x: x.lower())\n",
    "    data['y'] = data['Name'].apply(lambda x: x.lower())\n",
    "    input_tokenizer = Tokenizer(char_level=True)\n",
    "    input_tokenizer.fit_on_texts(data['X'].values)\n",
    "    print(input_tokenizer.index_word)\n",
    "    input_sequences = input_tokenizer.texts_to_sequences(data['X'].values)\n",
    "#     print(input_sequences)\n",
    "    input_sequences = pad_sequences(input_sequences, maxlen=max_len, padding='post')\n",
    "    output_tokenizer = Tokenizer(char_level=True)\n",
    "    output_tokenizer.fit_on_texts(data['y'].values)\n",
    "    output_sequences = input_tokenizer.texts_to_sequences(data['y'].values)\n",
    "    print(output_sequences)\n",
    "    output_sequences = pad_sequences(output_sequences, maxlen=max_len, padding='post')\n",
    "    output_sequences = tf.keras.utils.to_categorical(output_sequences, num_classes=len(input_tokenizer.word_index)+1)\n",
    "    return input_sequences, output_sequences, input_tokenizer, input_tokenizer"
   ]
  },
  {
   "cell_type": "code",
   "execution_count": 4,
   "id": "bafe57eb",
   "metadata": {},
   "outputs": [],
   "source": [
    "def build_model(input_vocab_size, output_vocab_size, max_len=5000, embedding_dim=64, lstm_units=128):\n",
    "    inputs = Input(shape=(max_len,))\n",
    "    x = Embedding(input_dim=input_vocab_size, output_dim=embedding_dim, input_length=max_len)(inputs)\n",
    "    x = Bidirectional(LSTM(lstm_units, return_sequences=True))(x)\n",
    "    outputs = TimeDistributed(Dense(output_vocab_size, activation='softmax'))(x)\n",
    "    model = Model(inputs, outputs)\n",
    "    model.compile(optimizer='adam', loss='categorical_crossentropy', metrics=['accuracy'])\n",
    "    return model"
   ]
  },
  {
   "cell_type": "code",
   "execution_count": 5,
   "id": "a15793f4",
   "metadata": {},
   "outputs": [],
   "source": [
    "def train_model(model, X_train, y_train, X_val, y_val, batch_size=8, epochs=10):\n",
    "    history = model.fit(X_train, y_train, batch_size=batch_size, epochs=epochs, validation_data=(X_val, y_val))\n",
    "    return history"
   ]
  },
  {
   "cell_type": "code",
   "execution_count": 6,
   "id": "ce9ff4f5",
   "metadata": {},
   "outputs": [
    {
     "ename": "SyntaxError",
     "evalue": "invalid syntax (984051425.py, line 11)",
     "output_type": "error",
     "traceback": [
      "\u001b[1;36m  File \u001b[1;32m\"C:\\Users\\thiru\\AppData\\Local\\Temp\\ipykernel_37092\\984051425.py\"\u001b[1;36m, line \u001b[1;32m11\u001b[0m\n\u001b[1;33m    return predicted_text[]\u001b[0m\n\u001b[1;37m                          ^\u001b[0m\n\u001b[1;31mSyntaxError\u001b[0m\u001b[1;31m:\u001b[0m invalid syntax\n"
     ]
    }
   ],
   "source": [
    "def predict(model, input_text, input_tokenizer, output_tokenizer, max_len=5000):\n",
    "    input_text = input_text.lower() \n",
    "    input_sequence = input_tokenizer.texts_to_sequences([input_text])\n",
    "    input_sequence = pad_sequences(input_sequence, maxlen=max_len, padding='post')\n",
    "    output_sequence = model.predict(input_sequence)\n",
    "    output_sequence_indices = np.argmax(output_sequence, axis=-1)\n",
    "    print(output_sequence_indices)\n",
    "    predicted_text = output_tokenizer.sequences_to_texts(np.argmax(output_sequence, axis=-1))\n",
    "         #predicted_text = output_tokenizer.sequences_to_texts(output_sequence_indices)\n",
    "        #print(\"Predicted Expert Name: \", predicted_text[0])\n",
    "    return predicted_text[0]"
   ]
  },
  {
   "cell_type": "code",
   "execution_count": 93,
   "id": "3a41ef4a",
   "metadata": {},
   "outputs": [],
   "source": [
    "#def predict(model, input_text, input_tokenizer, output_tokenizer, max_len=5000):\n",
    "    # Preprocess the input text\n",
    "    #input_text = input_text.lower()  # Convert to lowercase\n",
    "    #input_sequence = input_tokenizer.texts_to_sequences([input_text])\n",
    "    #input_sequence = pad_sequences(input_sequence, maxlen=max_len, padding='post')\n",
    "    #output_sequence = model.predict(input_sequence)\n",
    "    #output_sequence_indices = np.argmax(output_sequence, axis=-1)\n",
    "    #predicted_indices = output_sequence_indices[0]\n",
    "    #predicted_text = output_tokenizer.sequences_to_texts(output_sequence_indices)\n",
    "    #print(\"Predicted Expert Name: \", predicted_text[0])\n",
    "    #return predicted_text[0]"
   ]
  },
  {
   "cell_type": "code",
   "execution_count": 94,
   "id": "ca288aea",
   "metadata": {},
   "outputs": [],
   "source": [
    "#def predict(model, input_text, input_tokenizer, max_len=5000):\n",
    "        #Preprocess the input text\n",
    "    #input_text = input_text.lower()  # Convert to lowercase\n",
    "    #input_sequence = input_tokenizer.texts_to_sequences([input_text])\n",
    "        #input_sequence = input_tokenizer.texts_to_sequences(input_sequence)\n",
    "    #input_sequence = pad_sequences(input_sequence, maxlen=max_len, padding='post')\n",
    "    \n",
    "    #predicted_text = \"\"\n",
    "    #for i in range(max_len):\n",
    "        #output_char_index = np.argmax(model.predict(input_sequence), axis=-1)[0, i]\n",
    "        #output_char = input_tokenizer.index_word[output_char_index]\n",
    "        #if output_char == '\\n':\n",
    "            #break\n",
    "        #predicted_text += output_char\n",
    "    \n",
    "    #return predicted_text"
   ]
  },
  {
   "cell_type": "code",
   "execution_count": 95,
   "id": "ce59e05a",
   "metadata": {},
   "outputs": [],
   "source": [
    "file_path = \"MasterList (3).xlsx\"\n",
    "data = load_data(file_path)"
   ]
  },
  {
   "cell_type": "code",
   "execution_count": 96,
   "id": "74db4bcf",
   "metadata": {},
   "outputs": [
    {
     "name": "stdout",
     "output_type": "stream",
     "text": [
      "{1: ' ', 2: 'e', 3: 'i', 4: 'a', 5: 'n', 6: 'o', 7: 'r', 8: 's', 9: 't', 10: 'd', 11: 'c', 12: 'l', 13: 'h', 14: 'g', 15: 'm', 16: 'u', 17: 'f', 18: 'p', 19: 'v', 20: 'y', 21: '.', 22: ',', 23: 'b', 24: 'w', 25: 'k', 26: 'x', 27: 'z', 28: '(', 29: ')', 30: 'j', 31: \"'\", 32: '-', 33: 'q', 34: '\"', 35: '1', 36: '5', 37: '9', 38: '7', 39: ':', 40: '2', 41: '0', 42: '6', 43: '8', 44: '4', 45: 'é', 46: '&', 47: '/', 48: 'ä', 49: '3', 50: 'ô', 51: 'ş', 52: 'ü', 53: 'ó', 54: 'á'}\n",
      "[[20, 16, 2, 1, 11, 4, 6], [23, 2, 5, 8, 13, 2, 5, 14, 1, 33, 3, 16], [7, 6, 23, 2, 7, 9, 1, 17, 12, 2, 11, 25, 1, 30], [13, 6, 12, 10, 2, 5, 1, 24, 16], [24, 3, 12, 12, 3, 4, 15, 1, 13, 20, 8, 12, 6, 18], [17, 12, 2, 15, 15, 3, 5, 14, 1, 17, 6, 7, 8, 23, 2, 7, 14], [30, 4, 15, 2, 8, 1, 11, 4, 7, 7], [4, 5, 10, 7, 2, 30, 1, 12, 20, 8, 13, 11, 13, 3, 25], [23, 6, 23, 23, 20, 1, 25, 4, 12, 23], [30, 6, 13, 5, 1, 25, 16, 7, 13, 4, 5, 2, 24, 3, 11, 27], [4, 5, 10, 2, 7, 4, 5, 3, 25, 1, 9, 6, 15, 4, 8, 3, 4, 5], [5, 1, 11, 2, 15, 1, 23, 4, 12, 11, 3], [13, 4, 12, 2, 1, 2, 7, 8, 6, 20], [8, 16, 5, 14, 13, 2, 6, 5, 1, 25, 3, 15], [2, 15, 4, 5, 16, 2, 12, 1, 25, 4, 5, 4, 12], [4, 30, 4, 20, 1, 8, 3, 5, 14, 13], [26, 3, 4, 6, 15, 3, 5, 14, 1, 23, 3], [2, 16, 5, 32, 25, 2, 2, 1, 3, 2, 6, 5, 14], [13, 2, 5, 7, 20, 1, 7, 16, 8, 3, 5, 2, 25], [25, 4, 15, 23, 3, 27, 1, 5, 4, 2, 12], [30, 2, 17, 17, 1, 17, 3, 10, 12, 2, 7], [20, 4, 5, 30, 16, 5, 1, 17, 16], [18, 3, 6, 9, 7, 1, 24, 4, 12, 11, 27, 4, 25], [23, 4, 11, 13, 3, 7, 1, 9, 4, 6, 16, 12, 3], [6, 14, 16, 27, 1, 4, 25, 3, 5], [8, 4, 19, 19, 4, 8, 1, 4, 5, 10, 7, 6, 5, 3, 25, 6, 16], [15, 3, 11, 13, 4, 2, 12, 1, 19, 1, 25, 5, 6, 18, 18], [18, 4, 16, 12, 1, 5, 3, 25, 6, 12, 4, 3, 10, 3, 8], [5, 4, 9, 4, 7, 4, 30, 4, 5, 1, 7, 4, 14, 13, 16, 5, 4, 5, 10], [20, 6, 8, 13, 3, 5, 6, 7, 3, 1, 25, 4, 9, 6], [15, 3, 12, 3, 11, 4, 1, 15, 2, 10, 19, 2, 10], [4, 12, 3, 20, 4, 1, 33, 4, 20, 20, 16, 15], [3, 19, 4, 5, 1, 18, 2, 10, 7, 6, 8, 4], [2, 7, 9, 4, 5, 1, 18, 4, 15, 16, 25, 12, 4, 7], [10, 15, 3, 9, 7, 3, 1, 4, 7, 9, 2, 15, 6, 19], [10, 16, 8, 13, 20, 4, 5, 9, 1, 8, 4, 13, 4, 5, 3], [5, 4, 9, 13, 4, 5, 1, 15, 11, 10, 4, 5, 5, 6, 12, 10], [10, 3, 2, 14, 6, 1, 30, 4, 7, 4, 15, 3, 12, 12, 6], [13, 4, 5, 27, 13, 4, 5, 14, 1, 12, 3], [4, 25, 3, 7, 4, 1, 25, 4, 24, 4, 8, 13, 3, 15, 4], [15, 16, 8, 9, 16, 7, 4, 20, 1, 25, 4, 7, 11, 4, 4, 12, 9, 3, 5, 11, 4, 23, 4], [8, 16, 10, 13, 4, 1, 4, 5, 16, 18, 3, 5, 10, 3], [30, 1, 18, 4, 16, 12, 1, 17, 3, 5, 5], [8, 4, 15, 16, 2, 12, 1, 4, 11, 13, 3, 12, 2, 17, 16], [18, 7, 3, 20, 4, 1, 23, 13, 6, 8, 2, 12], [30, 6, 13, 5, 1, 7, 1, 2, 3, 8, 2, 5, 23, 7, 2, 20], [9, 3, 15, 6, 9, 13, 20, 1, 15, 4, 16, 8], [4, 12, 2, 26, 1, 17, 7, 20, 10, 7, 20, 11, 13, 6, 24, 3, 11, 27], [13, 2, 7, 8, 13, 1, 11, 13, 4, 5, 10, 4, 7, 4, 5, 4], [5, 4, 6, 25, 3, 1, 9, 4, 25, 4, 13, 4, 8, 13, 3], [19, 4, 8, 11, 6, 1, 13, 2, 7, 2, 10, 3, 4], [13, 3, 7, 6, 20, 16, 25, 3, 1, 4, 23, 2], [15, 4, 8, 4, 9, 6, 8, 13, 3, 1, 13, 6, 7, 3], [4, 12, 2, 8, 8, 4, 5, 10, 7, 6, 1, 17, 16, 7, 12, 4, 5], [2, 7, 8, 4, 5, 1, 4, 12, 9, 16, 5], [10, 2, 23, 6, 7, 4, 13, 1, 23, 16, 7, 9, 2, 3, 5], [4, 20, 9, 2, 25, 3, 5, 1, 6, 9, 6], [15, 3, 14, 16, 2, 12, 1, 7, 4, 15, 4, 12, 13, 6], [19, 3, 11, 9, 6, 7, 3, 4, 1, 11, 13, 2, 7, 5, 20, 4, 25], [8, 6, 6, 4, 13, 1, 25, 3, 15], [25, 4, 9, 30, 4, 1, 18, 3, 5, 25, 2, 7], [30, 3, 5, 20, 16, 4, 5, 1, 27, 13, 6, 16], [25, 2, 9, 4, 5, 1, 14, 13, 4, 14, 13, 4, 10, 4], [11, 13, 7, 3, 8, 1, 17, 12, 4, 8, 25], [4, 5, 16, 8, 13, 1, 8, 7, 3, 10, 13, 4, 7, 4, 5], [30, 3, 32, 23, 3, 5, 1, 12, 3, 16], [24, 2, 3, 23, 6, 1, 11, 4, 3], [8, 4, 8, 4, 5, 1, 18, 4, 7, 9, 6, 19, 3], [30, 2, 7, 2, 15, 20, 1, 11, 6, 12, 12, 3, 5, 8], [2, 12, 3, 27, 4, 23, 2, 9, 13, 1, 13, 2, 11, 13, 9], [15, 4, 15, 10, 6, 13, 1, 4, 12, 6, 23, 4, 3, 10, 20], [10, 3, 2, 14, 6, 1, 13, 2, 7, 5, 4, 5, 10, 6], [30, 6, 13, 5, 1, 14, 6, 7, 2], [15, 4, 7, 25, 1, 7, 6, 8, 2, 5], [11, 13, 3, 4, 32, 20, 3, 5, 14, 1, 12, 3, 16], [30, 16, 12, 3, 16, 8, 1, 11, 13, 4, 18, 3, 7, 6], [14, 7, 2, 14, 6, 7, 20, 1, 25, 4, 7, 11, 27, 15, 4, 7], [7, 6, 23, 2, 7, 9, 1, 15, 16, 12, 25, 2, 7, 5], [15, 3, 11, 13, 4, 2, 12, 1, 3, 19], [23, 2, 5, 6, 3, 9, 1, 10, 2, 8, 30, 4, 7, 10, 3, 5, 8], [15, 1, 23, 2, 9, 13, 1, 15, 11, 11, 4, 7, 19, 3, 12, 12, 2], [18, 4, 8, 11, 4, 12, 1, 8, 18, 3, 5, 11, 2, 15, 4, 3, 12, 12, 2], [13, 2, 3, 25, 2, 1, 10, 4, 12, 10, 7, 16, 18, 32, 12, 3, 5, 25], [3, 13, 4, 23, 1, 25, 4, 15, 2, 12], [30, 2, 17, 17, 7, 2, 20, 1, 24, 2, 3, 5, 7, 2, 23], [8, 13, 7, 2, 20, 4, 8, 1, 19, 4, 8, 4, 5, 4, 24, 4, 12, 4], [27, 13, 2, 5, 14, 1, 13, 4, 5], [7, 2, 8, 13, 4, 5, 3, 1, 18, 2, 7, 2, 7, 4], [10, 4, 19, 3, 10, 1, 8, 4, 12, 6, 5, 2, 7], [16, 1, 30, 6, 8, 2, 18, 13, 1, 8, 11, 13, 6, 2, 18, 17], [8, 4, 7, 4, 1, 12, 2, 24, 3, 8], [30, 3, 4, 10, 3, 1, 26, 16], [15, 3, 8, 16, 5, 1, 13, 24, 4, 5, 14], [11, 2, 12, 3, 4, 1, 11, 6, 7, 6, 5, 4, 32, 19, 3, 12, 12, 4, 12, 6, 23, 6, 8], [30, 4, 15, 2, 8, 1, 23, 4, 23, 23], [15, 4, 16, 7, 3, 11, 3, 6, 1, 11, 4, 8, 9, 3, 12, 12, 6], [11, 12, 4, 16, 10, 2, 1, 8, 3, 7, 12, 3, 5], [15, 4, 7, 9, 3, 5, 1, 18, 7, 3, 5, 11, 2], [8, 11, 6, 9, 9, 1, 7, 2, 2, 10, 2, 7], [10, 4, 19, 3, 10, 1, 23, 12, 16, 2, 15, 25, 2], [10, 4, 19, 3, 10, 1, 5, 4, 8, 11, 2, 5, 2]]\n"
     ]
    }
   ],
   "source": [
    "input_sequences, output_sequences, input_tokenizer, output_tokenizer = preprocess_data(data)"
   ]
  },
  {
   "cell_type": "code",
   "execution_count": 97,
   "id": "3affbb72",
   "metadata": {},
   "outputs": [],
   "source": [
    "X_train, X_val, y_train, y_val = train_test_split(input_sequences, output_sequences, test_size=0.2, random_state=42)"
   ]
  },
  {
   "cell_type": "code",
   "execution_count": 98,
   "id": "7f5df994",
   "metadata": {},
   "outputs": [
    {
     "name": "stdout",
     "output_type": "stream",
     "text": [
      "{' ': 1, 'e': 2, 'i': 3, 'a': 4, 'n': 5, 'o': 6, 'r': 7, 's': 8, 't': 9, 'd': 10, 'c': 11, 'l': 12, 'h': 13, 'g': 14, 'm': 15, 'u': 16, 'f': 17, 'p': 18, 'v': 19, 'y': 20, '.': 21, ',': 22, 'b': 23, 'w': 24, 'k': 25, 'x': 26, 'z': 27, '(': 28, ')': 29, 'j': 30, \"'\": 31, '-': 32, 'q': 33, '\"': 34, '1': 35, '5': 36, '9': 37, '7': 38, ':': 39, '2': 40, '0': 41, '6': 42, '8': 43, '4': 44, 'é': 45, '&': 46, '/': 47, 'ä': 48, '3': 49, 'ô': 50, 'ş': 51, 'ü': 52, 'ó': 53, 'á': 54}\n",
      "{' ': 1, 'e': 2, 'i': 3, 'a': 4, 'n': 5, 'o': 6, 'r': 7, 's': 8, 't': 9, 'd': 10, 'c': 11, 'l': 12, 'h': 13, 'g': 14, 'm': 15, 'u': 16, 'f': 17, 'p': 18, 'v': 19, 'y': 20, '.': 21, ',': 22, 'b': 23, 'w': 24, 'k': 25, 'x': 26, 'z': 27, '(': 28, ')': 29, 'j': 30, \"'\": 31, '-': 32, 'q': 33, '\"': 34, '1': 35, '5': 36, '9': 37, '7': 38, ':': 39, '2': 40, '0': 41, '6': 42, '8': 43, '4': 44, 'é': 45, '&': 46, '/': 47, 'ä': 48, '3': 49, 'ô': 50, 'ş': 51, 'ü': 52, 'ó': 53, 'á': 54}\n"
     ]
    }
   ],
   "source": [
    "input_vocab_size = len(input_tokenizer.word_index) + 1\n",
    "output_vocab_size = len(output_tokenizer.word_index) + 1\n",
    "print(input_tokenizer.word_index)\n",
    "print(output_tokenizer.word_index)\n",
    "model = build_model(input_vocab_size, output_vocab_size)"
   ]
  },
  {
   "cell_type": "code",
   "execution_count": 99,
   "id": "01a94474",
   "metadata": {},
   "outputs": [
    {
     "name": "stdout",
     "output_type": "stream",
     "text": [
      "Epoch 1/10\n",
      "10/10 [==============================] - 7s 541ms/step - loss: 3.2761 - accuracy: 0.8971 - val_loss: 0.1599 - val_accuracy: 0.9973\n",
      "Epoch 2/10\n",
      "10/10 [==============================] - 5s 495ms/step - loss: 0.0401 - accuracy: 0.9973 - val_loss: 0.0223 - val_accuracy: 0.9973\n",
      "Epoch 3/10\n",
      "10/10 [==============================] - 5s 511ms/step - loss: 0.0236 - accuracy: 0.9973 - val_loss: 0.0255 - val_accuracy: 0.9973\n",
      "Epoch 4/10\n",
      "10/10 [==============================] - 5s 493ms/step - loss: 0.0252 - accuracy: 0.9973 - val_loss: 0.0257 - val_accuracy: 0.9973\n",
      "Epoch 5/10\n",
      "10/10 [==============================] - 5s 496ms/step - loss: 0.0246 - accuracy: 0.9973 - val_loss: 0.0244 - val_accuracy: 0.9973\n",
      "Epoch 6/10\n",
      "10/10 [==============================] - 5s 509ms/step - loss: 0.0231 - accuracy: 0.9973 - val_loss: 0.0226 - val_accuracy: 0.9973\n",
      "Epoch 7/10\n",
      "10/10 [==============================] - 5s 497ms/step - loss: 0.0212 - accuracy: 0.9973 - val_loss: 0.0208 - val_accuracy: 0.9973\n",
      "Epoch 8/10\n",
      "10/10 [==============================] - 5s 504ms/step - loss: 0.0195 - accuracy: 0.9973 - val_loss: 0.0193 - val_accuracy: 0.9973\n",
      "Epoch 9/10\n",
      "10/10 [==============================] - 5s 500ms/step - loss: 0.0182 - accuracy: 0.9973 - val_loss: 0.0181 - val_accuracy: 0.9973\n",
      "Epoch 10/10\n",
      "10/10 [==============================] - 5s 497ms/step - loss: 0.0172 - accuracy: 0.9973 - val_loss: 0.0171 - val_accuracy: 0.9973\n"
     ]
    }
   ],
   "source": [
    "history = train_model(model, X_train, y_train, X_val, y_val)"
   ]
  },
  {
   "cell_type": "code",
   "execution_count": 101,
   "id": "9626f3ea",
   "metadata": {},
   "outputs": [
    {
     "ename": "TypeError",
     "evalue": "'Tokenizer' object cannot be interpreted as an integer",
     "output_type": "error",
     "traceback": [
      "\u001b[1;31m---------------------------------------------------------------------------\u001b[0m",
      "\u001b[1;31mTypeError\u001b[0m                                 Traceback (most recent call last)",
      "\u001b[1;32m~\\AppData\\Local\\Temp\\ipykernel_34568\\3833691516.py\u001b[0m in \u001b[0;36m<module>\u001b[1;34m\u001b[0m\n\u001b[0;32m      1\u001b[0m \u001b[0minput_text\u001b[0m \u001b[1;33m=\u001b[0m \u001b[1;34m\"Dr. Bobby Kalb is a renowned radiologist who has made significant contributions to the field of medical imaging. With an illustrious career spanning over three decades, Dr. Kalb has earned a reputation as a leading expert in the field, known for his exceptional skills, extensive knowledge, and innovative research. Education History: Dr. Kalb's passion for medicine was ignited at an early age, leading him to pursue an illustrious educational journey. He graduated magna cum laude from a prestigious medical school, earning his Doctor of Medicine (M.D.) degree. He then completed his residency in diagnostic radiology at a renowned academic medical center, where he honed his skills in various imaging modalities and gained expertise in interpreting complex medical images. Professional History: Dr. Kalb's professional career has been marked by his dedication to advancing the field of radiology. He has held numerous leadership positions in academic and clinical settings, including serving as the Chief of Radiology at several prominent hospitals. He has also been a sought-after consultant for radiology departments across the country, providing expert guidance on complex cases and contributing to the development of cutting-edge imaging protocols. Medical Research and Special Interests: Throughout his career, Dr. Kalb has been actively involved in medical research, with a particular focus on advancing the field of abdominal imaging. His pioneering work has resulted in numerous publications in prestigious medical journals, and he has been invited to present his research findings at national and international conferences. Dr. Kalb's special interests lie in utilizing advanced imaging techniques, such as magnetic resonance imaging (MRI), computed tomography (CT), and ultrasound, to diagnose and manage complex abdominal conditions, including liver diseases, pancreatic disorders, and gastrointestinal malignancies. Books: Dr. Kalb has also authored several authoritative books on radiology, which have become widely recognized as essential references for practitioners in the field. His books cover a wide range of topics, including abdominal imaging, radiologic anatomy, and advanced imaging techniques. His work has been lauded for its comprehensive and practical approach, providing valuable insights and guidance to radiologists at all stages of their careers. Awards Procured in Medical Space: Dr. Kalb's contributions to the field of radiology have been widely recognized, and he has received numerous awards for his excellence in research, teaching, and clinical practice. His accolades include the prestigious \"\u001b[0m\u001b[1;34m\"Radiologist of the Year\"\u001b[0m\u001b[1;34m\" award from a leading radiology society and the \"\u001b[0m\u001b[1;34m\"Outstanding Educator\"\u001b[0m\u001b[1;34m\" award from a renowned academic institution. He has also been recognized for his philanthropic efforts, including his contributions to improving radiology education in underserved areas. Memberships: Dr. Kalb is an active member of several esteemed medical societies, including the American College of Radiology, the Radiological Society of North America, and the Society of Abdominal Radiology. He has also served on the board of directors for several radiology organizations, where he has played an instrumental role in shaping the future of the field. In conclusion, Dr. Bobby Kalb's illustrious career as a radiologist has been marked by his unwavering commitment to advancing the field through his exceptional skills, innovative research, and dedication to teaching. His contributions to abdominal imaging have been widely recognized, and he continues to be a leading authority in the field, making a lasting impact on the practice of radiology.\"\u001b[0m\u001b[1;33m\u001b[0m\u001b[1;33m\u001b[0m\u001b[0m\n\u001b[1;32m----> 2\u001b[1;33m \u001b[0mpredicted_expert_name\u001b[0m \u001b[1;33m=\u001b[0m \u001b[0mpredict\u001b[0m\u001b[1;33m(\u001b[0m\u001b[0mmodel\u001b[0m\u001b[1;33m,\u001b[0m \u001b[0minput_text\u001b[0m\u001b[1;33m,\u001b[0m \u001b[0minput_tokenizer\u001b[0m\u001b[1;33m,\u001b[0m \u001b[0moutput_tokenizer\u001b[0m\u001b[1;33m)\u001b[0m\u001b[1;33m\u001b[0m\u001b[1;33m\u001b[0m\u001b[0m\n\u001b[0m\u001b[0;32m      3\u001b[0m \u001b[0mprint\u001b[0m\u001b[1;33m(\u001b[0m\u001b[1;34m\"Predicted expert name:\"\u001b[0m\u001b[1;33m,\u001b[0m \u001b[0mpredicted_expert_name\u001b[0m\u001b[1;33m)\u001b[0m\u001b[1;33m\u001b[0m\u001b[1;33m\u001b[0m\u001b[0m\n",
      "\u001b[1;32m~\\AppData\\Local\\Temp\\ipykernel_34568\\1783545193.py\u001b[0m in \u001b[0;36mpredict\u001b[1;34m(model, input_text, input_tokenizer, max_len)\u001b[0m\n\u001b[0;32m      4\u001b[0m     \u001b[0minput_sequence\u001b[0m \u001b[1;33m=\u001b[0m \u001b[0minput_tokenizer\u001b[0m\u001b[1;33m.\u001b[0m\u001b[0mtexts_to_sequences\u001b[0m\u001b[1;33m(\u001b[0m\u001b[1;33m[\u001b[0m\u001b[0minput_text\u001b[0m\u001b[1;33m]\u001b[0m\u001b[1;33m)\u001b[0m\u001b[1;33m\u001b[0m\u001b[1;33m\u001b[0m\u001b[0m\n\u001b[0;32m      5\u001b[0m     \u001b[1;31m#input_sequence = input_tokenizer.texts_to_sequences(input_sequence)\u001b[0m\u001b[1;33m\u001b[0m\u001b[1;33m\u001b[0m\u001b[0m\n\u001b[1;32m----> 6\u001b[1;33m     \u001b[0minput_sequence\u001b[0m \u001b[1;33m=\u001b[0m \u001b[0mpad_sequences\u001b[0m\u001b[1;33m(\u001b[0m\u001b[0minput_sequence\u001b[0m\u001b[1;33m,\u001b[0m \u001b[0mmaxlen\u001b[0m\u001b[1;33m=\u001b[0m\u001b[0mmax_len\u001b[0m\u001b[1;33m,\u001b[0m \u001b[0mpadding\u001b[0m\u001b[1;33m=\u001b[0m\u001b[1;34m'post'\u001b[0m\u001b[1;33m)\u001b[0m\u001b[1;33m\u001b[0m\u001b[1;33m\u001b[0m\u001b[0m\n\u001b[0m\u001b[0;32m      7\u001b[0m \u001b[1;33m\u001b[0m\u001b[0m\n\u001b[0;32m      8\u001b[0m     \u001b[0mpredicted_text\u001b[0m \u001b[1;33m=\u001b[0m \u001b[1;34m\"\"\u001b[0m\u001b[1;33m\u001b[0m\u001b[1;33m\u001b[0m\u001b[0m\n",
      "\u001b[1;32m~\\anaconda3\\lib\\site-packages\\keras\\utils\\data_utils.py\u001b[0m in \u001b[0;36mpad_sequences\u001b[1;34m(sequences, maxlen, dtype, padding, truncating, value)\u001b[0m\n\u001b[0;32m   1064\u001b[0m         )\n\u001b[0;32m   1065\u001b[0m \u001b[1;33m\u001b[0m\u001b[0m\n\u001b[1;32m-> 1066\u001b[1;33m     \u001b[0mx\u001b[0m \u001b[1;33m=\u001b[0m \u001b[0mnp\u001b[0m\u001b[1;33m.\u001b[0m\u001b[0mfull\u001b[0m\u001b[1;33m(\u001b[0m\u001b[1;33m(\u001b[0m\u001b[0mnum_samples\u001b[0m\u001b[1;33m,\u001b[0m \u001b[0mmaxlen\u001b[0m\u001b[1;33m)\u001b[0m \u001b[1;33m+\u001b[0m \u001b[0msample_shape\u001b[0m\u001b[1;33m,\u001b[0m \u001b[0mvalue\u001b[0m\u001b[1;33m,\u001b[0m \u001b[0mdtype\u001b[0m\u001b[1;33m=\u001b[0m\u001b[0mdtype\u001b[0m\u001b[1;33m)\u001b[0m\u001b[1;33m\u001b[0m\u001b[1;33m\u001b[0m\u001b[0m\n\u001b[0m\u001b[0;32m   1067\u001b[0m     \u001b[1;32mfor\u001b[0m \u001b[0midx\u001b[0m\u001b[1;33m,\u001b[0m \u001b[0ms\u001b[0m \u001b[1;32min\u001b[0m \u001b[0menumerate\u001b[0m\u001b[1;33m(\u001b[0m\u001b[0msequences\u001b[0m\u001b[1;33m)\u001b[0m\u001b[1;33m:\u001b[0m\u001b[1;33m\u001b[0m\u001b[1;33m\u001b[0m\u001b[0m\n\u001b[0;32m   1068\u001b[0m         \u001b[1;32mif\u001b[0m \u001b[1;32mnot\u001b[0m \u001b[0mlen\u001b[0m\u001b[1;33m(\u001b[0m\u001b[0ms\u001b[0m\u001b[1;33m)\u001b[0m\u001b[1;33m:\u001b[0m\u001b[1;33m\u001b[0m\u001b[1;33m\u001b[0m\u001b[0m\n",
      "\u001b[1;32m~\\anaconda3\\lib\\site-packages\\numpy\\core\\numeric.py\u001b[0m in \u001b[0;36mfull\u001b[1;34m(shape, fill_value, dtype, order, like)\u001b[0m\n\u001b[0;32m    341\u001b[0m         \u001b[0mfill_value\u001b[0m \u001b[1;33m=\u001b[0m \u001b[0masarray\u001b[0m\u001b[1;33m(\u001b[0m\u001b[0mfill_value\u001b[0m\u001b[1;33m)\u001b[0m\u001b[1;33m\u001b[0m\u001b[1;33m\u001b[0m\u001b[0m\n\u001b[0;32m    342\u001b[0m         \u001b[0mdtype\u001b[0m \u001b[1;33m=\u001b[0m \u001b[0mfill_value\u001b[0m\u001b[1;33m.\u001b[0m\u001b[0mdtype\u001b[0m\u001b[1;33m\u001b[0m\u001b[1;33m\u001b[0m\u001b[0m\n\u001b[1;32m--> 343\u001b[1;33m     \u001b[0ma\u001b[0m \u001b[1;33m=\u001b[0m \u001b[0mempty\u001b[0m\u001b[1;33m(\u001b[0m\u001b[0mshape\u001b[0m\u001b[1;33m,\u001b[0m \u001b[0mdtype\u001b[0m\u001b[1;33m,\u001b[0m \u001b[0morder\u001b[0m\u001b[1;33m)\u001b[0m\u001b[1;33m\u001b[0m\u001b[1;33m\u001b[0m\u001b[0m\n\u001b[0m\u001b[0;32m    344\u001b[0m     \u001b[0mmultiarray\u001b[0m\u001b[1;33m.\u001b[0m\u001b[0mcopyto\u001b[0m\u001b[1;33m(\u001b[0m\u001b[0ma\u001b[0m\u001b[1;33m,\u001b[0m \u001b[0mfill_value\u001b[0m\u001b[1;33m,\u001b[0m \u001b[0mcasting\u001b[0m\u001b[1;33m=\u001b[0m\u001b[1;34m'unsafe'\u001b[0m\u001b[1;33m)\u001b[0m\u001b[1;33m\u001b[0m\u001b[1;33m\u001b[0m\u001b[0m\n\u001b[0;32m    345\u001b[0m     \u001b[1;32mreturn\u001b[0m \u001b[0ma\u001b[0m\u001b[1;33m\u001b[0m\u001b[1;33m\u001b[0m\u001b[0m\n",
      "\u001b[1;31mTypeError\u001b[0m: 'Tokenizer' object cannot be interpreted as an integer"
     ]
    }
   ],
   "source": [
    "input_text = \"Dr. Bobby Kalb is a renowned radiologist who has made significant contributions to the field of medical imaging. With an illustrious career spanning over three decades, Dr. Kalb has earned a reputation as a leading expert in the field, known for his exceptional skills, extensive knowledge, and innovative research. Education History: Dr. Kalb's passion for medicine was ignited at an early age, leading him to pursue an illustrious educational journey. He graduated magna cum laude from a prestigious medical school, earning his Doctor of Medicine (M.D.) degree. He then completed his residency in diagnostic radiology at a renowned academic medical center, where he honed his skills in various imaging modalities and gained expertise in interpreting complex medical images. Professional History: Dr. Kalb's professional career has been marked by his dedication to advancing the field of radiology. He has held numerous leadership positions in academic and clinical settings, including serving as the Chief of Radiology at several prominent hospitals. He has also been a sought-after consultant for radiology departments across the country, providing expert guidance on complex cases and contributing to the development of cutting-edge imaging protocols. Medical Research and Special Interests: Throughout his career, Dr. Kalb has been actively involved in medical research, with a particular focus on advancing the field of abdominal imaging. His pioneering work has resulted in numerous publications in prestigious medical journals, and he has been invited to present his research findings at national and international conferences. Dr. Kalb's special interests lie in utilizing advanced imaging techniques, such as magnetic resonance imaging (MRI), computed tomography (CT), and ultrasound, to diagnose and manage complex abdominal conditions, including liver diseases, pancreatic disorders, and gastrointestinal malignancies. Books: Dr. Kalb has also authored several authoritative books on radiology, which have become widely recognized as essential references for practitioners in the field. His books cover a wide range of topics, including abdominal imaging, radiologic anatomy, and advanced imaging techniques. His work has been lauded for its comprehensive and practical approach, providing valuable insights and guidance to radiologists at all stages of their careers. Awards Procured in Medical Space: Dr. Kalb's contributions to the field of radiology have been widely recognized, and he has received numerous awards for his excellence in research, teaching, and clinical practice. His accolades include the prestigious \"\"Radiologist of the Year\"\" award from a leading radiology society and the \"\"Outstanding Educator\"\" award from a renowned academic institution. He has also been recognized for his philanthropic efforts, including his contributions to improving radiology education in underserved areas. Memberships: Dr. Kalb is an active member of several esteemed medical societies, including the American College of Radiology, the Radiological Society of North America, and the Society of Abdominal Radiology. He has also served on the board of directors for several radiology organizations, where he has played an instrumental role in shaping the future of the field. In conclusion, Dr. Bobby Kalb's illustrious career as a radiologist has been marked by his unwavering commitment to advancing the field through his exceptional skills, innovative research, and dedication to teaching. His contributions to abdominal imaging have been widely recognized, and he continues to be a leading authority in the field, making a lasting impact on the practice of radiology.\"\n",
    "predicted_expert_name = predict(model, input_text, input_tokenizer, output_tokenizer)\n",
    "print(\"Predicted expert name:\", predicted_expert_name)"
   ]
  },
  {
   "cell_type": "code",
   "execution_count": null,
   "id": "706477a6",
   "metadata": {},
   "outputs": [],
   "source": []
  }
 ],
 "metadata": {
  "kernelspec": {
   "display_name": "Python 3 (ipykernel)",
   "language": "python",
   "name": "python3"
  },
  "language_info": {
   "codemirror_mode": {
    "name": "ipython",
    "version": 3
   },
   "file_extension": ".py",
   "mimetype": "text/x-python",
   "name": "python",
   "nbconvert_exporter": "python",
   "pygments_lexer": "ipython3",
   "version": "3.9.13"
  }
 },
 "nbformat": 4,
 "nbformat_minor": 5
}
