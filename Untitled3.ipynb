{
 "cells": [
  {
   "cell_type": "code",
   "execution_count": null,
   "id": "146d62ac",
   "metadata": {},
   "outputs": [],
   "source": [
    "import pandas as pd\n",
    "df = pd.read_excel('data.xlsx')"
   ]
  },
  {
   "cell_type": "code",
   "execution_count": null,
   "id": "24f67c8e",
   "metadata": {},
   "outputs": [],
   "source": [
    "df.head(5)"
   ]
  },
  {
   "cell_type": "code",
   "execution_count": null,
   "id": "19eaf4a1",
   "metadata": {},
   "outputs": [],
   "source": [
    "data = []\n",
    "for index, row in df.iterrows():\n",
    "    print(index)\n",
    "    text = row['auth_name']\n",
    "    name = row['fn']\n",
    "    try:\n",
    "        entities = [{'start': text.index(name), 'end': text.index(name) + len(name), 'label': 'PERSON'}]\n",
    "        data.append((text, {'entities': entities}))\n",
    "    except:\n",
    "        pass\n"
   ]
  },
  {
   "cell_type": "code",
   "execution_count": null,
   "id": "2a4d24cd",
   "metadata": {},
   "outputs": [],
   "source": [
    "import json\n",
    "\n",
    "with open('spacy_input.json', 'w') as f:\n",
    "    for d in data:\n",
    "        json.dump({'text': d[0], 'annotations': d[1]}, f)\n",
    "        f.write('\\n')\n"
   ]
  },
  {
   "cell_type": "code",
   "execution_count": null,
   "id": "dd1aa825",
   "metadata": {},
   "outputs": [],
   "source": [
    "data=[]\n",
    "with open('spacy_input.json', 'r') as f:\n",
    "    for line in f:\n",
    "        data.append(json.loads(line))"
   ]
  },
  {
   "cell_type": "code",
   "execution_count": null,
   "id": "270eb3a9",
   "metadata": {},
   "outputs": [],
   "source": [
    "import json\n",
    "\n",
    "# Save the list as a JSON file\n",
    "with open('data.json', 'w') as f:\n",
    "    json.dump(data, f)\n"
   ]
  },
  {
   "cell_type": "code",
   "execution_count": null,
   "id": "f27c2350",
   "metadata": {},
   "outputs": [],
   "source": [
    "with open('data.json', 'r') as f:\n",
    "    data=json.load(f)"
   ]
  },
  {
   "cell_type": "code",
   "execution_count": null,
   "id": "aa3368a6",
   "metadata": {},
   "outputs": [],
   "source": [
    "import spacy\n",
    "import random\n",
    "import json\n",
    "import torch\n",
    "import torch.nn as nn\n",
    "import torch.optim as optim\n",
    "from spacy.util import minibatch, compounding\n",
    "\n",
    "# Define your custom neural network architecture\n",
    "class MyModel(nn.Module):\n",
    "    def __init__(self, input_size, hidden_size, output_size):\n",
    "        super(MyModel, self).__init__()\n",
    "        self.hidden_size = hidden_size\n",
    "        self.lstm = nn.LSTM(input_size, hidden_size, bidirectional=True)\n",
    "        self.fc = nn.Linear(hidden_size*2, output_size)\n",
    "        \n",
    "    def forward(self, x):\n",
    "        h0 = torch.zeros(2, x.size(1), self.hidden_size).to(x.device)\n",
    "        c0 = torch.zeros(2, x.size(1), self.hidden_size).to(x.device)\n",
    "        out, _ = self.lstm(x, (h0, c0))\n",
    "        out = self.fc(out)\n",
    "        return out\n",
    "\n",
    "# Load the blank Spacy model\n",
    "nlp = spacy.blank(\"en\")\n",
    "\n",
    "# Add a named entity recognizer to the pipeline with your custom architecture\n",
    "ner = nlp.add_pipe(\"ner\")\n",
    "output_size = ner.add_label(\"PERSON\")\n",
    "\n",
    "# Load the training data in JSON format\n",
    "with open(\"data.json\", \"r\") as f:\n",
    "    train_data = json.load(f)\n",
    "\n",
    "# Define your optimizer\n",
    "optimizer = optim.Adam(nlp.create_optimizer())\n",
    "\n",
    "# Train the model\n",
    "for epoch in range(10):\n",
    "    random.shuffle(train_data)\n",
    "    losses = {}\n",
    "    batches = minibatch(train_data, size=compounding(4.0, 32.0, 1.001))\n",
    "    for batch in batches:\n",
    "        texts, annotations = zip(*batch)\n",
    "        # Create the input features from the text\n",
    "        input_feats = [...] # Convert texts to input features\n",
    "        input_tensors = torch.tensor(input_feats).float().transpose(0, 1)\n",
    "        # Create the expected output labels\n",
    "        target_labels = [...] # Convert annotations to expected output labels\n",
    "        target_tensors = torch.tensor(target_labels).long().transpose(0, 1)\n",
    "        # Zero the gradients, run the model, and compute the loss\n",
    "        optimizer.zero_grad()\n",
    "        output = nlp.entity(input_tensors)\n",
    "        loss = nn.functional.cross_entropy(output.reshape(-1, output_size), target_tensors.reshape(-1))\n",
    "        # Backpropagate and update the model parameters\n",
    "        loss.backward()\n",
    "        optimizer.step()\n",
    "        if \"ner\" not in losses:\n",
    "            losses[\"ner\"] = loss.item()\n",
    "        else:\n",
    "            losses[\"ner\"] += loss.item()\n",
    "\n",
    "    print(losses)\n",
    "\n",
    "# Save the trained model\n",
    "nlp.to_disk(\"my_model\")\n"
   ]
  },
  {
   "cell_type": "code",
   "execution_count": null,
   "id": "70638b38",
   "metadata": {},
   "outputs": [],
   "source": []
  }
 ],
 "metadata": {
  "kernelspec": {
   "display_name": "Python 3 (ipykernel)",
   "language": "python",
   "name": "python3"
  },
  "language_info": {
   "codemirror_mode": {
    "name": "ipython",
    "version": 3
   },
   "file_extension": ".py",
   "mimetype": "text/x-python",
   "name": "python",
   "nbconvert_exporter": "python",
   "pygments_lexer": "ipython3",
   "version": "3.9.13"
  }
 },
 "nbformat": 4,
 "nbformat_minor": 5
}
