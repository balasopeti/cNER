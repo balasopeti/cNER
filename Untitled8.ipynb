{
 "cells": [
  {
   "cell_type": "code",
   "execution_count": null,
   "id": "7300663e",
   "metadata": {},
   "outputs": [],
   "source": [
    "!python -m spacy info"
   ]
  },
  {
   "cell_type": "code",
   "execution_count": 1,
   "id": "c8bc8c43",
   "metadata": {},
   "outputs": [],
   "source": [
    "import spacy\n",
    "from spacy.tokens import DocBin\n",
    "from tqdm import tqdm\n",
    "\n",
    "#nlp = spacy.blank(\"en\") # load a new spacy model\n",
    "#db = DocBin() # create a DocBin object\n",
    "     "
   ]
  },
  {
   "cell_type": "code",
   "execution_count": 2,
   "id": "8e1fd2d1",
   "metadata": {},
   "outputs": [],
   "source": [
    "import json\n",
    "f = open('annotations22.json')\n",
    "TRAIN_DATA = json.load(f)\n",
    "     "
   ]
  },
  {
   "cell_type": "code",
   "execution_count": 3,
   "id": "03afe44f",
   "metadata": {},
   "outputs": [
    {
     "data": {
      "text/plain": [
       "{'classes': ['COLLEGE', 'PLACE', 'PERSON', 'DEGREE', 'INTEREST'],\n",
       " 'annotations': [[\"Lee was born in Taiwan and received her bachelor's degree from Barnard College, where she majored in chemistry. \\r\",\n",
       "   {'entities': [[0, 3, 'PERSON'], [16, 22, 'PLACE'], [63, 70, 'COLLEGE']]}],\n",
       "  ['She earned her medical degree at the University of Medicine and Dentistry of New Jersey, and completed her residency in Radiation Oncology at the Columbia Presbyterian Medical Center. Lee has two sons and her husband is an academic ENT surgeon. \\r',\n",
       "   {'entities': [[37, 87, 'COLLEGE'],\n",
       "     [120, 138, 'INTEREST'],\n",
       "     [146, 154, 'PLACE'],\n",
       "     [184, 187, 'PERSON']]}],\n",
       "  [' Lee specializes in using intensity-modulated radiation therapy (IMRT) to treat thyroid and head and neck cancers. \\r',\n",
       "   {'entities': [[1, 4, 'PERSON'],\n",
       "     [46, 63, 'INTEREST'],\n",
       "     [80, 87, 'INTEREST'],\n",
       "     [92, 113, 'INTEREST']]}],\n",
       "  [' She served as the principal investigator for the Radiation Therapy Oncology Group (RTOG) in a national trial to refine the use of IMRT for treating nasopharyngeal cancer.\\r',\n",
       "   {'entities': [[50, 76, 'INTEREST'], [149, 170, 'INTEREST']]}],\n",
       "  [\" She is also a member of the RTOG's Head and Neck Cancer Working Group. \\r\",\n",
       "   {'entities': [[36, 56, 'INTEREST']]}],\n",
       "  [' Lee was a co-author of the Cancer Immunotherapy Guidelines for Head and Neck Cancer put forward by the Society for Immunotherapy of Cancer.\\r',\n",
       "   {'entities': [[1, 4, 'PERSON'],\n",
       "     [28, 48, 'INTEREST'],\n",
       "     [64, 77, 'INTEREST']]}],\n",
       "  [' She sits on the editorial board of the Journal of Radiation Oncology. She is also the series editor of the Practical Guides in Radiation Oncology.\\r',\n",
       "   {'entities': [[51, 70, 'INTEREST'], [128, 146, 'INTEREST']]}],\n",
       "  [' In 2017 the American Society for Radiation Oncology designated her as a fellow.    ',\n",
       "   {'entities': [[13, 21, 'PLACE'], [34, 52, 'INTEREST']]}]]}"
      ]
     },
     "execution_count": 3,
     "metadata": {},
     "output_type": "execute_result"
    }
   ],
   "source": [
    "TRAIN_DATA"
   ]
  },
  {
   "cell_type": "code",
   "execution_count": 5,
   "id": "fb02eb3a",
   "metadata": {},
   "outputs": [
    {
     "name": "stderr",
     "output_type": "stream",
     "text": [
      "100%|██████████████████████████████████████████████████████████████████████████████████| 8/8 [00:00<00:00, 1589.81it/s]\n"
     ]
    }
   ],
   "source": [
    "\n",
    "nlp = spacy.blank(\"en\") # load a new spacy model\n",
    "db = DocBin() # create a DocBin object\n",
    "\n",
    "#annotations = TRAIN_DATA['annotations'] if TRAIN_DATA['annotations'] is not None else []\n",
    "#for text, annot in tqdm(annotations):\n",
    "    # Rest of your code\n",
    "for text, annot in tqdm(TRAIN_DATA['annotations']):\n",
    "#for text, annot in tqdm(TRAIN_DATA): \n",
    "    doc = nlp.make_doc(text) \n",
    "    ents = []\n",
    "    for start, end, label in annot[\"entities\"]:\n",
    "        span = doc.char_span(start, end, label=label, alignment_mode=\"contract\")\n",
    "        if span is None:\n",
    "            print(\"Skipping entity\")\n",
    "        else:\n",
    "            ents.append(span)\n",
    "    doc.ents = ents \n",
    "    db.add(doc)\n",
    "\n",
    "db.to_disk(\"./annotations22.spacy\") # save the docbin object"
   ]
  },
  {
   "cell_type": "code",
   "execution_count": 6,
   "id": "1cbedea5",
   "metadata": {},
   "outputs": [
    {
     "name": "stdout",
     "output_type": "stream",
     "text": [
      "\n",
      "[x] The provided output file already exists. To force overwriting the config\n",
      "file, set the --force or -F flag.\n",
      "\n"
     ]
    }
   ],
   "source": [
    "#!python -m spacy init config.cfg --lang en --pipeline ner --optimizer efficiency\n",
    "! python -m spacy init config config.cfg --lang en --pipeline ner --optimize efficiency"
   ]
  },
  {
   "cell_type": "code",
   "execution_count": 7,
   "id": "7f764e5c",
   "metadata": {},
   "outputs": [
    {
     "name": "stdout",
     "output_type": "stream",
     "text": [
      "[i] Saving to output directory: .\n",
      "[i] Using CPU\n",
      "\u001b[1m\n",
      "=========================== Initializing pipeline ===========================\u001b[0m\n",
      "[+] Initialized pipeline\n",
      "\u001b[1m\n",
      "============================= Training pipeline =============================\u001b[0m\n",
      "[i] Pipeline: ['tok2vec', 'ner']\n",
      "[i] Initial learn rate: 0.001\n",
      "E    #       LOSS TOK2VEC  LOSS NER  ENTS_F  ENTS_P  ENTS_R  SCORE \n",
      "---  ------  ------------  --------  ------  ------  ------  ------\n"
     ]
    },
    {
     "name": "stderr",
     "output_type": "stream",
     "text": [
      "[2023-06-07 09:44:45,442] [INFO] Set up nlp object from config\n",
      "[2023-06-07 09:44:45,448] [INFO] Pipeline: ['tok2vec', 'ner']\n",
      "[2023-06-07 09:44:45,450] [INFO] Created vocabulary\n",
      "[2023-06-07 09:44:45,451] [INFO] Finished initializing nlp object\n",
      "[2023-06-07 09:44:45,514] [INFO] Initialized pipeline components: ['tok2vec', 'ner']\n",
      "OMP: Error #15: Initializing libiomp5md.dll, but found libiomp5md.dll already initialized.\n",
      "OMP: Hint This means that multiple copies of the OpenMP runtime have been linked into the program. That is dangerous, since it can degrade performance or cause incorrect results. The best thing to do is to ensure that only a single OpenMP runtime is linked into the process, e.g. by avoiding static linking of the OpenMP runtime in any library. As an unsafe, unsupported, undocumented workaround you can set the environment variable KMP_DUPLICATE_LIB_OK=TRUE to allow the program to continue to execute, but that may cause crashes or silently produce incorrect results. For more information, please see http://www.intel.com/software/products/support/.\n"
     ]
    }
   ],
   "source": [
    "! python -m spacy train config.cfg --output ./ --paths.train ./annotations22.spacy --paths.dev ./annotations22.spacy"
   ]
  },
  {
   "cell_type": "code",
   "execution_count": null,
   "id": "d430931d",
   "metadata": {},
   "outputs": [],
   "source": []
  },
  {
   "cell_type": "code",
   "execution_count": null,
   "id": "48e3e9e4",
   "metadata": {},
   "outputs": [],
   "source": []
  },
  {
   "cell_type": "code",
   "execution_count": null,
   "id": "4d9bb86d",
   "metadata": {},
   "outputs": [],
   "source": []
  },
  {
   "cell_type": "code",
   "execution_count": null,
   "id": "230eb885",
   "metadata": {},
   "outputs": [],
   "source": []
  }
 ],
 "metadata": {
  "kernelspec": {
   "display_name": "Python 3 (ipykernel)",
   "language": "python",
   "name": "python3"
  },
  "language_info": {
   "codemirror_mode": {
    "name": "ipython",
    "version": 3
   },
   "file_extension": ".py",
   "mimetype": "text/x-python",
   "name": "python",
   "nbconvert_exporter": "python",
   "pygments_lexer": "ipython3",
   "version": "3.9.13"
  }
 },
 "nbformat": 4,
 "nbformat_minor": 5
}
