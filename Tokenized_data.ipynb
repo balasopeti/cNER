{
 "cells": [
  {
   "cell_type": "code",
   "execution_count": 30,
   "id": "b2c82442",
   "metadata": {},
   "outputs": [],
   "source": [
    "#import spacy\n",
    "#import pandas as pd"
   ]
  },
  {
   "cell_type": "code",
   "execution_count": 31,
   "id": "0f7e7861",
   "metadata": {},
   "outputs": [],
   "source": [
    "# Load spaCy model for NER\n",
    "nlp = spacy.load('en_core_web_sm')"
   ]
  },
  {
   "cell_type": "code",
   "execution_count": 32,
   "id": "999a6338",
   "metadata": {},
   "outputs": [],
   "source": [
    "# Input data\n",
    "#text = '''Dr. Yue Cao is a highly respected radiologist with a wealth of experience in the field of medical imaging. Born on July 12, 1975, in Shanghai, China, Dr. Cao showed an early aptitude for science and a deep curiosity about the human body, which eventually led him to pursue a career in medicine. Dr. Cao completed his undergraduate studies in Medicine at Fudan University, one of the most prestigious universities in China. He then obtained his medical degree from Shanghai Medical College of Fudan University, where he graduated with top honors. He went on to complete his residency in Radiology at Huashan Hospital, also affiliated with Fudan University, where he developed a keen interest in diagnostic and interventional radiology.   After completing his residency, Dr. Cao embarked on a successful career in radiology, working at several renowned hospitals in China. He later moved to the United States to further his education and professional development. He completed a Fellowship in Radiology at Harvard Medical School and Massachusetts General Hospital, where he gained expertise in advanced imaging techniques and interventional radiology procedures. Dr. Cao's medical career has spanned over two decades, during which he has held various positions at leading medical institutions. Currently, he serves as the Chief of Radiology at a prominent hospital in New York City, where he leads a team of radiologists and oversees the diagnostic imaging services. Dr. Cao is known for his strong interest in medical research and has made significant contributions to the field of radiology. He has published numerous research papers in renowned medical journals and has been invited to speak at national and international conferences on topics such as advanced imaging techniques, minimally invasive procedures, and emerging technologies in radiology. His special interests include oncologic imaging, cardiovascular imaging, and image-guided interventions. Dr. Cao has also been involved in clinical trials and collaborative research projects with other medical institutions, aiming to advance the field of radiology and improve patient care. Dr. Cao has authored several books on radiology, which are widely recognized as valuable resources for medical professionals. His books cover various aspects of radiology, including diagnostic imaging, interventional radiology, and emerging trends in the field. His publications are known for their comprehensive and practical approach, providing insights into the latest advancements in radiology. Dr. Cao's contributions to the field of radiology have been recognized with numerous awards and honors. He has received prestigious awards from professional societies for his outstanding contributions to the field of radiology, including the American College of Radiology (ACR) and the Radiological Society of North America (RSNA). He is also an active member of several professional organizations, including the Society of Interventional Radiology (SIR) and the American Roentgen Ray Society (ARRS). In addition to his professional achievements, Dr. Cao is known for his compassionate and patient-centric approach to healthcare. He is committed to providing the highest quality of care to his patients and is dedicated to advancing the field of radiology through his research, clinical practice, and teaching. Dr. Cao's passion for radiology, his dedication to patient care, and his significant contributions to the field make him a respected and renowned figure in the medical community. His expertise and commitment to excellence continue to impact the field of radiology, improving patient outcomes and advancing the practice of medical imaging.'''"
   ]
  },
  {
   "cell_type": "code",
   "execution_count": 33,
   "id": "7933a815",
   "metadata": {},
   "outputs": [],
   "source": [
    "# Perform NER tokenization\n",
    "#doc = nlp(text)"
   ]
  },
  {
   "cell_type": "code",
   "execution_count": 34,
   "id": "668490d5",
   "metadata": {},
   "outputs": [],
   "source": [
    "# Extract tokenized data\n",
    "#token_data = []\n",
    "#for token in doc:\n",
    " #   token_data.append({\n",
    " #      'Text': token.text,\n",
    " #        'POS': token.tag_,\n",
    " #        'Label': token.ent_type_,\n",
    "        #'Start': token.idx,\n",
    "        #'End': token.idx + len(token.text)\n",
    " #   })\n"
   ]
  },
  {
   "cell_type": "code",
   "execution_count": 35,
   "id": "fb880ea6",
   "metadata": {},
   "outputs": [],
   "source": [
    "# Convert tokenized data to DataFrame\n",
    "#df = pd.DataFrame(token_data)\n"
   ]
  },
  {
   "cell_type": "code",
   "execution_count": 36,
   "id": "76643e58",
   "metadata": {},
   "outputs": [],
   "source": [
    "# Create Excel writer\n",
    "#writer = pd.ExcelWriter('ner_tokenized_data.xlsx')\n"
   ]
  },
  {
   "cell_type": "code",
   "execution_count": 37,
   "id": "7e36727f",
   "metadata": {},
   "outputs": [],
   "source": [
    "# Write data to Excel\n",
    "#df.to_excel(writer, sheet_name='NER Tokens', index=False)\n"
   ]
  },
  {
   "cell_type": "code",
   "execution_count": 38,
   "id": "e4b37552",
   "metadata": {},
   "outputs": [],
   "source": [
    "# Save Excel file\n",
    "#writer.save()\n",
    "\n",
    "#print(\"NER tokenized data saved to Excel successfully.\")"
   ]
  },
  {
   "cell_type": "code",
   "execution_count": 39,
   "id": "52030773",
   "metadata": {},
   "outputs": [],
   "source": [
    "#df = pd.read_excel('ner_tokenized_data.xlsx')"
   ]
  },
  {
   "cell_type": "code",
   "execution_count": 40,
   "id": "7ad409cb",
   "metadata": {},
   "outputs": [],
   "source": [
    "#df"
   ]
  },
  {
   "cell_type": "code",
   "execution_count": 1,
   "id": "cb6b9049",
   "metadata": {},
   "outputs": [],
   "source": [
    "#import here all the libraries\n",
    "import pandas as pd"
   ]
  },
  {
   "cell_type": "code",
   "execution_count": 2,
   "id": "cabd7a7a",
   "metadata": {},
   "outputs": [],
   "source": [
    "#get the file\n",
    "data=pd.read_excel(\"data.xlsx\")"
   ]
  },
  {
   "cell_type": "code",
   "execution_count": 3,
   "id": "1eab2c75",
   "metadata": {},
   "outputs": [],
   "source": [
    "#convert file data list of texts\n",
    "expert=[]\n",
    "for i in range(len(data)):\n",
    "    expert.append(data['auth_name'][i])"
   ]
  },
  {
   "cell_type": "code",
   "execution_count": 44,
   "id": "1ca8b8ab",
   "metadata": {},
   "outputs": [],
   "source": [
    "#prepare the data\n",
    "def dataProcessor(text,sent):\n",
    "    doc = nlp(text)\n",
    "    token_data = []\n",
    "    for token in doc:\n",
    "        token_data.append({\n",
    "            'Sentence':\"Sentence \"+str(i+1),\n",
    "            'Text': token.text,\n",
    "             'POS': token.tag_,\n",
    "             'Label': token.ent_type_,\n",
    "            #'Start': token.idx,\n",
    "            #'End': token.idx + len(token.text)\n",
    "        })\n",
    "    return token_data\n"
   ]
  },
  {
   "cell_type": "code",
   "execution_count": 45,
   "id": "de3502ab",
   "metadata": {},
   "outputs": [],
   "source": [
    "col_name=['Sentence','Text','POS','Label']\n",
    "df= pd.DataFrame(columns=col_name)"
   ]
  },
  {
   "cell_type": "code",
   "execution_count": 28,
   "id": "2bedae70",
   "metadata": {},
   "outputs": [],
   "source": [
    "for i in range(len(expert)):\n",
    "    token_data=dataProcessor(expert[i],i)\n",
    "    dt=pd.DataFrame(token_data)\n",
    "    if(len(df)==0):\n",
    "        df=dt\n",
    "    else:\n",
    "        result=pd.concat([df, dt])\n",
    "        df=result"
   ]
  },
  {
   "cell_type": "code",
   "execution_count": 29,
   "id": "9da1d6b3",
   "metadata": {},
   "outputs": [],
   "source": [
    "df.to_excel('improved_data.xlsx')"
   ]
  }
 ],
 "metadata": {
  "kernelspec": {
   "display_name": "Python 3 (ipykernel)",
   "language": "python",
   "name": "python3"
  },
  "language_info": {
   "codemirror_mode": {
    "name": "ipython",
    "version": 3
   },
   "file_extension": ".py",
   "mimetype": "text/x-python",
   "name": "python",
   "nbconvert_exporter": "python",
   "pygments_lexer": "ipython3",
   "version": "3.9.13"
  }
 },
 "nbformat": 4,
 "nbformat_minor": 5
}
